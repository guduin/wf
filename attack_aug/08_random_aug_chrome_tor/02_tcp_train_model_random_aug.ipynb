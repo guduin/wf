{
 "cells": [
  {
   "cell_type": "code",
   "execution_count": 1,
   "id": "5c831490",
   "metadata": {},
   "outputs": [],
   "source": [
    "import numpy as np\n",
    "import matplotlib.pyplot as plt\n",
    "import pandas as pd\n",
    "from keras import Sequential\n",
    "from keras import layers\n",
    "from keras.layers import Conv1D, MaxPooling1D, Flatten, Dense, Dropout\n",
    "from keras.optimizers import adam_v2\n",
    "from tensorflow.keras.utils import to_categorical\n",
    "from keras.layers import Conv2D, MaxPooling2D, Flatten, Dense\n",
    "import random\n",
    "from tqdm.notebook import tqdm\n",
    "import collections"
   ]
  },
  {
   "cell_type": "code",
   "execution_count": null,
   "id": "4e510979",
   "metadata": {},
   "outputs": [],
   "source": []
  },
  {
   "cell_type": "code",
   "execution_count": 2,
   "id": "5140bf7f",
   "metadata": {},
   "outputs": [],
   "source": [
    "df = pd.read_csv('F:/data_chrome/3_data/data.csv', header=None)\n",
    "df = df.sort_values([1, 0])\n",
    "\n",
    "train = np.array(df[0 : 7000].sample(7000))\n",
    "train_data = train[:, 2:502] # shape (7000, 500), 100 website, 70 repeat\n",
    "train_index = train[:, 0] # shape (7000,), 0-99 range, random\n",
    "\n",
    "test = np.array(df[7000 : 10000].sort_values([0, 1]))\n",
    "test_data = test[:, 2:502] # shape (3000, 500), 100 website, 70 repeat\n",
    "test_index = test[:, 0] # shape (3000,), 0-99 range, sequence"
   ]
  },
  {
   "cell_type": "code",
   "execution_count": 3,
   "id": "46ce90fb",
   "metadata": {},
   "outputs": [],
   "source": [
    "def get_data_length(data_vector):\n",
    "    data_length = 500\n",
    "    for i in range(500):\n",
    "        if data_vector[i] == 0:\n",
    "            data_length = i\n",
    "            break\n",
    "    return data_length\n",
    "\n",
    "def add_noise(data_vector, data_length, count):\n",
    "    for i in range(count):\n",
    "        location = random.randint(0, data_length - 1)\n",
    "        packet = random.randint(-1600, 1600)\n",
    "        data_vector = np.insert(data_vector, location, packet)\n",
    "        if data_length < 500:\n",
    "            data_length += 1\n",
    "    \n",
    "    return data_vector[0 : 500]"
   ]
  },
  {
   "cell_type": "code",
   "execution_count": 4,
   "id": "053cc945",
   "metadata": {},
   "outputs": [],
   "source": [
    "train_data_aug = train_data.copy()\n",
    "train_index_aug = train_index.copy()\n",
    "for j in range(5):\n",
    "    train_data_aug_one = train_data.copy()\n",
    "    for i in range(7000):\n",
    "        length = get_data_length(train_data_aug_one[i])\n",
    "        rate = random.randint(0, 100) / 100\n",
    "        train_data_aug_one[i] = add_noise(train_data_aug_one[i], length, int(length * rate))\n",
    "    train_data_aug = np.append(train_data_aug, train_data_aug_one, axis=0)\n",
    "    train_index_aug = np.append(train_index_aug, train_index, axis=0)"
   ]
  },
  {
   "cell_type": "code",
   "execution_count": 5,
   "id": "7db277a4",
   "metadata": {},
   "outputs": [],
   "source": [
    "model  = Sequential()\n",
    "model.add(Conv1D(input_shape = (500, 1),\n",
    "                 filters=32,\n",
    "                 kernel_size=5,\n",
    "                 padding = 'same',\n",
    "                 strides=1,\n",
    "                 activation='relu'))\n",
    "model.add(Conv1D(filters=32,\n",
    "                 kernel_size=5,\n",
    "                 padding = 'same',\n",
    "                 strides=1,\n",
    "                 activation='relu'))\n",
    "model.add(MaxPooling1D(pool_size=2))\n",
    "model.add(Conv1D(filters=64,\n",
    "                 kernel_size=5,\n",
    "                 padding = 'same',\n",
    "                 activation='relu'))\n",
    "model.add(Conv1D(filters=64,\n",
    "                 kernel_size=5,\n",
    "                 padding = 'same',\n",
    "                 activation='relu'))\n",
    "model.add(MaxPooling1D(pool_size=2))\n",
    "model.add(Conv1D(filters=128,\n",
    "                 kernel_size=5,\n",
    "                 padding = 'same',\n",
    "                 activation='relu'))\n",
    "model.add(Conv1D(filters=128,\n",
    "                 kernel_size=5,\n",
    "                 padding = 'same',\n",
    "                 activation='relu'))\n",
    "model.add(MaxPooling1D(pool_size=2))\n",
    "model.add(Conv1D(filters=256,\n",
    "                 kernel_size=5,\n",
    "                 padding = 'same',\n",
    "                 activation='relu'))\n",
    "model.add(Conv1D(filters=256,\n",
    "                 kernel_size=5,\n",
    "                 padding = 'same',\n",
    "                 activation='relu'))\n",
    "model.add(MaxPooling1D(pool_size=2))\n",
    "model.add(Flatten())\n",
    "model.add(Dense(256, activation = 'relu'))\n",
    "model.add(Dense(100, activation='softmax'))\n",
    "model.compile(loss='categorical_crossentropy',\n",
    "              optimizer=adam_v2.Adam(learning_rate=0.001),\n",
    "              metrics='accuracy')"
   ]
  },
  {
   "cell_type": "code",
   "execution_count": 6,
   "id": "4398969c",
   "metadata": {},
   "outputs": [
    {
     "name": "stdout",
     "output_type": "stream",
     "text": [
      "Epoch 1/10\n",
      "919/919 [==============================] - 66s 71ms/step - loss: 1.7871 - accuracy: 0.5203 - val_loss: 0.9436 - val_accuracy: 0.7246\n",
      "Epoch 2/10\n",
      "919/919 [==============================] - 65s 71ms/step - loss: 0.6005 - accuracy: 0.8194 - val_loss: 0.7991 - val_accuracy: 0.7596\n",
      "Epoch 3/10\n",
      "919/919 [==============================] - 62s 68ms/step - loss: 0.4000 - accuracy: 0.8757 - val_loss: 0.5232 - val_accuracy: 0.8396\n",
      "Epoch 4/10\n",
      "919/919 [==============================] - 62s 68ms/step - loss: 0.2913 - accuracy: 0.9050 - val_loss: 0.4832 - val_accuracy: 0.8594\n",
      "Epoch 5/10\n",
      "919/919 [==============================] - 62s 68ms/step - loss: 0.2227 - accuracy: 0.9269 - val_loss: 0.4954 - val_accuracy: 0.8643\n",
      "Epoch 6/10\n",
      "919/919 [==============================] - 62s 68ms/step - loss: 0.1714 - accuracy: 0.9421 - val_loss: 0.5034 - val_accuracy: 0.8613\n",
      "Epoch 7/10\n",
      "919/919 [==============================] - 60s 65ms/step - loss: 0.1614 - accuracy: 0.9480 - val_loss: 0.5949 - val_accuracy: 0.8495\n",
      "Epoch 8/10\n",
      "919/919 [==============================] - 64s 70ms/step - loss: 0.1264 - accuracy: 0.9577 - val_loss: 0.5634 - val_accuracy: 0.8583\n",
      "Epoch 9/10\n",
      "919/919 [==============================] - 64s 69ms/step - loss: 0.1137 - accuracy: 0.9630 - val_loss: 0.5860 - val_accuracy: 0.8592\n",
      "Epoch 10/10\n",
      "919/919 [==============================] - 63s 69ms/step - loss: 0.1032 - accuracy: 0.9661 - val_loss: 0.6007 - val_accuracy: 0.8631\n"
     ]
    },
    {
     "data": {
      "text/plain": [
       "<keras.callbacks.History at 0x2b346061608>"
      ]
     },
     "execution_count": 6,
     "metadata": {},
     "output_type": "execute_result"
    }
   ],
   "source": [
    "model.fit(train_data_aug.astype('float32')/1600, to_categorical(train_index_aug), epochs = 10, validation_split=0.3)"
   ]
  },
  {
   "cell_type": "code",
   "execution_count": 7,
   "id": "1686907b",
   "metadata": {},
   "outputs": [
    {
     "name": "stdout",
     "output_type": "stream",
     "text": [
      "94/94 [==============================] - 2s 17ms/step - loss: 0.6540 - accuracy: 0.9237\n"
     ]
    },
    {
     "data": {
      "text/plain": [
       "[0.6540248394012451, 0.9236666560173035]"
      ]
     },
     "execution_count": 7,
     "metadata": {},
     "output_type": "execute_result"
    }
   ],
   "source": [
    "model.evaluate(test_data.astype('float32')/1600, to_categorical(test_index))"
   ]
  },
  {
   "cell_type": "code",
   "execution_count": 8,
   "id": "cbeffb6a",
   "metadata": {},
   "outputs": [],
   "source": [
    "model.save('data/model_tcp_aug.h5')"
   ]
  },
  {
   "cell_type": "code",
   "execution_count": null,
   "id": "9d811aa4",
   "metadata": {},
   "outputs": [],
   "source": []
  },
  {
   "cell_type": "code",
   "execution_count": null,
   "id": "d5f86ddc",
   "metadata": {},
   "outputs": [],
   "source": []
  }
 ],
 "metadata": {
  "kernelspec": {
   "display_name": "Python 3 (ipykernel)",
   "language": "python",
   "name": "python3"
  },
  "language_info": {
   "codemirror_mode": {
    "name": "ipython",
    "version": 3
   },
   "file_extension": ".py",
   "mimetype": "text/x-python",
   "name": "python",
   "nbconvert_exporter": "python",
   "pygments_lexer": "ipython3",
   "version": "3.7.13"
  }
 },
 "nbformat": 4,
 "nbformat_minor": 5
}
