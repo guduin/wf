{
 "cells": [
  {
   "cell_type": "code",
   "execution_count": 1,
   "id": "3cefb3f1",
   "metadata": {},
   "outputs": [],
   "source": [
    "import numpy as np\n",
    "import matplotlib.pyplot as plt\n",
    "import pandas as pd\n",
    "from keras import Sequential\n",
    "from keras import layers\n",
    "from keras.layers import Conv1D, MaxPooling1D, Flatten, Dense, Dropout\n",
    "from keras.optimizers import adam_v2\n",
    "from tensorflow.keras.utils import to_categorical\n",
    "from keras.layers import Conv2D, MaxPooling2D, Flatten, Dense\n",
    "import random\n",
    "from tqdm.notebook import tqdm\n",
    "import collections"
   ]
  },
  {
   "cell_type": "code",
   "execution_count": null,
   "id": "0c7b5ff5",
   "metadata": {},
   "outputs": [],
   "source": []
  },
  {
   "cell_type": "code",
   "execution_count": 2,
   "id": "165506d1",
   "metadata": {},
   "outputs": [],
   "source": [
    "train_data = np.array(pd.read_pickle('F:/df/NoDef/X_train_NoDef.pkl')) # shape (76000, 5000), 95 website, 800 repeat\n",
    "train_index = np.array(pd.read_pickle('F:/df/NoDef/y_train_NoDef.pkl')) # shape (76000,), 0-94 range, random\n",
    "\n",
    "test_data = np.array(pd.read_pickle('F:/df/NoDef/X_test_NoDef.pkl')) # shape (9500, 5000), 95 website, 100 repeat\n",
    "test_index = np.array(pd.read_pickle('F:/df/NoDef/y_test_NoDef.pkl')) # shape (9500,), 0-94 range, sequence"
   ]
  },
  {
   "cell_type": "code",
   "execution_count": 3,
   "id": "cad31d8c",
   "metadata": {},
   "outputs": [],
   "source": [
    "train_data = train_data[0 : 7600]\n",
    "train_index = train_index[0 : 7600]"
   ]
  },
  {
   "cell_type": "code",
   "execution_count": 4,
   "id": "6d6c944b",
   "metadata": {},
   "outputs": [],
   "source": [
    "def get_data_length(data_vector):\n",
    "    data_length = 5000\n",
    "    for i in range(5000):\n",
    "        if data_vector[i] == 0:\n",
    "            data_length = i\n",
    "            break\n",
    "    return data_length\n",
    "\n",
    "def walkie_talkie(data_vector, buffer_len):\n",
    "    buffer = list()\n",
    "    data_output = np.zeros(5000, dtype=int)\n",
    "    index = 0\n",
    "    for i in data_vector:\n",
    "        buffer.append(i)\n",
    "        if len(buffer) >= buffer_len:\n",
    "            stat = collections.Counter(buffer)\n",
    "            for j in range(stat[1]):\n",
    "                data_output[index] = 1\n",
    "                index += 1\n",
    "            for j in range(stat[-1]):\n",
    "                data_output[index] = -1\n",
    "                index += 1\n",
    "            buffer.clear()\n",
    "            if stat[0] > 0:\n",
    "                break\n",
    "    return data_output\n",
    "\n",
    "def add_noise(data_vector, data_length, count):\n",
    "    for i in range(count):\n",
    "        location = random.randint(0, data_length - 1)\n",
    "        packet = data_vector[location]\n",
    "        data_vector = np.insert(data_vector, location, packet)\n",
    "        if data_length < 5000:\n",
    "            data_length += 1\n",
    "    \n",
    "    return data_vector[0 : 5000]"
   ]
  },
  {
   "cell_type": "code",
   "execution_count": 5,
   "id": "871b74c4",
   "metadata": {},
   "outputs": [
    {
     "data": {
      "application/json": {
       "ascii": false,
       "bar_format": null,
       "colour": null,
       "elapsed": 0.017006397247314453,
       "initial": 0,
       "n": 0,
       "ncols": null,
       "nrows": 29,
       "postfix": null,
       "prefix": "",
       "rate": null,
       "total": 7600,
       "unit": "it",
       "unit_divisor": 1000,
       "unit_scale": false
      },
      "application/vnd.jupyter.widget-view+json": {
       "model_id": "e995d6e7387e44bc93c1a0b2f9db67f2",
       "version_major": 2,
       "version_minor": 0
      },
      "text/plain": [
       "  0%|          | 0/7600 [00:00<?, ?it/s]"
      ]
     },
     "metadata": {},
     "output_type": "display_data"
    },
    {
     "data": {
      "application/json": {
       "ascii": false,
       "bar_format": null,
       "colour": null,
       "elapsed": 0.014004945755004883,
       "initial": 0,
       "n": 0,
       "ncols": null,
       "nrows": 29,
       "postfix": null,
       "prefix": "",
       "rate": null,
       "total": 7600,
       "unit": "it",
       "unit_divisor": 1000,
       "unit_scale": false
      },
      "application/vnd.jupyter.widget-view+json": {
       "model_id": "f48d330fd7ee4423a1a3e07c905e6c8e",
       "version_major": 2,
       "version_minor": 0
      },
      "text/plain": [
       "  0%|          | 0/7600 [00:00<?, ?it/s]"
      ]
     },
     "metadata": {},
     "output_type": "display_data"
    },
    {
     "data": {
      "application/json": {
       "ascii": false,
       "bar_format": null,
       "colour": null,
       "elapsed": 0.014012813568115234,
       "initial": 0,
       "n": 0,
       "ncols": null,
       "nrows": 29,
       "postfix": null,
       "prefix": "",
       "rate": null,
       "total": 7600,
       "unit": "it",
       "unit_divisor": 1000,
       "unit_scale": false
      },
      "application/vnd.jupyter.widget-view+json": {
       "model_id": "5d18e2f9c24647b3b7295ee898a0c979",
       "version_major": 2,
       "version_minor": 0
      },
      "text/plain": [
       "  0%|          | 0/7600 [00:00<?, ?it/s]"
      ]
     },
     "metadata": {},
     "output_type": "display_data"
    },
    {
     "data": {
      "application/json": {
       "ascii": false,
       "bar_format": null,
       "colour": null,
       "elapsed": 0.01600027084350586,
       "initial": 0,
       "n": 0,
       "ncols": null,
       "nrows": 29,
       "postfix": null,
       "prefix": "",
       "rate": null,
       "total": 7600,
       "unit": "it",
       "unit_divisor": 1000,
       "unit_scale": false
      },
      "application/vnd.jupyter.widget-view+json": {
       "model_id": "4a0b704201a74dddbcd33629c40d3c89",
       "version_major": 2,
       "version_minor": 0
      },
      "text/plain": [
       "  0%|          | 0/7600 [00:00<?, ?it/s]"
      ]
     },
     "metadata": {},
     "output_type": "display_data"
    },
    {
     "data": {
      "application/json": {
       "ascii": false,
       "bar_format": null,
       "colour": null,
       "elapsed": 0.01502227783203125,
       "initial": 0,
       "n": 0,
       "ncols": null,
       "nrows": 29,
       "postfix": null,
       "prefix": "",
       "rate": null,
       "total": 7600,
       "unit": "it",
       "unit_divisor": 1000,
       "unit_scale": false
      },
      "application/vnd.jupyter.widget-view+json": {
       "model_id": "3ddeebb9e3f944e6af67e2790bbfe034",
       "version_major": 2,
       "version_minor": 0
      },
      "text/plain": [
       "  0%|          | 0/7600 [00:00<?, ?it/s]"
      ]
     },
     "metadata": {},
     "output_type": "display_data"
    }
   ],
   "source": [
    "train_data_aug = train_data.copy()\n",
    "train_index_aug = train_index.copy()\n",
    "for j in range(5):\n",
    "    train_data_aug_one = train_data.copy()\n",
    "    for i in tqdm(range(7600)):\n",
    "        length = get_data_length(train_data_aug_one[i])\n",
    "        rate = random.randint(0, 100) / 100\n",
    "        train_data_aug_one[i] = walkie_talkie(train_data_aug_one[i], 20)\n",
    "        train_data_aug_one[i] = add_noise(train_data_aug_one[i], length, int(length * rate))\n",
    "    train_data_aug = np.append(train_data_aug, train_data_aug_one, axis=0)\n",
    "    train_index_aug = np.append(train_index_aug, train_index, axis=0)"
   ]
  },
  {
   "cell_type": "code",
   "execution_count": null,
   "id": "3b42c36d",
   "metadata": {},
   "outputs": [],
   "source": []
  },
  {
   "cell_type": "code",
   "execution_count": 6,
   "id": "3f25a423",
   "metadata": {},
   "outputs": [],
   "source": [
    "# DF model used for non-defended dataset\n",
    "from keras.models import Sequential\n",
    "from keras.layers import Conv1D, MaxPooling1D, BatchNormalization\n",
    "from keras.layers.core import Activation, Flatten, Dense, Dropout\n",
    "from keras.layers.activation import ELU\n",
    "from keras.initializers import glorot_uniform\n",
    "\n",
    "class DFNet:\n",
    "    @staticmethod\n",
    "    def build(input_shape, classes):\n",
    "        model = Sequential()\n",
    "        #Block1\n",
    "        filter_num = ['None',32,64,128,256]\n",
    "        kernel_size = ['None',8,8,8,8]\n",
    "        conv_stride_size = ['None',1,1,1,1]\n",
    "        pool_stride_size = ['None',4,4,4,4]\n",
    "        pool_size = ['None',8,8,8,8]\n",
    "\n",
    "        model.add(Conv1D(filters=filter_num[1], kernel_size=kernel_size[1], input_shape=input_shape,\n",
    "                         strides=conv_stride_size[1], padding='same',\n",
    "                         name='block1_conv1'))\n",
    "        model.add(BatchNormalization(axis=-1))\n",
    "        model.add(ELU(alpha=1.0, name='block1_adv_act1'))\n",
    "        model.add(Conv1D(filters=filter_num[1], kernel_size=kernel_size[1],\n",
    "                         strides=conv_stride_size[1], padding='same',\n",
    "                         name='block1_conv2'))\n",
    "        model.add(BatchNormalization(axis=-1))\n",
    "        model.add(ELU(alpha=1.0, name='block1_adv_act2'))\n",
    "        model.add(MaxPooling1D(pool_size=pool_size[1], strides=pool_stride_size[1],\n",
    "                               padding='same', name='block1_pool'))\n",
    "        model.add(Dropout(0.1, name='block1_dropout'))\n",
    "\n",
    "        model.add(Conv1D(filters=filter_num[2], kernel_size=kernel_size[2],\n",
    "                         strides=conv_stride_size[2], padding='same',\n",
    "                         name='block2_conv1'))\n",
    "        model.add(BatchNormalization())\n",
    "        model.add(Activation('relu', name='block2_act1'))\n",
    "\n",
    "        model.add(Conv1D(filters=filter_num[2], kernel_size=kernel_size[2],\n",
    "                         strides=conv_stride_size[2], padding='same',\n",
    "                         name='block2_conv2'))\n",
    "        model.add(BatchNormalization())\n",
    "        model.add(Activation('relu', name='block2_act2'))\n",
    "        model.add(MaxPooling1D(pool_size=pool_size[2], strides=pool_stride_size[3],\n",
    "                               padding='same', name='block2_pool'))\n",
    "        model.add(Dropout(0.1, name='block2_dropout'))\n",
    "\n",
    "        model.add(Conv1D(filters=filter_num[3], kernel_size=kernel_size[3],\n",
    "                         strides=conv_stride_size[3], padding='same',\n",
    "                         name='block3_conv1'))\n",
    "        model.add(BatchNormalization())\n",
    "        model.add(Activation('relu', name='block3_act1'))\n",
    "        model.add(Conv1D(filters=filter_num[3], kernel_size=kernel_size[3],\n",
    "                         strides=conv_stride_size[3], padding='same',\n",
    "                         name='block3_conv2'))\n",
    "        model.add(BatchNormalization())\n",
    "        model.add(Activation('relu', name='block3_act2'))\n",
    "        model.add(MaxPooling1D(pool_size=pool_size[3], strides=pool_stride_size[3],\n",
    "                               padding='same', name='block3_pool'))\n",
    "        model.add(Dropout(0.1, name='block3_dropout'))\n",
    "\n",
    "        model.add(Conv1D(filters=filter_num[4], kernel_size=kernel_size[4],\n",
    "                         strides=conv_stride_size[4], padding='same',\n",
    "                         name='block4_conv1'))\n",
    "        model.add(BatchNormalization())\n",
    "        model.add(Activation('relu', name='block4_act1'))\n",
    "        model.add(Conv1D(filters=filter_num[4], kernel_size=kernel_size[4],\n",
    "                         strides=conv_stride_size[4], padding='same',\n",
    "                         name='block4_conv2'))\n",
    "        model.add(BatchNormalization())\n",
    "        model.add(Activation('relu', name='block4_act2'))\n",
    "        model.add(MaxPooling1D(pool_size=pool_size[4], strides=pool_stride_size[4],\n",
    "                               padding='same', name='block4_pool'))\n",
    "        model.add(Dropout(0.1, name='block4_dropout'))\n",
    "\n",
    "        model.add(Flatten(name='flatten'))\n",
    "        model.add(Dense(512, kernel_initializer=glorot_uniform(seed=0), name='fc1'))\n",
    "        model.add(BatchNormalization())\n",
    "        model.add(Activation('relu', name='fc1_act'))\n",
    "\n",
    "        model.add(Dropout(0.7, name='fc1_dropout'))\n",
    "\n",
    "        model.add(Dense(512, kernel_initializer=glorot_uniform(seed=0), name='fc2'))\n",
    "        model.add(BatchNormalization())\n",
    "        model.add(Activation('relu', name='fc2_act'))\n",
    "\n",
    "        model.add(Dropout(0.5, name='fc2_dropout'))\n",
    "\n",
    "        model.add(Dense(classes, kernel_initializer=glorot_uniform(seed=0), name='fc3'))\n",
    "        model.add(Activation('softmax', name=\"softmax\"))\n",
    "        return model\n"
   ]
  },
  {
   "cell_type": "code",
   "execution_count": 7,
   "id": "f35f1058",
   "metadata": {},
   "outputs": [],
   "source": [
    "model = DFNet.build(input_shape=(5000,1), classes=95)"
   ]
  },
  {
   "cell_type": "code",
   "execution_count": 8,
   "id": "065ddc2c",
   "metadata": {},
   "outputs": [],
   "source": [
    "from keras.optimizers import Adamax\n",
    "\n",
    "model.compile(loss=\"categorical_crossentropy\", \n",
    "              optimizer=Adamax(learning_rate=0.002, beta_1=0.9, beta_2=0.999, epsilon=1e-08, decay=0.0), \n",
    "              metrics=[\"accuracy\"])"
   ]
  },
  {
   "cell_type": "code",
   "execution_count": 9,
   "id": "c19238e7",
   "metadata": {},
   "outputs": [
    {
     "name": "stdout",
     "output_type": "stream",
     "text": [
      "Epoch 1/30\n",
      "998/998 [==============================] - 495s 494ms/step - loss: 3.1904 - accuracy: 0.1952 - val_loss: 1.8732 - val_accuracy: 0.4566\n",
      "Epoch 2/30\n",
      "998/998 [==============================] - 474s 475ms/step - loss: 1.8332 - accuracy: 0.4758 - val_loss: 1.0406 - val_accuracy: 0.7220\n",
      "Epoch 3/30\n",
      "998/998 [==============================] - 479s 480ms/step - loss: 1.3520 - accuracy: 0.6111 - val_loss: 0.7762 - val_accuracy: 0.7770\n",
      "Epoch 4/30\n",
      "998/998 [==============================] - 480s 481ms/step - loss: 1.0883 - accuracy: 0.6894 - val_loss: 0.6127 - val_accuracy: 0.8282\n",
      "Epoch 5/30\n",
      "998/998 [==============================] - 480s 481ms/step - loss: 0.9174 - accuracy: 0.7370 - val_loss: 0.5651 - val_accuracy: 0.8384\n",
      "Epoch 6/30\n",
      "998/998 [==============================] - 483s 484ms/step - loss: 0.7833 - accuracy: 0.7772 - val_loss: 0.4225 - val_accuracy: 0.8763\n",
      "Epoch 7/30\n",
      "998/998 [==============================] - 481s 482ms/step - loss: 0.6862 - accuracy: 0.8040 - val_loss: 0.4044 - val_accuracy: 0.8834\n",
      "Epoch 8/30\n",
      "998/998 [==============================] - 482s 483ms/step - loss: 0.6105 - accuracy: 0.8262 - val_loss: 0.3590 - val_accuracy: 0.8956\n",
      "Epoch 9/30\n",
      "998/998 [==============================] - 483s 484ms/step - loss: 0.5586 - accuracy: 0.8396 - val_loss: 0.2984 - val_accuracy: 0.9136\n",
      "Epoch 10/30\n",
      "998/998 [==============================] - 484s 485ms/step - loss: 0.5160 - accuracy: 0.8522 - val_loss: 0.3552 - val_accuracy: 0.8934\n",
      "Epoch 11/30\n",
      "998/998 [==============================] - 480s 481ms/step - loss: 0.4661 - accuracy: 0.8640 - val_loss: 0.2620 - val_accuracy: 0.9238\n",
      "Epoch 12/30\n",
      "998/998 [==============================] - 481s 482ms/step - loss: 0.4380 - accuracy: 0.8718 - val_loss: 0.2395 - val_accuracy: 0.9289\n",
      "Epoch 13/30\n",
      "998/998 [==============================] - 483s 484ms/step - loss: 0.4087 - accuracy: 0.8791 - val_loss: 0.2389 - val_accuracy: 0.9285\n",
      "Epoch 14/30\n",
      "998/998 [==============================] - 482s 483ms/step - loss: 0.3777 - accuracy: 0.8897 - val_loss: 0.2270 - val_accuracy: 0.9317\n",
      "Epoch 15/30\n",
      "998/998 [==============================] - 483s 484ms/step - loss: 0.3592 - accuracy: 0.8939 - val_loss: 0.2184 - val_accuracy: 0.9354\n",
      "Epoch 16/30\n",
      "998/998 [==============================] - 483s 484ms/step - loss: 0.3345 - accuracy: 0.8995 - val_loss: 0.2010 - val_accuracy: 0.9417\n",
      "Epoch 17/30\n",
      "998/998 [==============================] - 486s 487ms/step - loss: 0.3142 - accuracy: 0.9075 - val_loss: 0.1895 - val_accuracy: 0.9419\n",
      "Epoch 18/30\n",
      "998/998 [==============================] - 488s 489ms/step - loss: 0.2992 - accuracy: 0.9113 - val_loss: 0.1898 - val_accuracy: 0.9404\n",
      "Epoch 19/30\n",
      "998/998 [==============================] - 484s 485ms/step - loss: 0.2882 - accuracy: 0.9146 - val_loss: 0.1859 - val_accuracy: 0.9436\n",
      "Epoch 20/30\n",
      "998/998 [==============================] - 485s 486ms/step - loss: 0.2680 - accuracy: 0.9199 - val_loss: 0.1898 - val_accuracy: 0.9431\n",
      "Epoch 21/30\n",
      "998/998 [==============================] - 484s 485ms/step - loss: 0.2542 - accuracy: 0.9236 - val_loss: 0.1779 - val_accuracy: 0.9459\n",
      "Epoch 22/30\n",
      "998/998 [==============================] - 489s 490ms/step - loss: 0.2429 - accuracy: 0.9260 - val_loss: 0.1666 - val_accuracy: 0.9481\n",
      "Epoch 23/30\n",
      "998/998 [==============================] - 486s 487ms/step - loss: 0.2341 - accuracy: 0.9311 - val_loss: 0.1536 - val_accuracy: 0.9549\n",
      "Epoch 24/30\n",
      "998/998 [==============================] - 483s 484ms/step - loss: 0.2205 - accuracy: 0.9339 - val_loss: 0.1525 - val_accuracy: 0.9522\n",
      "Epoch 25/30\n",
      "998/998 [==============================] - 481s 482ms/step - loss: 0.2173 - accuracy: 0.9337 - val_loss: 0.1598 - val_accuracy: 0.9515\n",
      "Epoch 26/30\n",
      "998/998 [==============================] - 480s 481ms/step - loss: 0.2123 - accuracy: 0.9360 - val_loss: 0.1502 - val_accuracy: 0.9539\n",
      "Epoch 27/30\n",
      "998/998 [==============================] - 480s 481ms/step - loss: 0.1944 - accuracy: 0.9402 - val_loss: 0.1551 - val_accuracy: 0.9546\n",
      "Epoch 28/30\n",
      "998/998 [==============================] - 484s 485ms/step - loss: 0.1882 - accuracy: 0.9429 - val_loss: 0.1440 - val_accuracy: 0.9580\n",
      "Epoch 29/30\n",
      "998/998 [==============================] - 483s 484ms/step - loss: 0.1815 - accuracy: 0.9451 - val_loss: 0.1453 - val_accuracy: 0.9553\n",
      "Epoch 30/30\n",
      "998/998 [==============================] - 482s 483ms/step - loss: 0.1755 - accuracy: 0.9457 - val_loss: 0.1475 - val_accuracy: 0.9559\n"
     ]
    },
    {
     "data": {
      "text/plain": [
       "<keras.callbacks.History at 0x24076feecc8>"
      ]
     },
     "execution_count": 9,
     "metadata": {},
     "output_type": "execute_result"
    }
   ],
   "source": [
    "model.fit(train_data_aug.astype('float32'), to_categorical(train_index_aug), epochs = 30, validation_split=0.3)"
   ]
  },
  {
   "cell_type": "code",
   "execution_count": 10,
   "id": "be3689a9",
   "metadata": {},
   "outputs": [
    {
     "name": "stdout",
     "output_type": "stream",
     "text": [
      "297/297 [==============================] - 26s 89ms/step - loss: 0.2503 - accuracy: 0.9477\n"
     ]
    },
    {
     "data": {
      "text/plain": [
       "[0.2503190040588379, 0.9476842284202576]"
      ]
     },
     "execution_count": 10,
     "metadata": {},
     "output_type": "execute_result"
    }
   ],
   "source": [
    "model.evaluate(test_data, to_categorical(test_index))"
   ]
  },
  {
   "cell_type": "code",
   "execution_count": 11,
   "id": "47feb0e5",
   "metadata": {},
   "outputs": [],
   "source": [
    "model.save('data/model_tor_walkietalkie_aug.h5')"
   ]
  },
  {
   "cell_type": "code",
   "execution_count": null,
   "id": "17206742",
   "metadata": {},
   "outputs": [],
   "source": []
  }
 ],
 "metadata": {
  "kernelspec": {
   "display_name": "Python 3 (ipykernel)",
   "language": "python",
   "name": "python3"
  },
  "language_info": {
   "codemirror_mode": {
    "name": "ipython",
    "version": 3
   },
   "file_extension": ".py",
   "mimetype": "text/x-python",
   "name": "python",
   "nbconvert_exporter": "python",
   "pygments_lexer": "ipython3",
   "version": "3.7.13"
  }
 },
 "nbformat": 4,
 "nbformat_minor": 5
}
