{
 "cells": [
  {
   "cell_type": "code",
   "execution_count": 1,
   "id": "3cefb3f1",
   "metadata": {},
   "outputs": [],
   "source": [
    "import numpy as np\n",
    "import matplotlib.pyplot as plt\n",
    "import pandas as pd\n",
    "from keras import Sequential\n",
    "from keras import layers\n",
    "from keras.layers import Conv1D, MaxPooling1D, Flatten, Dense, Dropout\n",
    "from keras.optimizers import adam_v2\n",
    "from tensorflow.keras.utils import to_categorical\n",
    "from keras.layers import Conv2D, MaxPooling2D, Flatten, Dense\n",
    "import random\n",
    "from tqdm.notebook import tqdm\n",
    "import collections"
   ]
  },
  {
   "cell_type": "code",
   "execution_count": null,
   "id": "0c7b5ff5",
   "metadata": {},
   "outputs": [],
   "source": []
  },
  {
   "cell_type": "code",
   "execution_count": 2,
   "id": "165506d1",
   "metadata": {},
   "outputs": [],
   "source": [
    "train_data = np.array(pd.read_pickle('F:/df/NoDef/X_train_NoDef.pkl')) # shape (76000, 5000), 95 website, 800 repeat\n",
    "train_index = np.array(pd.read_pickle('F:/df/NoDef/y_train_NoDef.pkl')) # shape (76000,), 0-94 range, random\n",
    "\n",
    "test_data = np.array(pd.read_pickle('F:/df/NoDef/X_test_NoDef.pkl')) # shape (9500, 5000), 95 website, 100 repeat\n",
    "test_index = np.array(pd.read_pickle('F:/df/NoDef/y_test_NoDef.pkl')) # shape (9500,), 0-94 range, sequence"
   ]
  },
  {
   "cell_type": "code",
   "execution_count": 3,
   "id": "cad31d8c",
   "metadata": {},
   "outputs": [],
   "source": [
    "train_data = train_data[0 : 7600]\n",
    "train_index = train_index[0 : 7600]"
   ]
  },
  {
   "cell_type": "code",
   "execution_count": 4,
   "id": "6d6c944b",
   "metadata": {},
   "outputs": [],
   "source": [
    "def get_data_length(data_vector):\n",
    "    data_length = 5000\n",
    "    for i in range(5000):\n",
    "        if data_vector[i] == 0:\n",
    "            data_length = i\n",
    "            break\n",
    "    return data_length\n",
    "\n",
    "def wtf_pad(data_vector, data_length, count):\n",
    "    burst_location = list()\n",
    "    for i in range(10):\n",
    "        burst_location.append(random.randint(0, data_length-1))\n",
    "        \n",
    "    for i in range(count):\n",
    "        location = burst_location[random.randint(0, 10-1)] + random.randint(-10, 10)\n",
    "        if location < 0:\n",
    "            location = 0\n",
    "        elif location > 5000:\n",
    "            location = 5000\n",
    "        packet = random.randint(0, 1) * 2 - 1\n",
    "        data_vector = np.insert(data_vector, location, packet)\n",
    "    return data_vector[0 : 5000]\n",
    "\n",
    "def add_noise(data_vector, data_length, count):\n",
    "    for i in range(count):\n",
    "        location = random.randint(0, data_length - 1)\n",
    "        packet = random.randint(0, 1) * 2 - 1\n",
    "        data_vector = np.insert(data_vector, location, packet)\n",
    "        if data_length < 5000:\n",
    "            data_length += 1\n",
    "    \n",
    "    return data_vector[0 : 5000]"
   ]
  },
  {
   "cell_type": "code",
   "execution_count": 5,
   "id": "871b74c4",
   "metadata": {},
   "outputs": [
    {
     "data": {
      "application/json": {
       "ascii": false,
       "bar_format": null,
       "colour": null,
       "elapsed": 0.02800154685974121,
       "initial": 0,
       "n": 0,
       "ncols": null,
       "nrows": 29,
       "postfix": null,
       "prefix": "",
       "rate": null,
       "total": 7600,
       "unit": "it",
       "unit_divisor": 1000,
       "unit_scale": false
      },
      "application/vnd.jupyter.widget-view+json": {
       "model_id": "6400a30747b9481880becaf6c6b0995f",
       "version_major": 2,
       "version_minor": 0
      },
      "text/plain": [
       "  0%|          | 0/7600 [00:00<?, ?it/s]"
      ]
     },
     "metadata": {},
     "output_type": "display_data"
    },
    {
     "data": {
      "application/json": {
       "ascii": false,
       "bar_format": null,
       "colour": null,
       "elapsed": 0.01601386070251465,
       "initial": 0,
       "n": 0,
       "ncols": null,
       "nrows": 29,
       "postfix": null,
       "prefix": "",
       "rate": null,
       "total": 7600,
       "unit": "it",
       "unit_divisor": 1000,
       "unit_scale": false
      },
      "application/vnd.jupyter.widget-view+json": {
       "model_id": "e522ef87904e4fa485e243dc825667b0",
       "version_major": 2,
       "version_minor": 0
      },
      "text/plain": [
       "  0%|          | 0/7600 [00:00<?, ?it/s]"
      ]
     },
     "metadata": {},
     "output_type": "display_data"
    },
    {
     "data": {
      "application/json": {
       "ascii": false,
       "bar_format": null,
       "colour": null,
       "elapsed": 0.01613903045654297,
       "initial": 0,
       "n": 0,
       "ncols": null,
       "nrows": 29,
       "postfix": null,
       "prefix": "",
       "rate": null,
       "total": 7600,
       "unit": "it",
       "unit_divisor": 1000,
       "unit_scale": false
      },
      "application/vnd.jupyter.widget-view+json": {
       "model_id": "05eb290cb5e0460cb7e53c6632c01809",
       "version_major": 2,
       "version_minor": 0
      },
      "text/plain": [
       "  0%|          | 0/7600 [00:00<?, ?it/s]"
      ]
     },
     "metadata": {},
     "output_type": "display_data"
    },
    {
     "data": {
      "application/json": {
       "ascii": false,
       "bar_format": null,
       "colour": null,
       "elapsed": 0.017002105712890625,
       "initial": 0,
       "n": 0,
       "ncols": null,
       "nrows": 29,
       "postfix": null,
       "prefix": "",
       "rate": null,
       "total": 7600,
       "unit": "it",
       "unit_divisor": 1000,
       "unit_scale": false
      },
      "application/vnd.jupyter.widget-view+json": {
       "model_id": "8a603bb668204f899392103714b9f130",
       "version_major": 2,
       "version_minor": 0
      },
      "text/plain": [
       "  0%|          | 0/7600 [00:00<?, ?it/s]"
      ]
     },
     "metadata": {},
     "output_type": "display_data"
    },
    {
     "data": {
      "application/json": {
       "ascii": false,
       "bar_format": null,
       "colour": null,
       "elapsed": 0.01091146469116211,
       "initial": 0,
       "n": 0,
       "ncols": null,
       "nrows": 29,
       "postfix": null,
       "prefix": "",
       "rate": null,
       "total": 7600,
       "unit": "it",
       "unit_divisor": 1000,
       "unit_scale": false
      },
      "application/vnd.jupyter.widget-view+json": {
       "model_id": "8f27c337eb9047048c90e50af26d2821",
       "version_major": 2,
       "version_minor": 0
      },
      "text/plain": [
       "  0%|          | 0/7600 [00:00<?, ?it/s]"
      ]
     },
     "metadata": {},
     "output_type": "display_data"
    }
   ],
   "source": [
    "train_data_aug = train_data.copy()\n",
    "train_index_aug = train_index.copy()\n",
    "for j in range(5):\n",
    "    train_data_aug_one = train_data.copy()\n",
    "    for i in tqdm(range(7600)):\n",
    "        length = get_data_length(train_data_aug_one[i])\n",
    "        rate = random.randint(0, 100) / 100\n",
    "        train_data_aug_one[i] = wtf_pad(train_data_aug_one[i], length, int(length * rate / 2))\n",
    "        train_data_aug_one[i] = add_noise(train_data_aug_one[i], length, int(length * rate / 2))\n",
    "    train_data_aug = np.append(train_data_aug, train_data_aug_one, axis=0)\n",
    "    train_index_aug = np.append(train_index_aug, train_index, axis=0)"
   ]
  },
  {
   "cell_type": "code",
   "execution_count": null,
   "id": "3b42c36d",
   "metadata": {},
   "outputs": [],
   "source": []
  },
  {
   "cell_type": "code",
   "execution_count": 6,
   "id": "3f25a423",
   "metadata": {},
   "outputs": [],
   "source": [
    "# DF model used for non-defended dataset\n",
    "from keras.models import Sequential\n",
    "from keras.layers import Conv1D, MaxPooling1D, BatchNormalization\n",
    "from keras.layers.core import Activation, Flatten, Dense, Dropout\n",
    "from keras.layers.activation import ELU\n",
    "from keras.initializers import glorot_uniform\n",
    "\n",
    "class DFNet:\n",
    "    @staticmethod\n",
    "    def build(input_shape, classes):\n",
    "        model = Sequential()\n",
    "        #Block1\n",
    "        filter_num = ['None',32,64,128,256]\n",
    "        kernel_size = ['None',8,8,8,8]\n",
    "        conv_stride_size = ['None',1,1,1,1]\n",
    "        pool_stride_size = ['None',4,4,4,4]\n",
    "        pool_size = ['None',8,8,8,8]\n",
    "\n",
    "        model.add(Conv1D(filters=filter_num[1], kernel_size=kernel_size[1], input_shape=input_shape,\n",
    "                         strides=conv_stride_size[1], padding='same',\n",
    "                         name='block1_conv1'))\n",
    "        model.add(BatchNormalization(axis=-1))\n",
    "        model.add(ELU(alpha=1.0, name='block1_adv_act1'))\n",
    "        model.add(Conv1D(filters=filter_num[1], kernel_size=kernel_size[1],\n",
    "                         strides=conv_stride_size[1], padding='same',\n",
    "                         name='block1_conv2'))\n",
    "        model.add(BatchNormalization(axis=-1))\n",
    "        model.add(ELU(alpha=1.0, name='block1_adv_act2'))\n",
    "        model.add(MaxPooling1D(pool_size=pool_size[1], strides=pool_stride_size[1],\n",
    "                               padding='same', name='block1_pool'))\n",
    "        model.add(Dropout(0.1, name='block1_dropout'))\n",
    "\n",
    "        model.add(Conv1D(filters=filter_num[2], kernel_size=kernel_size[2],\n",
    "                         strides=conv_stride_size[2], padding='same',\n",
    "                         name='block2_conv1'))\n",
    "        model.add(BatchNormalization())\n",
    "        model.add(Activation('relu', name='block2_act1'))\n",
    "\n",
    "        model.add(Conv1D(filters=filter_num[2], kernel_size=kernel_size[2],\n",
    "                         strides=conv_stride_size[2], padding='same',\n",
    "                         name='block2_conv2'))\n",
    "        model.add(BatchNormalization())\n",
    "        model.add(Activation('relu', name='block2_act2'))\n",
    "        model.add(MaxPooling1D(pool_size=pool_size[2], strides=pool_stride_size[3],\n",
    "                               padding='same', name='block2_pool'))\n",
    "        model.add(Dropout(0.1, name='block2_dropout'))\n",
    "\n",
    "        model.add(Conv1D(filters=filter_num[3], kernel_size=kernel_size[3],\n",
    "                         strides=conv_stride_size[3], padding='same',\n",
    "                         name='block3_conv1'))\n",
    "        model.add(BatchNormalization())\n",
    "        model.add(Activation('relu', name='block3_act1'))\n",
    "        model.add(Conv1D(filters=filter_num[3], kernel_size=kernel_size[3],\n",
    "                         strides=conv_stride_size[3], padding='same',\n",
    "                         name='block3_conv2'))\n",
    "        model.add(BatchNormalization())\n",
    "        model.add(Activation('relu', name='block3_act2'))\n",
    "        model.add(MaxPooling1D(pool_size=pool_size[3], strides=pool_stride_size[3],\n",
    "                               padding='same', name='block3_pool'))\n",
    "        model.add(Dropout(0.1, name='block3_dropout'))\n",
    "\n",
    "        model.add(Conv1D(filters=filter_num[4], kernel_size=kernel_size[4],\n",
    "                         strides=conv_stride_size[4], padding='same',\n",
    "                         name='block4_conv1'))\n",
    "        model.add(BatchNormalization())\n",
    "        model.add(Activation('relu', name='block4_act1'))\n",
    "        model.add(Conv1D(filters=filter_num[4], kernel_size=kernel_size[4],\n",
    "                         strides=conv_stride_size[4], padding='same',\n",
    "                         name='block4_conv2'))\n",
    "        model.add(BatchNormalization())\n",
    "        model.add(Activation('relu', name='block4_act2'))\n",
    "        model.add(MaxPooling1D(pool_size=pool_size[4], strides=pool_stride_size[4],\n",
    "                               padding='same', name='block4_pool'))\n",
    "        model.add(Dropout(0.1, name='block4_dropout'))\n",
    "\n",
    "        model.add(Flatten(name='flatten'))\n",
    "        model.add(Dense(512, kernel_initializer=glorot_uniform(seed=0), name='fc1'))\n",
    "        model.add(BatchNormalization())\n",
    "        model.add(Activation('relu', name='fc1_act'))\n",
    "\n",
    "        model.add(Dropout(0.7, name='fc1_dropout'))\n",
    "\n",
    "        model.add(Dense(512, kernel_initializer=glorot_uniform(seed=0), name='fc2'))\n",
    "        model.add(BatchNormalization())\n",
    "        model.add(Activation('relu', name='fc2_act'))\n",
    "\n",
    "        model.add(Dropout(0.5, name='fc2_dropout'))\n",
    "\n",
    "        model.add(Dense(classes, kernel_initializer=glorot_uniform(seed=0), name='fc3'))\n",
    "        model.add(Activation('softmax', name=\"softmax\"))\n",
    "        return model\n"
   ]
  },
  {
   "cell_type": "code",
   "execution_count": 7,
   "id": "f35f1058",
   "metadata": {},
   "outputs": [],
   "source": [
    "model = DFNet.build(input_shape=(5000,1), classes=95)"
   ]
  },
  {
   "cell_type": "code",
   "execution_count": 8,
   "id": "065ddc2c",
   "metadata": {},
   "outputs": [],
   "source": [
    "from keras.optimizers import Adamax\n",
    "\n",
    "model.compile(loss=\"categorical_crossentropy\", \n",
    "              optimizer=Adamax(learning_rate=0.002, beta_1=0.9, beta_2=0.999, epsilon=1e-08, decay=0.0), \n",
    "              metrics=[\"accuracy\"])"
   ]
  },
  {
   "cell_type": "code",
   "execution_count": 9,
   "id": "c19238e7",
   "metadata": {},
   "outputs": [
    {
     "name": "stdout",
     "output_type": "stream",
     "text": [
      "Epoch 1/30\n",
      "998/998 [==============================] - 386s 384ms/step - loss: 3.5926 - accuracy: 0.1169 - val_loss: 2.8755 - val_accuracy: 0.2140\n",
      "Epoch 2/30\n",
      "998/998 [==============================] - 410s 411ms/step - loss: 2.4447 - accuracy: 0.3184 - val_loss: 2.2836 - val_accuracy: 0.3623\n",
      "Epoch 3/30\n",
      "998/998 [==============================] - 390s 390ms/step - loss: 1.9439 - accuracy: 0.4518 - val_loss: 1.5017 - val_accuracy: 0.5711\n",
      "Epoch 4/30\n",
      "998/998 [==============================] - 386s 387ms/step - loss: 1.6162 - accuracy: 0.5390 - val_loss: 1.1447 - val_accuracy: 0.6795\n",
      "Epoch 5/30\n",
      "998/998 [==============================] - 377s 378ms/step - loss: 1.3889 - accuracy: 0.6032 - val_loss: 1.1493 - val_accuracy: 0.6695\n",
      "Epoch 6/30\n",
      "998/998 [==============================] - 411s 412ms/step - loss: 1.2471 - accuracy: 0.6473 - val_loss: 0.8761 - val_accuracy: 0.7436\n",
      "Epoch 7/30\n",
      "998/998 [==============================] - 472s 473ms/step - loss: 1.1383 - accuracy: 0.6802 - val_loss: 0.8644 - val_accuracy: 0.7529\n",
      "Epoch 8/30\n",
      "998/998 [==============================] - 409s 409ms/step - loss: 1.0338 - accuracy: 0.7059 - val_loss: 0.8279 - val_accuracy: 0.7631\n",
      "Epoch 9/30\n",
      "998/998 [==============================] - 389s 390ms/step - loss: 0.9490 - accuracy: 0.7313 - val_loss: 0.7479 - val_accuracy: 0.7841\n",
      "Epoch 10/30\n",
      "998/998 [==============================] - 388s 389ms/step - loss: 0.8941 - accuracy: 0.7447 - val_loss: 0.6936 - val_accuracy: 0.8013\n",
      "Epoch 11/30\n",
      "998/998 [==============================] - 381s 382ms/step - loss: 0.8327 - accuracy: 0.7607 - val_loss: 0.6858 - val_accuracy: 0.7984\n",
      "Epoch 12/30\n",
      "998/998 [==============================] - 381s 381ms/step - loss: 0.7765 - accuracy: 0.7785 - val_loss: 0.6695 - val_accuracy: 0.8070\n",
      "Epoch 13/30\n",
      "998/998 [==============================] - 364s 365ms/step - loss: 0.7274 - accuracy: 0.7927 - val_loss: 0.6499 - val_accuracy: 0.8092\n",
      "Epoch 14/30\n",
      "998/998 [==============================] - 365s 365ms/step - loss: 0.6829 - accuracy: 0.8027 - val_loss: 0.5974 - val_accuracy: 0.8290\n",
      "Epoch 15/30\n",
      "998/998 [==============================] - 358s 358ms/step - loss: 0.6583 - accuracy: 0.8087 - val_loss: 0.5894 - val_accuracy: 0.8267\n",
      "Epoch 16/30\n",
      "998/998 [==============================] - 358s 359ms/step - loss: 0.6147 - accuracy: 0.8204 - val_loss: 0.5591 - val_accuracy: 0.8407\n",
      "Epoch 17/30\n",
      "998/998 [==============================] - 358s 359ms/step - loss: 0.5874 - accuracy: 0.8290 - val_loss: 0.5424 - val_accuracy: 0.8422\n",
      "Epoch 18/30\n",
      "998/998 [==============================] - 357s 357ms/step - loss: 0.5479 - accuracy: 0.8396 - val_loss: 0.5179 - val_accuracy: 0.8483\n",
      "Epoch 19/30\n",
      "998/998 [==============================] - 356s 357ms/step - loss: 0.5264 - accuracy: 0.8451 - val_loss: 0.5098 - val_accuracy: 0.8527\n",
      "Epoch 20/30\n",
      "998/998 [==============================] - 358s 358ms/step - loss: 0.4917 - accuracy: 0.8563 - val_loss: 0.5398 - val_accuracy: 0.8418\n",
      "Epoch 21/30\n",
      "998/998 [==============================] - 359s 359ms/step - loss: 0.4781 - accuracy: 0.8606 - val_loss: 0.4922 - val_accuracy: 0.8569\n",
      "Epoch 22/30\n",
      "998/998 [==============================] - 366s 367ms/step - loss: 0.4452 - accuracy: 0.8686 - val_loss: 0.4745 - val_accuracy: 0.8640\n",
      "Epoch 23/30\n",
      "998/998 [==============================] - 395s 396ms/step - loss: 0.4272 - accuracy: 0.8724 - val_loss: 0.4827 - val_accuracy: 0.8620\n",
      "Epoch 24/30\n",
      "998/998 [==============================] - 398s 398ms/step - loss: 0.4052 - accuracy: 0.8777 - val_loss: 0.4779 - val_accuracy: 0.8605\n",
      "Epoch 25/30\n",
      "998/998 [==============================] - 398s 399ms/step - loss: 0.3850 - accuracy: 0.8841 - val_loss: 0.5001 - val_accuracy: 0.8575\n",
      "Epoch 26/30\n",
      "998/998 [==============================] - 396s 397ms/step - loss: 0.3800 - accuracy: 0.8878 - val_loss: 0.4955 - val_accuracy: 0.8570\n",
      "Epoch 27/30\n",
      "998/998 [==============================] - 390s 391ms/step - loss: 0.3528 - accuracy: 0.8932 - val_loss: 0.4934 - val_accuracy: 0.8620\n",
      "Epoch 28/30\n",
      "998/998 [==============================] - 374s 374ms/step - loss: 0.3455 - accuracy: 0.8935 - val_loss: 0.4705 - val_accuracy: 0.8633\n",
      "Epoch 29/30\n",
      "998/998 [==============================] - 392s 393ms/step - loss: 0.3251 - accuracy: 0.9012 - val_loss: 0.4797 - val_accuracy: 0.8670\n",
      "Epoch 30/30\n",
      "998/998 [==============================] - 396s 397ms/step - loss: 0.3141 - accuracy: 0.9061 - val_loss: 0.4722 - val_accuracy: 0.8667\n"
     ]
    },
    {
     "data": {
      "text/plain": [
       "<keras.callbacks.History at 0x1ae72eb2b88>"
      ]
     },
     "execution_count": 9,
     "metadata": {},
     "output_type": "execute_result"
    }
   ],
   "source": [
    "model.fit(train_data_aug.astype('float32'), to_categorical(train_index_aug), epochs = 30, validation_split=0.3)"
   ]
  },
  {
   "cell_type": "code",
   "execution_count": 10,
   "id": "be3689a9",
   "metadata": {},
   "outputs": [
    {
     "name": "stdout",
     "output_type": "stream",
     "text": [
      "297/297 [==============================] - 19s 65ms/step - loss: 0.2275 - accuracy: 0.9500\n"
     ]
    },
    {
     "data": {
      "text/plain": [
       "[0.22746969759464264, 0.949999988079071]"
      ]
     },
     "execution_count": 10,
     "metadata": {},
     "output_type": "execute_result"
    }
   ],
   "source": [
    "model.evaluate(test_data, to_categorical(test_index))"
   ]
  },
  {
   "cell_type": "code",
   "execution_count": 11,
   "id": "47feb0e5",
   "metadata": {},
   "outputs": [],
   "source": [
    "model.save('data/model_tor_wtfpad_aug.h5')"
   ]
  },
  {
   "cell_type": "code",
   "execution_count": null,
   "id": "17206742",
   "metadata": {},
   "outputs": [],
   "source": []
  }
 ],
 "metadata": {
  "kernelspec": {
   "display_name": "Python 3 (ipykernel)",
   "language": "python",
   "name": "python3"
  },
  "language_info": {
   "codemirror_mode": {
    "name": "ipython",
    "version": 3
   },
   "file_extension": ".py",
   "mimetype": "text/x-python",
   "name": "python",
   "nbconvert_exporter": "python",
   "pygments_lexer": "ipython3",
   "version": "3.7.13"
  }
 },
 "nbformat": 4,
 "nbformat_minor": 5
}
