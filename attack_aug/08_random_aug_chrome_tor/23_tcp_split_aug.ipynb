{
 "cells": [
  {
   "cell_type": "code",
   "execution_count": 1,
   "id": "45a6ba73",
   "metadata": {},
   "outputs": [],
   "source": [
    "import numpy as np\n",
    "import matplotlib.pyplot as plt\n",
    "import pandas as pd\n",
    "from keras import Sequential\n",
    "from keras import layers\n",
    "from keras.layers import Conv1D, MaxPooling1D, Flatten, Dense, Dropout\n",
    "from keras.optimizers import adam_v2\n",
    "from tensorflow.keras.utils import to_categorical\n",
    "from keras.layers import Conv2D, MaxPooling2D, Flatten, Dense\n",
    "import random\n",
    "from tqdm.notebook import tqdm\n",
    "import collections\n",
    "from keras.models import load_model"
   ]
  },
  {
   "cell_type": "code",
   "execution_count": 2,
   "id": "3eed8653",
   "metadata": {},
   "outputs": [],
   "source": [
    "df = pd.read_csv('F:/data_chrome/3_data/data.csv', header=None)\n",
    "df = df.sort_values([1, 0])\n",
    "\n",
    "train = np.array(df[0 : 7000].sample(7000))\n",
    "train_data = train[:, 2:502] # shape (7000, 500), 100 website, 70 repeat\n",
    "train_index = train[:, 0] # shape (7000,), 0-99 range, random\n",
    "\n",
    "test = np.array(df[7000 : 10000].sort_values([0, 1]))\n",
    "test_data = test[:, 2:502] # shape (3000, 500), 100 website, 70 repeat\n",
    "test_index = test[:, 0] # shape (3000,), 0-99 range, sequence"
   ]
  },
  {
   "cell_type": "code",
   "execution_count": 3,
   "id": "9a6ff44f",
   "metadata": {},
   "outputs": [],
   "source": [
    "model = load_model('data/model_tcp_split_aug.h5')"
   ]
  },
  {
   "cell_type": "code",
   "execution_count": 4,
   "id": "741ae688",
   "metadata": {},
   "outputs": [
    {
     "name": "stdout",
     "output_type": "stream",
     "text": [
      "94/94 [==============================] - 5s 34ms/step - loss: 0.6329 - accuracy: 0.9027\n"
     ]
    },
    {
     "data": {
      "text/plain": [
       "[0.6328884959220886, 0.9026666879653931]"
      ]
     },
     "execution_count": 4,
     "metadata": {},
     "output_type": "execute_result"
    }
   ],
   "source": [
    "model.evaluate(test_data.astype('float32')/1600, to_categorical(test_index))"
   ]
  },
  {
   "cell_type": "code",
   "execution_count": null,
   "id": "f0bcf665",
   "metadata": {},
   "outputs": [],
   "source": []
  },
  {
   "cell_type": "code",
   "execution_count": 5,
   "id": "f18c35e3",
   "metadata": {},
   "outputs": [],
   "source": [
    "def get_data_length(data_vector):\n",
    "    data_length = 500\n",
    "    for i in range(500):\n",
    "        if data_vector[i] == 0:\n",
    "            data_length = i\n",
    "            break\n",
    "    return data_length\n",
    "\n",
    "def add_noise(data_vector, data_length, count):\n",
    "    for i in range(count):\n",
    "        location = random.randint(0, data_length - 1)\n",
    "        first = second = 0\n",
    "        if data_vector[location] > 5:\n",
    "            first = random.randint(1, data_vector[location] - 1)\n",
    "            second = data_vector[location] - first\n",
    "        elif data_vector[location] < -5:\n",
    "            first = random.randint(data_vector[location] + 1, -1)\n",
    "            second = data_vector[location] - first\n",
    "        data_vector[location] = second\n",
    "        data_vector = np.insert(data_vector, location, first)\n",
    "        if data_length < 500:\n",
    "            data_length += 1\n",
    "    return data_vector[0 : 500]"
   ]
  },
  {
   "cell_type": "code",
   "execution_count": 6,
   "id": "827b6e89",
   "metadata": {},
   "outputs": [
    {
     "name": "stdout",
     "output_type": "stream",
     "text": [
      "94/94 [==============================] - 3s 27ms/step - loss: 0.6329 - accuracy: 0.9027\n",
      "94/94 [==============================] - 2s 26ms/step - loss: 0.6257 - accuracy: 0.9037\n",
      "94/94 [==============================] - 2s 23ms/step - loss: 0.6401 - accuracy: 0.8923\n",
      "94/94 [==============================] - 3s 34ms/step - loss: 0.6792 - accuracy: 0.8760\n",
      "94/94 [==============================] - 3s 32ms/step - loss: 0.7092 - accuracy: 0.8663\n",
      "94/94 [==============================] - 2s 25ms/step - loss: 0.7257 - accuracy: 0.8623\n",
      "94/94 [==============================] - 2s 20ms/step - loss: 0.6946 - accuracy: 0.8533\n",
      "94/94 [==============================] - 2s 20ms/step - loss: 0.6232 - accuracy: 0.8653\n",
      "94/94 [==============================] - 2s 25ms/step - loss: 0.6700 - accuracy: 0.8520\n",
      "94/94 [==============================] - 3s 28ms/step - loss: 0.6821 - accuracy: 0.8570\n",
      "94/94 [==============================] - 2s 24ms/step - loss: 0.6331 - accuracy: 0.8673\n",
      "94/94 [==============================] - 3s 28ms/step - loss: 0.6502 - accuracy: 0.8673\n",
      "94/94 [==============================] - 2s 25ms/step - loss: 0.6408 - accuracy: 0.8747\n",
      "94/94 [==============================] - 2s 25ms/step - loss: 0.6379 - accuracy: 0.8650\n",
      "94/94 [==============================] - 2s 20ms/step - loss: 0.6570 - accuracy: 0.8613\n",
      "94/94 [==============================] - 2s 20ms/step - loss: 0.6510 - accuracy: 0.8617\n",
      "94/94 [==============================] - 2s 20ms/step - loss: 0.6479 - accuracy: 0.8617\n",
      "94/94 [==============================] - 2s 22ms/step - loss: 0.7244 - accuracy: 0.8497\n",
      "94/94 [==============================] - 2s 22ms/step - loss: 0.7685 - accuracy: 0.8417\n",
      "94/94 [==============================] - 3s 28ms/step - loss: 0.8868 - accuracy: 0.8163\n",
      "94/94 [==============================] - 2s 21ms/step - loss: 1.0387 - accuracy: 0.7923\n"
     ]
    }
   ],
   "source": [
    "res = np.zeros(21)\n",
    "rate_list = np.linspace(0, 1, num=21, endpoint=True)\n",
    "for j in range(21):\n",
    "    rate = rate_list[j]\n",
    "    test_data_noise = test_data.copy()\n",
    "    for i in range(3000):\n",
    "        length = get_data_length(test_data_noise[i])\n",
    "        test_data_noise[i] = add_noise(test_data_noise[i], length, int(length * rate))\n",
    "    res[j] = model.evaluate(test_data_noise.astype('float32')/1600, to_categorical(test_index))[1]"
   ]
  },
  {
   "cell_type": "code",
   "execution_count": 7,
   "id": "3c1bf520",
   "metadata": {},
   "outputs": [
    {
     "data": {
      "text/plain": [
       "(0.0, 1.0)"
      ]
     },
     "execution_count": 7,
     "metadata": {},
     "output_type": "execute_result"
    },
    {
     "data": {
      "image/png": "[encoded data removed]",
      "text/plain": [
       "<Figure size 640x480 with 1 Axes>"
      ]
     },
     "metadata": {},
     "output_type": "display_data"
    }
   ],
   "source": [
    "plt.plot(res)\n",
    "plt.ylim((0,1))"
   ]
  },
  {
   "cell_type": "code",
   "execution_count": 8,
   "id": "5295cdd4",
   "metadata": {},
   "outputs": [],
   "source": [
    "np.save('data/res_tcp_split_aug.npy', res)"
   ]
  },
  {
   "cell_type": "code",
   "execution_count": null,
   "id": "6f8d9d2a",
   "metadata": {},
   "outputs": [],
   "source": []
  }
 ],
 "metadata": {
  "kernelspec": {
   "display_name": "Python 3 (ipykernel)",
   "language": "python",
   "name": "python3"
  },
  "language_info": {
   "codemirror_mode": {
    "name": "ipython",
    "version": 3
   },
   "file_extension": ".py",
   "mimetype": "text/x-python",
   "name": "python",
   "nbconvert_exporter": "python",
   "pygments_lexer": "ipython3",
   "version": "3.7.13"
  }
 },
 "nbformat": 4,
 "nbformat_minor": 5
}
