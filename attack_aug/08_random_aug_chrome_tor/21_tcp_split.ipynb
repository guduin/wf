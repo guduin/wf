{
 "cells": [
  {
   "cell_type": "code",
   "execution_count": 1,
   "id": "45a6ba73",
   "metadata": {},
   "outputs": [],
   "source": [
    "import numpy as np\n",
    "import matplotlib.pyplot as plt\n",
    "import pandas as pd\n",
    "from keras import Sequential\n",
    "from keras import layers\n",
    "from keras.layers import Conv1D, MaxPooling1D, Flatten, Dense, Dropout\n",
    "from keras.optimizers import adam_v2\n",
    "from tensorflow.keras.utils import to_categorical\n",
    "from keras.layers import Conv2D, MaxPooling2D, Flatten, Dense\n",
    "import random\n",
    "from tqdm.notebook import tqdm\n",
    "import collections\n",
    "from keras.models import load_model"
   ]
  },
  {
   "cell_type": "code",
   "execution_count": 2,
   "id": "3eed8653",
   "metadata": {},
   "outputs": [],
   "source": [
    "df = pd.read_csv('F:/data_chrome/3_data/data.csv', header=None)\n",
    "df = df.sort_values([1, 0])\n",
    "\n",
    "train = np.array(df[0 : 7000].sample(7000))\n",
    "train_data = train[:, 2:502] # shape (7000, 500), 100 website, 70 repeat\n",
    "train_index = train[:, 0] # shape (7000,), 0-99 range, random\n",
    "\n",
    "test = np.array(df[7000 : 10000].sort_values([0, 1]))\n",
    "test_data = test[:, 2:502] # shape (3000, 500), 100 website, 70 repeat\n",
    "test_index = test[:, 0] # shape (3000,), 0-99 range, sequence"
   ]
  },
  {
   "cell_type": "code",
   "execution_count": 3,
   "id": "9a6ff44f",
   "metadata": {},
   "outputs": [],
   "source": [
    "model = load_model('data/model_tcp.h5')"
   ]
  },
  {
   "cell_type": "code",
   "execution_count": 4,
   "id": "741ae688",
   "metadata": {},
   "outputs": [
    {
     "name": "stdout",
     "output_type": "stream",
     "text": [
      "94/94 [==============================] - 4s 32ms/step - loss: 0.8480 - accuracy: 0.8797\n"
     ]
    },
    {
     "data": {
      "text/plain": [
       "[0.8480024933815002, 0.8796666860580444]"
      ]
     },
     "execution_count": 4,
     "metadata": {},
     "output_type": "execute_result"
    }
   ],
   "source": [
    "model.evaluate(test_data.astype('float32')/1600, to_categorical(test_index))"
   ]
  },
  {
   "cell_type": "code",
   "execution_count": 5,
   "id": "f18c35e3",
   "metadata": {},
   "outputs": [],
   "source": [
    "def get_data_length(data_vector):\n",
    "    data_length = 500\n",
    "    for i in range(500):\n",
    "        if data_vector[i] == 0:\n",
    "            data_length = i\n",
    "            break\n",
    "    return data_length\n",
    "\n",
    "def add_noise(data_vector, data_length, count):\n",
    "    for i in range(count):\n",
    "        location = random.randint(0, data_length - 1)\n",
    "        first = second = 0\n",
    "        if data_vector[location] > 5:\n",
    "            first = random.randint(1, data_vector[location] - 1)\n",
    "            second = data_vector[location] - first\n",
    "        elif data_vector[location] < -5:\n",
    "            first = random.randint(data_vector[location] + 1, -1)\n",
    "            second = data_vector[location] - first\n",
    "        data_vector[location] = second\n",
    "        data_vector = np.insert(data_vector, location, first)\n",
    "        if data_length < 500:\n",
    "            data_length += 1\n",
    "    return data_vector[0 : 500]"
   ]
  },
  {
   "cell_type": "code",
   "execution_count": 6,
   "id": "827b6e89",
   "metadata": {},
   "outputs": [
    {
     "name": "stdout",
     "output_type": "stream",
     "text": [
      "94/94 [==============================] - 3s 35ms/step - loss: 0.8480 - accuracy: 0.8797\n",
      "94/94 [==============================] - 3s 28ms/step - loss: 1.3354 - accuracy: 0.7877\n",
      "94/94 [==============================] - 3s 29ms/step - loss: 3.1280 - accuracy: 0.5417\n",
      "94/94 [==============================] - 2s 24ms/step - loss: 5.5502 - accuracy: 0.3253\n",
      "94/94 [==============================] - 3s 34ms/step - loss: 7.7881 - accuracy: 0.1980\n",
      "94/94 [==============================] - 2s 22ms/step - loss: 9.6319 - accuracy: 0.1157\n",
      "94/94 [==============================] - 2s 25ms/step - loss: 10.7294 - accuracy: 0.0840\n",
      "94/94 [==============================] - 3s 35ms/step - loss: 11.8761 - accuracy: 0.0630\n",
      "94/94 [==============================] - 2s 20ms/step - loss: 12.7041 - accuracy: 0.0460\n",
      "94/94 [==============================] - 2s 22ms/step - loss: 13.4032 - accuracy: 0.0313\n",
      "94/94 [==============================] - 2s 20ms/step - loss: 13.9638 - accuracy: 0.0267\n",
      "94/94 [==============================] - 3s 28ms/step - loss: 14.2980 - accuracy: 0.0253\n",
      "94/94 [==============================] - 2s 19ms/step - loss: 14.5184 - accuracy: 0.0230\n",
      "94/94 [==============================] - 2s 20ms/step - loss: 14.6577 - accuracy: 0.0250\n",
      "94/94 [==============================] - 3s 28ms/step - loss: 14.6950 - accuracy: 0.0220\n",
      "94/94 [==============================] - 2s 23ms/step - loss: 14.8949 - accuracy: 0.0207\n",
      "94/94 [==============================] - 2s 20ms/step - loss: 15.0345 - accuracy: 0.0173\n",
      "94/94 [==============================] - 2s 21ms/step - loss: 15.0820 - accuracy: 0.0177\n",
      "94/94 [==============================] - 2s 21ms/step - loss: 15.2414 - accuracy: 0.0133\n",
      "94/94 [==============================] - 2s 19ms/step - loss: 15.1891 - accuracy: 0.0130\n",
      "94/94 [==============================] - 2s 18ms/step - loss: 15.1080 - accuracy: 0.0110\n"
     ]
    }
   ],
   "source": [
    "res = np.zeros(21)\n",
    "rate_list = np.linspace(0, 1, num=21, endpoint=True)\n",
    "for j in range(21):\n",
    "    rate = rate_list[j]\n",
    "    test_data_noise = test_data.copy()\n",
    "    for i in range(3000):\n",
    "        length = get_data_length(test_data_noise[i])\n",
    "        test_data_noise[i] = add_noise(test_data_noise[i], length, int(length * rate))\n",
    "    res[j] = model.evaluate(test_data_noise.astype('float32')/1600, to_categorical(test_index))[1]"
   ]
  },
  {
   "cell_type": "code",
   "execution_count": 7,
   "id": "3c1bf520",
   "metadata": {},
   "outputs": [
    {
     "data": {
      "text/plain": [
       "[<matplotlib.lines.Line2D at 0x17f0641f8c8>]"
      ]
     },
     "execution_count": 7,
     "metadata": {},
     "output_type": "execute_result"
    },
    {
     "data": {
      "image/png": "[encoded data removed]",
      "text/plain": [
       "<Figure size 640x480 with 1 Axes>"
      ]
     },
     "metadata": {},
     "output_type": "display_data"
    }
   ],
   "source": [
    "plt.plot(res)"
   ]
  },
  {
   "cell_type": "code",
   "execution_count": 8,
   "id": "8b24e17f",
   "metadata": {},
   "outputs": [],
   "source": [
    "np.save('data/res_tcp_split.npy', res)"
   ]
  },
  {
   "cell_type": "code",
   "execution_count": null,
   "id": "f7273871",
   "metadata": {},
   "outputs": [],
   "source": []
  }
 ],
 "metadata": {
  "kernelspec": {
   "display_name": "Python 3 (ipykernel)",
   "language": "python",
   "name": "python3"
  },
  "language_info": {
   "codemirror_mode": {
    "name": "ipython",
    "version": 3
   },
   "file_extension": ".py",
   "mimetype": "text/x-python",
   "name": "python",
   "nbconvert_exporter": "python",
   "pygments_lexer": "ipython3",
   "version": "3.7.13"
  }
 },
 "nbformat": 4,
 "nbformat_minor": 5
}
