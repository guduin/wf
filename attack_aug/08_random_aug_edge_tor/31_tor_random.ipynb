{
 "cells": [
  {
   "cell_type": "code",
   "execution_count": 1,
   "id": "45a6ba73",
   "metadata": {},
   "outputs": [],
   "source": [
    "import numpy as np\n",
    "import matplotlib.pyplot as plt\n",
    "import pandas as pd\n",
    "from keras import Sequential\n",
    "from keras import layers\n",
    "from keras.layers import Conv1D, MaxPooling1D, Flatten, Dense, Dropout\n",
    "from keras.optimizers import adam_v2\n",
    "from tensorflow.keras.utils import to_categorical\n",
    "from keras.layers import Conv2D, MaxPooling2D, Flatten, Dense\n",
    "import random\n",
    "from tqdm.notebook import tqdm\n",
    "import collections\n",
    "from keras.models import load_model"
   ]
  },
  {
   "cell_type": "code",
   "execution_count": 5,
   "id": "1ff0dc0c",
   "metadata": {},
   "outputs": [],
   "source": [
    "train_data = np.array(pd.read_pickle('D:/F/df/NoDef/X_train_NoDef.pkl')) # shape (76000, 5000), 95 website, 800 repeat\n",
    "train_index = np.array(pd.read_pickle('D:/F/df/NoDef/y_train_NoDef.pkl')) # shape (76000,), 0-94 range, random\n",
    "\n",
    "test_data = np.array(pd.read_pickle('D:/F/df/NoDef/X_test_NoDef.pkl')) # shape (9500, 5000), 95 website, 100 repeat\n",
    "test_index = np.array(pd.read_pickle('D:/F/df/NoDef/y_test_NoDef.pkl')) # shape (9500,), 0-94 range, sequence"
   ]
  },
  {
   "cell_type": "code",
   "execution_count": 6,
   "id": "7d538771",
   "metadata": {},
   "outputs": [],
   "source": [
    "model = load_model('data/model_tor.h5')"
   ]
  },
  {
   "cell_type": "code",
   "execution_count": 7,
   "id": "86c9c534",
   "metadata": {},
   "outputs": [
    {
     "name": "stdout",
     "output_type": "stream",
     "text": [
      "297/297 [==============================] - 19s 63ms/step - loss: 0.3002 - accuracy: 0.9336\n"
     ]
    },
    {
     "data": {
      "text/plain": [
       "[0.3002021610736847, 0.9335789680480957]"
      ]
     },
     "execution_count": 7,
     "metadata": {},
     "output_type": "execute_result"
    }
   ],
   "source": [
    "model.evaluate(test_data.astype('float32'), to_categorical(test_index))"
   ]
  },
  {
   "cell_type": "code",
   "execution_count": null,
   "id": "6ecd4185",
   "metadata": {},
   "outputs": [],
   "source": []
  },
  {
   "cell_type": "code",
   "execution_count": 8,
   "id": "255e553e",
   "metadata": {},
   "outputs": [],
   "source": [
    "def get_data_length(data_vector):\n",
    "    data_length = 5000\n",
    "    for i in range(5000):\n",
    "        if data_vector[i] == 0:\n",
    "            data_length = i\n",
    "            break\n",
    "    return data_length\n",
    "\n",
    "def add_noise(data_vector, data_length, count):\n",
    "    for i in range(count):\n",
    "        location = random.randint(0, data_length - 1)\n",
    "        packet = random.randint(0, 1) * 2 - 1\n",
    "        data_vector = np.insert(data_vector, location, packet)\n",
    "        if data_length < 5000:\n",
    "            data_length += 1\n",
    "    \n",
    "    return data_vector[0 : 5000]"
   ]
  },
  {
   "cell_type": "code",
   "execution_count": 9,
   "id": "42b485c4",
   "metadata": {},
   "outputs": [
    {
     "name": "stdout",
     "output_type": "stream",
     "text": [
      "297/297 [==============================] - 19s 65ms/step - loss: 0.3002 - accuracy: 0.9336\n",
      "297/297 [==============================] - 18s 59ms/step - loss: 0.3744 - accuracy: 0.9115\n",
      "297/297 [==============================] - 19s 63ms/step - loss: 0.7803 - accuracy: 0.7986\n",
      "297/297 [==============================] - 20s 68ms/step - loss: 1.9458 - accuracy: 0.5551\n",
      "297/297 [==============================] - 19s 65ms/step - loss: 3.4561 - accuracy: 0.3438\n",
      "297/297 [==============================] - 19s 63ms/step - loss: 4.8560 - accuracy: 0.2069\n",
      "297/297 [==============================] - 19s 64ms/step - loss: 6.0885 - accuracy: 0.1201\n",
      "297/297 [==============================] - 19s 64ms/step - loss: 7.2283 - accuracy: 0.0761\n",
      "297/297 [==============================] - 17s 58ms/step - loss: 8.2455 - accuracy: 0.0522\n",
      "297/297 [==============================] - 17s 58ms/step - loss: 9.1576 - accuracy: 0.0402\n",
      "297/297 [==============================] - 17s 58ms/step - loss: 9.9573 - accuracy: 0.0321\n",
      "297/297 [==============================] - 18s 60ms/step - loss: 10.6009 - accuracy: 0.0281\n",
      "297/297 [==============================] - 17s 58ms/step - loss: 11.1105 - accuracy: 0.0269\n",
      "297/297 [==============================] - 19s 63ms/step - loss: 11.5141 - accuracy: 0.0253\n",
      "297/297 [==============================] - 17s 58ms/step - loss: 11.8115 - accuracy: 0.0237\n",
      "297/297 [==============================] - 18s 62ms/step - loss: 12.0455 - accuracy: 0.0226\n",
      "297/297 [==============================] - 18s 62ms/step - loss: 12.1907 - accuracy: 0.0222\n",
      "297/297 [==============================] - 19s 65ms/step - loss: 12.3075 - accuracy: 0.0226\n",
      "297/297 [==============================] - 18s 61ms/step - loss: 12.3584 - accuracy: 0.0212\n",
      "297/297 [==============================] - 18s 60ms/step - loss: 12.3954 - accuracy: 0.0215\n",
      "297/297 [==============================] - 17s 58ms/step - loss: 12.3992 - accuracy: 0.0216\n"
     ]
    }
   ],
   "source": [
    "res = np.zeros(21)\n",
    "rate_list = np.linspace(0, 1, num=21, endpoint=True)\n",
    "for j in range(21):\n",
    "    rate = rate_list[j]\n",
    "    test_data_noise = test_data.copy()\n",
    "    for i in range(9500):\n",
    "        length = get_data_length(test_data_noise[i])\n",
    "        test_data_noise[i] = add_noise(test_data_noise[i], length, int(length * rate))\n",
    "    res[j] = model.evaluate(test_data_noise.astype('float32'), to_categorical(test_index))[1]"
   ]
  },
  {
   "cell_type": "code",
   "execution_count": 10,
   "id": "087082ce",
   "metadata": {},
   "outputs": [
    {
     "data": {
      "text/plain": [
       "[<matplotlib.lines.Line2D at 0x1f8a1665f08>]"
      ]
     },
     "execution_count": 10,
     "metadata": {},
     "output_type": "execute_result"
    },
    {
     "data": {
      "image/png": "[encoded data removed]",
      "text/plain": [
       "<Figure size 640x480 with 1 Axes>"
      ]
     },
     "metadata": {},
     "output_type": "display_data"
    }
   ],
   "source": [
    "plt.plot(res)"
   ]
  },
  {
   "cell_type": "code",
   "execution_count": 11,
   "id": "48ddcc6d",
   "metadata": {},
   "outputs": [],
   "source": [
    "np.save('data/res_tor_ramdom.npy', res)"
   ]
  },
  {
   "cell_type": "code",
   "execution_count": null,
   "id": "ae4268b8",
   "metadata": {},
   "outputs": [],
   "source": []
  }
 ],
 "metadata": {
  "kernelspec": {
   "display_name": "Python 3 (ipykernel)",
   "language": "python",
   "name": "python3"
  },
  "language_info": {
   "codemirror_mode": {
    "name": "ipython",
    "version": 3
   },
   "file_extension": ".py",
   "mimetype": "text/x-python",
   "name": "python",
   "nbconvert_exporter": "python",
   "pygments_lexer": "ipython3",
   "version": "3.7.13"
  }
 },
 "nbformat": 4,
 "nbformat_minor": 5
}
