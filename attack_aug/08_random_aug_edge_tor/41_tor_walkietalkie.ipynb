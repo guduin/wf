{
 "cells": [
  {
   "cell_type": "code",
   "execution_count": 1,
   "id": "45a6ba73",
   "metadata": {},
   "outputs": [],
   "source": [
    "import numpy as np\n",
    "import matplotlib.pyplot as plt\n",
    "import pandas as pd\n",
    "from keras import Sequential\n",
    "from keras import layers\n",
    "from keras.layers import Conv1D, MaxPooling1D, Flatten, Dense, Dropout\n",
    "from keras.optimizers import adam_v2\n",
    "from tensorflow.keras.utils import to_categorical\n",
    "from keras.layers import Conv2D, MaxPooling2D, Flatten, Dense\n",
    "import random\n",
    "from tqdm.notebook import tqdm\n",
    "import collections\n",
    "from keras.models import load_model"
   ]
  },
  {
   "cell_type": "code",
   "execution_count": 2,
   "id": "1ff0dc0c",
   "metadata": {},
   "outputs": [],
   "source": [
    "# train_data = np.array(pd.read_pickle('F:/df/NoDef/X_train_NoDef.pkl')) # shape (76000, 5000), 95 website, 800 repeat\n",
    "# train_index = np.array(pd.read_pickle('F:/df/NoDef/y_train_NoDef.pkl')) # shape (76000,), 0-94 range, random\n",
    "\n",
    "test_data = np.array(pd.read_pickle('D:/F/df/NoDef/X_test_NoDef.pkl')) # shape (9500, 5000), 95 website, 100 repeat\n",
    "test_index = np.array(pd.read_pickle('D:/F/df/NoDef/y_test_NoDef.pkl')) # shape (9500,), 0-94 range, sequence"
   ]
  },
  {
   "cell_type": "code",
   "execution_count": 3,
   "id": "7d538771",
   "metadata": {},
   "outputs": [],
   "source": [
    "model = load_model('data/model_tor.h5')"
   ]
  },
  {
   "cell_type": "code",
   "execution_count": 4,
   "id": "86c9c534",
   "metadata": {},
   "outputs": [
    {
     "name": "stdout",
     "output_type": "stream",
     "text": [
      "297/297 [==============================] - 19s 62ms/step - loss: 0.3002 - accuracy: 0.9336\n"
     ]
    },
    {
     "data": {
      "text/plain": [
       "[0.3002021610736847, 0.9335789680480957]"
      ]
     },
     "execution_count": 4,
     "metadata": {},
     "output_type": "execute_result"
    }
   ],
   "source": [
    "model.evaluate(test_data.astype('float32'), to_categorical(test_index))"
   ]
  },
  {
   "cell_type": "code",
   "execution_count": null,
   "id": "474d629b",
   "metadata": {},
   "outputs": [],
   "source": []
  },
  {
   "cell_type": "code",
   "execution_count": 5,
   "id": "255e553e",
   "metadata": {},
   "outputs": [],
   "source": [
    "def get_data_length(data_vector):\n",
    "    data_length = 5000\n",
    "    for i in range(5000):\n",
    "        if data_vector[i] == 0:\n",
    "            data_length = i\n",
    "            break\n",
    "    return data_length\n",
    "\n",
    "def walkie_talkie(data_vector, buffer_len):\n",
    "    buffer = list()\n",
    "    data_output = np.zeros(5000, dtype=int)\n",
    "    index = 0\n",
    "    for i in data_vector:\n",
    "        buffer.append(i)\n",
    "        if len(buffer) >= buffer_len:\n",
    "            stat = collections.Counter(buffer)\n",
    "            for j in range(stat[1]):\n",
    "                data_output[index] = 1\n",
    "                index += 1\n",
    "            for j in range(stat[-1]):\n",
    "                data_output[index] = -1\n",
    "                index += 1\n",
    "            buffer.clear()\n",
    "            if stat[0] > 0:\n",
    "                break\n",
    "    return data_output\n",
    "\n",
    "def add_noise(data_vector, data_length, count):\n",
    "    for i in range(count):\n",
    "        location = random.randint(0, data_length - 1)\n",
    "        packet = data_vector[location]\n",
    "        data_vector = np.insert(data_vector, location, packet)\n",
    "        if data_length < 5000:\n",
    "            data_length += 1\n",
    "    \n",
    "    return data_vector[0 : 5000]"
   ]
  },
  {
   "cell_type": "code",
   "execution_count": 6,
   "id": "fc0a455d",
   "metadata": {},
   "outputs": [
    {
     "name": "stdout",
     "output_type": "stream",
     "text": [
      "297/297 [==============================] - 18s 61ms/step - loss: 0.7861 - accuracy: 0.7995\n",
      "297/297 [==============================] - 29s 98ms/step - loss: 0.8993 - accuracy: 0.7628\n",
      "297/297 [==============================] - 19s 64ms/step - loss: 1.1147 - accuracy: 0.7101\n",
      "297/297 [==============================] - 18s 59ms/step - loss: 1.3979 - accuracy: 0.6371\n",
      "297/297 [==============================] - 19s 62ms/step - loss: 1.7862 - accuracy: 0.5467\n",
      "297/297 [==============================] - 18s 60ms/step - loss: 2.2663 - accuracy: 0.4399\n",
      "297/297 [==============================] - 18s 61ms/step - loss: 2.7718 - accuracy: 0.3400\n",
      "297/297 [==============================] - 18s 59ms/step - loss: 3.2911 - accuracy: 0.2599\n",
      "297/297 [==============================] - 17s 58ms/step - loss: 3.7673 - accuracy: 0.2040\n",
      "297/297 [==============================] - 18s 61ms/step - loss: 4.2300 - accuracy: 0.1594\n",
      "297/297 [==============================] - 17s 58ms/step - loss: 4.6376 - accuracy: 0.1239\n",
      "297/297 [==============================] - 18s 62ms/step - loss: 4.9845 - accuracy: 0.1024\n",
      "297/297 [==============================] - 17s 59ms/step - loss: 5.3070 - accuracy: 0.0819\n",
      "297/297 [==============================] - 19s 62ms/step - loss: 5.5847 - accuracy: 0.0646\n",
      "297/297 [==============================] - 18s 61ms/step - loss: 5.8284 - accuracy: 0.0517\n",
      "297/297 [==============================] - 19s 63ms/step - loss: 6.0282 - accuracy: 0.0432\n",
      "297/297 [==============================] - 18s 62ms/step - loss: 6.1984 - accuracy: 0.0373\n",
      "297/297 [==============================] - 17s 58ms/step - loss: 6.3531 - accuracy: 0.0318\n",
      "297/297 [==============================] - 17s 58ms/step - loss: 6.5141 - accuracy: 0.0241\n",
      "297/297 [==============================] - 17s 58ms/step - loss: 6.6438 - accuracy: 0.0226\n",
      "297/297 [==============================] - 19s 63ms/step - loss: 6.7519 - accuracy: 0.0211\n"
     ]
    }
   ],
   "source": [
    "res = np.zeros(21)\n",
    "rate_list = np.linspace(0, 1, num=21, endpoint=True)\n",
    "for j in range(21):\n",
    "    rate = rate_list[j]\n",
    "    test_data_noise = test_data.copy()\n",
    "    for i in range(9500):\n",
    "        length = get_data_length(test_data_noise[i])\n",
    "        test_data_noise[i] = walkie_talkie(test_data_noise[i], 20)\n",
    "        test_data_noise[i] = add_noise(test_data_noise[i], length, int(length * rate))\n",
    "    res[j] = model.evaluate(test_data_noise.astype('float32'), to_categorical(test_index))[1]"
   ]
  },
  {
   "cell_type": "code",
   "execution_count": 7,
   "id": "2837dff7",
   "metadata": {},
   "outputs": [
    {
     "data": {
      "text/plain": [
       "[<matplotlib.lines.Line2D at 0x1e6747f4d48>]"
      ]
     },
     "execution_count": 7,
     "metadata": {},
     "output_type": "execute_result"
    },
    {
     "data": {
      "image/png": "[encoded data removed]",
      "text/plain": [
       "<Figure size 640x480 with 1 Axes>"
      ]
     },
     "metadata": {},
     "output_type": "display_data"
    }
   ],
   "source": [
    "plt.plot(res)"
   ]
  },
  {
   "cell_type": "code",
   "execution_count": 8,
   "id": "48ddcc6d",
   "metadata": {},
   "outputs": [],
   "source": [
    "np.save('data/res_tor_walkietalkie.npy', res)"
   ]
  },
  {
   "cell_type": "code",
   "execution_count": null,
   "id": "1763ca17",
   "metadata": {},
   "outputs": [],
   "source": []
  }
 ],
 "metadata": {
  "kernelspec": {
   "display_name": "Python 3 (ipykernel)",
   "language": "python",
   "name": "python3"
  },
  "language_info": {
   "codemirror_mode": {
    "name": "ipython",
    "version": 3
   },
   "file_extension": ".py",
   "mimetype": "text/x-python",
   "name": "python",
   "nbconvert_exporter": "python",
   "pygments_lexer": "ipython3",
   "version": "3.7.13"
  }
 },
 "nbformat": 4,
 "nbformat_minor": 5
}
