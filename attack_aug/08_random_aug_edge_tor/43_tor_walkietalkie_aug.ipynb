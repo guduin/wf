{
 "cells": [
  {
   "cell_type": "code",
   "execution_count": 1,
   "id": "45a6ba73",
   "metadata": {},
   "outputs": [],
   "source": [
    "import numpy as np\n",
    "import matplotlib.pyplot as plt\n",
    "import pandas as pd\n",
    "from keras import Sequential\n",
    "from keras import layers\n",
    "from keras.layers import Conv1D, MaxPooling1D, Flatten, Dense, Dropout\n",
    "from keras.optimizers import adam_v2\n",
    "from tensorflow.keras.utils import to_categorical\n",
    "from keras.layers import Conv2D, MaxPooling2D, Flatten, Dense\n",
    "import random\n",
    "from tqdm.notebook import tqdm\n",
    "import collections\n",
    "from keras.models import load_model"
   ]
  },
  {
   "cell_type": "code",
   "execution_count": 2,
   "id": "1ff0dc0c",
   "metadata": {},
   "outputs": [],
   "source": [
    "# train_data = np.array(pd.read_pickle('F:/df/NoDef/X_train_NoDef.pkl')) # shape (76000, 5000), 95 website, 800 repeat\n",
    "# train_index = np.array(pd.read_pickle('F:/df/NoDef/y_train_NoDef.pkl')) # shape (76000,), 0-94 range, random\n",
    "\n",
    "test_data = np.array(pd.read_pickle('D:/F/df/NoDef/X_test_NoDef.pkl')) # shape (9500, 5000), 95 website, 100 repeat\n",
    "test_index = np.array(pd.read_pickle('D:/F/df/NoDef/y_test_NoDef.pkl')) # shape (9500,), 0-94 range, sequence"
   ]
  },
  {
   "cell_type": "code",
   "execution_count": 3,
   "id": "7d538771",
   "metadata": {},
   "outputs": [],
   "source": [
    "model = load_model('data/model_tor_walkietalkie_aug.h5')"
   ]
  },
  {
   "cell_type": "code",
   "execution_count": 4,
   "id": "86c9c534",
   "metadata": {},
   "outputs": [
    {
     "name": "stdout",
     "output_type": "stream",
     "text": [
      "297/297 [==============================] - 20s 65ms/step - loss: 0.2503 - accuracy: 0.9477\n"
     ]
    },
    {
     "data": {
      "text/plain": [
       "[0.2503190040588379, 0.9476842284202576]"
      ]
     },
     "execution_count": 4,
     "metadata": {},
     "output_type": "execute_result"
    }
   ],
   "source": [
    "model.evaluate(test_data.astype('float32'), to_categorical(test_index))"
   ]
  },
  {
   "cell_type": "code",
   "execution_count": null,
   "id": "6ecd4185",
   "metadata": {},
   "outputs": [],
   "source": []
  },
  {
   "cell_type": "code",
   "execution_count": 5,
   "id": "255e553e",
   "metadata": {},
   "outputs": [],
   "source": [
    "def get_data_length(data_vector):\n",
    "    data_length = 5000\n",
    "    for i in range(5000):\n",
    "        if data_vector[i] == 0:\n",
    "            data_length = i\n",
    "            break\n",
    "    return data_length\n",
    "\n",
    "def walkie_talkie(data_vector, buffer_len):\n",
    "    buffer = list()\n",
    "    data_output = np.zeros(5000, dtype=int)\n",
    "    index = 0\n",
    "    for i in data_vector:\n",
    "        buffer.append(i)\n",
    "        if len(buffer) >= buffer_len:\n",
    "            stat = collections.Counter(buffer)\n",
    "            for j in range(stat[1]):\n",
    "                data_output[index] = 1\n",
    "                index += 1\n",
    "            for j in range(stat[-1]):\n",
    "                data_output[index] = -1\n",
    "                index += 1\n",
    "            buffer.clear()\n",
    "            if stat[0] > 0:\n",
    "                break\n",
    "    return data_output\n",
    "\n",
    "def add_noise(data_vector, data_length, count):\n",
    "    for i in range(count):\n",
    "        location = random.randint(0, data_length - 1)\n",
    "        packet = data_vector[location]\n",
    "        data_vector = np.insert(data_vector, location, packet)\n",
    "        if data_length < 5000:\n",
    "            data_length += 1\n",
    "    \n",
    "    return data_vector[0 : 5000]"
   ]
  },
  {
   "cell_type": "code",
   "execution_count": 6,
   "id": "42b485c4",
   "metadata": {},
   "outputs": [
    {
     "name": "stdout",
     "output_type": "stream",
     "text": [
      "297/297 [==============================] - 29s 99ms/step - loss: 0.2937 - accuracy: 0.9334\n",
      "297/297 [==============================] - 18s 60ms/step - loss: 0.3054 - accuracy: 0.9326\n",
      "297/297 [==============================] - 19s 63ms/step - loss: 0.3162 - accuracy: 0.9297\n",
      "297/297 [==============================] - 18s 61ms/step - loss: 0.3267 - accuracy: 0.9249\n",
      "297/297 [==============================] - 19s 63ms/step - loss: 0.3342 - accuracy: 0.9218\n",
      "297/297 [==============================] - 18s 61ms/step - loss: 0.3479 - accuracy: 0.9193\n",
      "297/297 [==============================] - 18s 60ms/step - loss: 0.3697 - accuracy: 0.9128\n",
      "297/297 [==============================] - 17s 57ms/step - loss: 0.3690 - accuracy: 0.9154\n",
      "297/297 [==============================] - 17s 57ms/step - loss: 0.3819 - accuracy: 0.9112\n",
      "297/297 [==============================] - 18s 62ms/step - loss: 0.3817 - accuracy: 0.9103\n",
      "297/297 [==============================] - 18s 62ms/step - loss: 0.3980 - accuracy: 0.9060\n",
      "297/297 [==============================] - 19s 65ms/step - loss: 0.4119 - accuracy: 0.9051\n",
      "297/297 [==============================] - 19s 62ms/step - loss: 0.4141 - accuracy: 0.9052\n",
      "297/297 [==============================] - 17s 58ms/step - loss: 0.4252 - accuracy: 0.9009\n",
      "297/297 [==============================] - 18s 61ms/step - loss: 0.4276 - accuracy: 0.9008\n",
      "297/297 [==============================] - 18s 61ms/step - loss: 0.4326 - accuracy: 0.8971\n",
      "297/297 [==============================] - 19s 62ms/step - loss: 0.4467 - accuracy: 0.8925\n",
      "297/297 [==============================] - 17s 57ms/step - loss: 0.4678 - accuracy: 0.8921\n",
      "297/297 [==============================] - 18s 60ms/step - loss: 0.5054 - accuracy: 0.8803\n",
      "297/297 [==============================] - 18s 62ms/step - loss: 0.5566 - accuracy: 0.8651\n",
      "297/297 [==============================] - 17s 56ms/step - loss: 0.6345 - accuracy: 0.8469\n"
     ]
    }
   ],
   "source": [
    "res = np.zeros(21)\n",
    "rate_list = np.linspace(0, 1, num=21, endpoint=True)\n",
    "for j in range(21):\n",
    "    rate = rate_list[j]\n",
    "    test_data_noise = test_data.copy()\n",
    "    for i in range(9500):\n",
    "        length = get_data_length(test_data_noise[i])\n",
    "        test_data_noise[i] = walkie_talkie(test_data_noise[i], 20)\n",
    "        test_data_noise[i] = add_noise(test_data_noise[i], length, int(length * rate))\n",
    "    res[j] = model.evaluate(test_data_noise.astype('float32'), to_categorical(test_index))[1]"
   ]
  },
  {
   "cell_type": "code",
   "execution_count": 7,
   "id": "3a747c51",
   "metadata": {},
   "outputs": [
    {
     "data": {
      "text/plain": [
       "(0.0, 1.0)"
      ]
     },
     "execution_count": 7,
     "metadata": {},
     "output_type": "execute_result"
    },
    {
     "data": {
      "image/png": "[encoded data removed]",
      "text/plain": [
       "<Figure size 640x480 with 1 Axes>"
      ]
     },
     "metadata": {},
     "output_type": "display_data"
    }
   ],
   "source": [
    "plt.plot(res)\n",
    "plt.ylim((0, 1))"
   ]
  },
  {
   "cell_type": "code",
   "execution_count": 8,
   "id": "48ddcc6d",
   "metadata": {},
   "outputs": [],
   "source": [
    "np.save('data/res_tor_walkietalkie_aug.npy', res)"
   ]
  },
  {
   "cell_type": "code",
   "execution_count": null,
   "id": "1a13b8ee",
   "metadata": {},
   "outputs": [],
   "source": []
  }
 ],
 "metadata": {
  "kernelspec": {
   "display_name": "Python 3 (ipykernel)",
   "language": "python",
   "name": "python3"
  },
  "language_info": {
   "codemirror_mode": {
    "name": "ipython",
    "version": 3
   },
   "file_extension": ".py",
   "mimetype": "text/x-python",
   "name": "python",
   "nbconvert_exporter": "python",
   "pygments_lexer": "ipython3",
   "version": "3.7.13"
  }
 },
 "nbformat": 4,
 "nbformat_minor": 5
}
