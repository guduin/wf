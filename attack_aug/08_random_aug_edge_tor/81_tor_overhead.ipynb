{
 "cells": [
  {
   "cell_type": "code",
   "execution_count": 1,
   "id": "45a6ba73",
   "metadata": {},
   "outputs": [],
   "source": [
    "import numpy as np\n",
    "import matplotlib.pyplot as plt\n",
    "import pandas as pd\n",
    "from keras import Sequential\n",
    "from keras import layers\n",
    "from keras.layers import Conv1D, MaxPooling1D, Flatten, Dense, Dropout\n",
    "from keras.optimizers import adam_v2\n",
    "from tensorflow.keras.utils import to_categorical\n",
    "from keras.layers import Conv2D, MaxPooling2D, Flatten, Dense\n",
    "import random\n",
    "from tqdm.notebook import tqdm\n",
    "import collections\n",
    "from keras.models import load_model"
   ]
  },
  {
   "cell_type": "code",
   "execution_count": 2,
   "id": "9de28f59",
   "metadata": {},
   "outputs": [],
   "source": [
    "import module"
   ]
  },
  {
   "cell_type": "code",
   "execution_count": 3,
   "id": "b10a4b0f",
   "metadata": {},
   "outputs": [
    {
     "data": {
      "text/plain": [
       "<module 'module' from 'C:\\\\Users\\\\Admin\\\\Documents\\\\Anaconda1\\\\08_random_aug_edge\\\\module.py'>"
      ]
     },
     "execution_count": 3,
     "metadata": {},
     "output_type": "execute_result"
    }
   ],
   "source": [
    "import importlib\n",
    "importlib.reload(module)"
   ]
  },
  {
   "cell_type": "code",
   "execution_count": null,
   "id": "c5458ad2",
   "metadata": {},
   "outputs": [],
   "source": []
  },
  {
   "cell_type": "code",
   "execution_count": 4,
   "id": "3eed8653",
   "metadata": {},
   "outputs": [],
   "source": [
    "train_data = np.array(pd.read_pickle('D:/F/df/NoDef/X_train_NoDef.pkl')) # shape (76000, 5000), 95 website, 800 repeat\n",
    "train_index = np.array(pd.read_pickle('D:/F/df/NoDef/y_train_NoDef.pkl')) # shape (76000,), 0-94 range, random\n",
    "\n",
    "test_data = np.array(pd.read_pickle('D:/F/df/NoDef/X_test_NoDef.pkl')) # shape (9500, 5000), 95 website, 100 repeat\n",
    "test_index = np.array(pd.read_pickle('D:/F/df/NoDef/y_test_NoDef.pkl')) # shape (9500,), 0-94 range, sequence"
   ]
  },
  {
   "cell_type": "code",
   "execution_count": null,
   "id": "f3be73ef",
   "metadata": {},
   "outputs": [],
   "source": []
  },
  {
   "cell_type": "code",
   "execution_count": 5,
   "id": "fb1cf047",
   "metadata": {},
   "outputs": [],
   "source": [
    "# RCD Insert"
   ]
  },
  {
   "cell_type": "code",
   "execution_count": 6,
   "id": "f18c35e3",
   "metadata": {},
   "outputs": [],
   "source": [
    "def get_data_length(data_vector):\n",
    "    data_length = 5000\n",
    "    for i in range(5000):\n",
    "        if data_vector[i] == 0:\n",
    "            data_length = i\n",
    "            break\n",
    "    return data_length\n",
    "\n",
    "def add_noise(data_vector, data_length, count):\n",
    "    for i in range(count):\n",
    "        location = random.randint(0, data_length - 1)\n",
    "        packet = random.randint(0, 1) * 2 - 1\n",
    "        data_vector = np.insert(data_vector, location, packet)\n",
    "        if data_length < 5000:\n",
    "            data_length += 1\n",
    "    \n",
    "    return data_vector[0 : 5000]"
   ]
  },
  {
   "cell_type": "code",
   "execution_count": 9,
   "id": "827b6e89",
   "metadata": {},
   "outputs": [
    {
     "name": "stdout",
     "output_type": "stream",
     "text": [
      "0.5997985822431066\n"
     ]
    }
   ],
   "source": [
    "size_extra = 0\n",
    "size_sum = 0\n",
    "\n",
    "rate = 0.6\n",
    "test_data_noise = test_data.copy()\n",
    "for i in range(9500):\n",
    "    length = get_data_length(test_data_noise[i])\n",
    "    size_sum += length\n",
    "    #test_data_noise[i] = add_noise(test_data_noise[i], length, int(length * rate))\n",
    "    size_extra += int(length * rate)\n",
    "overhead = size_extra / size_sum\n",
    "print(overhead)"
   ]
  },
  {
   "cell_type": "code",
   "execution_count": 10,
   "id": "68ae1148",
   "metadata": {},
   "outputs": [],
   "source": [
    "#overhead = [0.19979852507087928, 0.3998013265100186, 0.5997985822431066]"
   ]
  },
  {
   "cell_type": "code",
   "execution_count": null,
   "id": "4ea88088",
   "metadata": {},
   "outputs": [],
   "source": []
  },
  {
   "cell_type": "code",
   "execution_count": 11,
   "id": "124470d9",
   "metadata": {},
   "outputs": [],
   "source": [
    "# WalkieTalkie"
   ]
  },
  {
   "cell_type": "code",
   "execution_count": 12,
   "id": "002f67da",
   "metadata": {},
   "outputs": [],
   "source": [
    "def get_data_length(data_vector):\n",
    "    data_length = 5000\n",
    "    for i in range(5000):\n",
    "        if data_vector[i] == 0:\n",
    "            data_length = i\n",
    "            break\n",
    "    return data_length\n",
    "\n",
    "def walkie_talkie(data_vector, buffer_len):\n",
    "    buffer = list()\n",
    "    data_output = np.zeros(5000, dtype=int)\n",
    "    index = 0\n",
    "    for i in data_vector:\n",
    "        buffer.append(i)\n",
    "        if len(buffer) >= buffer_len:\n",
    "            stat = collections.Counter(buffer)\n",
    "            for j in range(stat[1]):\n",
    "                data_output[index] = 1\n",
    "                index += 1\n",
    "            for j in range(stat[-1]):\n",
    "                data_output[index] = -1\n",
    "                index += 1\n",
    "            buffer.clear()\n",
    "            if stat[0] > 0:\n",
    "                break\n",
    "    return data_output\n",
    "\n",
    "def add_noise(data_vector, data_length, count):\n",
    "    for i in range(count):\n",
    "        location = random.randint(0, data_length - 1)\n",
    "        packet = data_vector[location]\n",
    "        data_vector = np.insert(data_vector, location, packet)\n",
    "        if data_length < 5000:\n",
    "            data_length += 1\n",
    "    \n",
    "    return data_vector[0 : 5000]"
   ]
  },
  {
   "cell_type": "code",
   "execution_count": 15,
   "id": "71d1fe71",
   "metadata": {},
   "outputs": [
    {
     "name": "stdout",
     "output_type": "stream",
     "text": [
      "0.5997985822431066\n"
     ]
    }
   ],
   "source": [
    "size_extra = 0\n",
    "size_sum = 0\n",
    "\n",
    "rate = 0.6\n",
    "test_data_noise = test_data.copy()\n",
    "for i in range(9500):\n",
    "    length = get_data_length(test_data_noise[i])\n",
    "    size_sum += length\n",
    "    #test_data_noise[i] = walkie_talkie(test_data_noise[i], 20)\n",
    "    #test_data_noise[i] = add_noise(test_data_noise[i], length, int(length * rate))\n",
    "    size_extra += int(length * rate)\n",
    "overhead = size_extra / size_sum\n",
    "print(overhead)"
   ]
  },
  {
   "cell_type": "code",
   "execution_count": 16,
   "id": "5d5fb898",
   "metadata": {},
   "outputs": [],
   "source": [
    "#overhead = [0.19979852507087928, 0.3998013265100186, 0.5997985822431066]"
   ]
  },
  {
   "cell_type": "code",
   "execution_count": null,
   "id": "7b12dc35",
   "metadata": {},
   "outputs": [],
   "source": []
  },
  {
   "cell_type": "code",
   "execution_count": 17,
   "id": "b324dd1d",
   "metadata": {},
   "outputs": [],
   "source": [
    "# WTFPAD"
   ]
  },
  {
   "cell_type": "code",
   "execution_count": 18,
   "id": "8ee4b4a0",
   "metadata": {},
   "outputs": [],
   "source": [
    "def get_data_length(data_vector):\n",
    "    data_length = 5000\n",
    "    for i in range(5000):\n",
    "        if data_vector[i] == 0:\n",
    "            data_length = i\n",
    "            break\n",
    "    return data_length\n",
    "\n",
    "def wtf_pad(data_vector, data_length, count):\n",
    "    burst_location = list()\n",
    "    for i in range(10):\n",
    "        burst_location.append(random.randint(0, data_length-1))\n",
    "        \n",
    "    for i in range(count):\n",
    "        location = burst_location[random.randint(0, 10-1)] + random.randint(-10, 10)\n",
    "        if location < 0:\n",
    "            location = 0\n",
    "        elif location > 5000:\n",
    "            location = 5000\n",
    "        packet = random.randint(0, 1) * 2 - 1\n",
    "        data_vector = np.insert(data_vector, location, packet)\n",
    "    return data_vector[0 : 5000]\n",
    "\n",
    "def add_noise(data_vector, data_length, count):\n",
    "    for i in range(count):\n",
    "        location = random.randint(0, data_length - 1)\n",
    "        packet = random.randint(0, 1) * 2 - 1\n",
    "        data_vector = np.insert(data_vector, location, packet)\n",
    "        if data_length < 5000:\n",
    "            data_length += 1\n",
    "    \n",
    "    return data_vector[0 : 5000]"
   ]
  },
  {
   "cell_type": "code",
   "execution_count": 21,
   "id": "564dbddf",
   "metadata": {},
   "outputs": [
    {
     "name": "stdout",
     "output_type": "stream",
     "text": [
      "0.5995547426935323\n"
     ]
    }
   ],
   "source": [
    "size_extra = 0\n",
    "size_sum = 0\n",
    "\n",
    "rate = 0.6\n",
    "test_data_noise = test_data.copy()\n",
    "for i in range(9500):\n",
    "    length = get_data_length(test_data_noise[i])\n",
    "    size_sum += length\n",
    "    #test_data_noise[i] = wtf_pad(test_data_noise[i], length, int(length * rate / 2))\n",
    "    size_extra += int(length * rate / 2)\n",
    "    #test_data_noise[i] = add_noise(test_data_noise[i], length, int(length * rate / 2))\n",
    "    size_extra += int(length * rate / 2)\n",
    "overhead = size_extra / size_sum\n",
    "print(overhead)"
   ]
  },
  {
   "cell_type": "code",
   "execution_count": 22,
   "id": "4cb4a41f",
   "metadata": {},
   "outputs": [],
   "source": [
    "#overhead = [0.1995516553932563, 0.39959705014175856, 0.5995547426935323]"
   ]
  },
  {
   "cell_type": "code",
   "execution_count": null,
   "id": "a4e28c32",
   "metadata": {},
   "outputs": [],
   "source": []
  },
  {
   "cell_type": "code",
   "execution_count": null,
   "id": "a3a7a9ab",
   "metadata": {},
   "outputs": [],
   "source": []
  },
  {
   "cell_type": "code",
   "execution_count": null,
   "id": "d353070e",
   "metadata": {},
   "outputs": [],
   "source": [
    "#overhead = [0.19979852507087928, 0.3998013265100186, 0.5997985822431066]\n",
    "#overhead = [0.19979852507087928, 0.3998013265100186, 0.5997985822431066]\n",
    "#overhead = [0.1995516553932563, 0.39959705014175856, 0.5995547426935323]"
   ]
  },
  {
   "cell_type": "code",
   "execution_count": null,
   "id": "239dae89",
   "metadata": {},
   "outputs": [],
   "source": []
  },
  {
   "cell_type": "code",
   "execution_count": 45,
   "id": "47dda3d3",
   "metadata": {},
   "outputs": [
    {
     "data": {
      "image/png": "[encoded data removed]",
      "text/plain": [
       "<Figure size 700x500 with 1 Axes>"
      ]
     },
     "metadata": {},
     "output_type": "display_data"
    }
   ],
   "source": [
    "plt.figure(figsize=(7,5))\n",
    "plt.bar(0, 0.19979852507087928, width=1, color = 'r', zorder=100) #0.2\n",
    "plt.bar(1, 0.19979852507087928, width=1, color = 'g', zorder=100)\n",
    "plt.bar(2, 0.1995516553932563, width=1, color = 'b', zorder=100)\n",
    "\n",
    "plt.bar(4, 0.3998013265100186, width=1, color = 'r', zorder=100) #0.4\n",
    "plt.bar(5, 0.3998013265100186, width=1, color = 'g', zorder=100)\n",
    "plt.bar(6, 0.39959705014175856, width=1, color = 'b', zorder=100)\n",
    "\n",
    "plt.bar(8, 0.5997985822431066, width=1, color = 'r', zorder=100) #0.6\n",
    "plt.bar(9, 0.5997985822431066, width=1, color = 'g', zorder=100)\n",
    "plt.bar(10, 0.5995547426935323, width=1, color = 'b', zorder=100)\n",
    "\n",
    "plt.legend(['RCD Insert', 'Walkie-Talkie', 'WTF-PAD'], fontsize=14)\n",
    "plt.xticks([1, 5, 9], ['0.2', '0.4', '0.6'])\n",
    "plt.xlabel('Packets Probability', fontsize=18)\n",
    "plt.ylabel('Overhead', fontsize=18)\n",
    "plt.xticks(fontsize=14)\n",
    "plt.yticks(fontsize=14)\n",
    "plt.grid()\n",
    "plt.xlim((-3, 13))\n",
    "plt.savefig('C:/Users/Admin/Desktop/overhead_tor.pdf', bbox_inches = 'tight')\n"
   ]
  },
  {
   "cell_type": "code",
   "execution_count": null,
   "id": "ba8b0d3e",
   "metadata": {},
   "outputs": [],
   "source": []
  },
  {
   "cell_type": "code",
   "execution_count": null,
   "id": "252b5a0d",
   "metadata": {},
   "outputs": [],
   "source": []
  },
  {
   "cell_type": "code",
   "execution_count": null,
   "id": "74d2475d",
   "metadata": {},
   "outputs": [],
   "source": []
  }
 ],
 "metadata": {
  "kernelspec": {
   "display_name": "Python 3 (ipykernel)",
   "language": "python",
   "name": "python3"
  },
  "language_info": {
   "codemirror_mode": {
    "name": "ipython",
    "version": 3
   },
   "file_extension": ".py",
   "mimetype": "text/x-python",
   "name": "python",
   "nbconvert_exporter": "python",
   "pygments_lexer": "ipython3",
   "version": "3.7.13"
  }
 },
 "nbformat": 4,
 "nbformat_minor": 5
}
