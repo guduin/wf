{
 "cells": [
  {
   "cell_type": "code",
   "execution_count": 1,
   "id": "3cefb3f1",
   "metadata": {},
   "outputs": [],
   "source": [
    "import numpy as np\n",
    "import matplotlib.pyplot as plt\n",
    "import pandas as pd\n",
    "from keras import Sequential\n",
    "from keras import layers\n",
    "from keras.layers import Conv1D, MaxPooling1D, Flatten, Dense, Dropout\n",
    "from keras.optimizers import adam_v2\n",
    "from tensorflow.keras.utils import to_categorical\n",
    "from keras.layers import Conv2D, MaxPooling2D, Flatten, Dense\n",
    "import random\n",
    "from tqdm.notebook import tqdm\n",
    "import collections"
   ]
  },
  {
   "cell_type": "code",
   "execution_count": null,
   "id": "0c7b5ff5",
   "metadata": {},
   "outputs": [],
   "source": []
  },
  {
   "cell_type": "code",
   "execution_count": 4,
   "id": "165506d1",
   "metadata": {},
   "outputs": [],
   "source": [
    "train_data = np.array(pd.read_pickle('D:/F/df/NoDef/X_train_NoDef.pkl')) # shape (76000, 5000), 95 website, 800 repeat\n",
    "train_index = np.array(pd.read_pickle('D:/F/df/NoDef/y_train_NoDef.pkl')) # shape (76000,), 0-94 range, random\n",
    "\n",
    "test_data = np.array(pd.read_pickle('D:/F/df/NoDef/X_test_NoDef.pkl')) # shape (9500, 5000), 95 website, 100 repeat\n",
    "test_index = np.array(pd.read_pickle('D:/F/df/NoDef/y_test_NoDef.pkl')) # shape (9500,), 0-94 range, sequence"
   ]
  },
  {
   "cell_type": "code",
   "execution_count": 5,
   "id": "cad31d8c",
   "metadata": {},
   "outputs": [],
   "source": [
    "train_data = train_data[0 : 7600]\n",
    "train_index = train_index[0 : 7600]"
   ]
  },
  {
   "cell_type": "code",
   "execution_count": 6,
   "id": "6d6c944b",
   "metadata": {},
   "outputs": [],
   "source": [
    "def get_data_length(data_vector):\n",
    "    data_length = 5000\n",
    "    for i in range(5000):\n",
    "        if data_vector[i] == 0:\n",
    "            data_length = i\n",
    "            break\n",
    "    return data_length\n",
    "\n",
    "def add_noise(data_vector, data_length, count):\n",
    "    for i in range(count):\n",
    "        location = random.randint(0, data_length - 1)\n",
    "        packet = random.randint(0, 1) * 2 - 1\n",
    "        data_vector = np.insert(data_vector, location, packet)\n",
    "        if data_length < 5000:\n",
    "            data_length += 1\n",
    "    \n",
    "    return data_vector[0 : 5000]"
   ]
  },
  {
   "cell_type": "code",
   "execution_count": 7,
   "id": "871b74c4",
   "metadata": {},
   "outputs": [
    {
     "data": {
      "application/json": {
       "ascii": false,
       "bar_format": null,
       "colour": null,
       "elapsed": 0.031210899353027344,
       "initial": 0,
       "n": 0,
       "ncols": null,
       "nrows": 29,
       "postfix": null,
       "prefix": "",
       "rate": null,
       "total": 7600,
       "unit": "it",
       "unit_divisor": 1000,
       "unit_scale": false
      },
      "application/vnd.jupyter.widget-view+json": {
       "model_id": "2716449200384e5d9f1f5bfc59966866",
       "version_major": 2,
       "version_minor": 0
      },
      "text/plain": [
       "  0%|          | 0/7600 [00:00<?, ?it/s]"
      ]
     },
     "metadata": {},
     "output_type": "display_data"
    }
   ],
   "source": [
    "train_data_aug = train_data.copy()\n",
    "train_index_aug = train_index.copy()\n",
    "for j in range(1):\n",
    "    train_data_aug_one = train_data.copy()\n",
    "    for i in tqdm(range(7600)):\n",
    "        length = get_data_length(train_data_aug_one[i])\n",
    "        rate = random.randint(0, 100) / 100\n",
    "        train_data_aug_one[i] = add_noise(train_data_aug_one[i], length, int(length * rate))\n",
    "    train_data_aug = np.append(train_data_aug, train_data_aug_one, axis=0)\n",
    "    train_index_aug = np.append(train_index_aug, train_index, axis=0)"
   ]
  },
  {
   "cell_type": "code",
   "execution_count": null,
   "id": "3b42c36d",
   "metadata": {},
   "outputs": [],
   "source": []
  },
  {
   "cell_type": "code",
   "execution_count": 8,
   "id": "3f25a423",
   "metadata": {},
   "outputs": [],
   "source": [
    "# DF model used for non-defended dataset\n",
    "from keras.models import Sequential\n",
    "from keras.layers import Conv1D, MaxPooling1D, BatchNormalization\n",
    "from keras.layers.core import Activation, Flatten, Dense, Dropout\n",
    "from keras.layers.activation import ELU\n",
    "from keras.initializers import glorot_uniform\n",
    "\n",
    "class DFNet:\n",
    "    @staticmethod\n",
    "    def build(input_shape, classes):\n",
    "        model = Sequential()\n",
    "        #Block1\n",
    "        filter_num = ['None',32,64,128,256]\n",
    "        kernel_size = ['None',8,8,8,8]\n",
    "        conv_stride_size = ['None',1,1,1,1]\n",
    "        pool_stride_size = ['None',4,4,4,4]\n",
    "        pool_size = ['None',8,8,8,8]\n",
    "\n",
    "        model.add(Conv1D(filters=filter_num[1], kernel_size=kernel_size[1], input_shape=input_shape,\n",
    "                         strides=conv_stride_size[1], padding='same',\n",
    "                         name='block1_conv1'))\n",
    "        model.add(BatchNormalization(axis=-1))\n",
    "        model.add(ELU(alpha=1.0, name='block1_adv_act1'))\n",
    "        model.add(Conv1D(filters=filter_num[1], kernel_size=kernel_size[1],\n",
    "                         strides=conv_stride_size[1], padding='same',\n",
    "                         name='block1_conv2'))\n",
    "        model.add(BatchNormalization(axis=-1))\n",
    "        model.add(ELU(alpha=1.0, name='block1_adv_act2'))\n",
    "        model.add(MaxPooling1D(pool_size=pool_size[1], strides=pool_stride_size[1],\n",
    "                               padding='same', name='block1_pool'))\n",
    "        model.add(Dropout(0.1, name='block1_dropout'))\n",
    "\n",
    "        model.add(Conv1D(filters=filter_num[2], kernel_size=kernel_size[2],\n",
    "                         strides=conv_stride_size[2], padding='same',\n",
    "                         name='block2_conv1'))\n",
    "        model.add(BatchNormalization())\n",
    "        model.add(Activation('relu', name='block2_act1'))\n",
    "\n",
    "        model.add(Conv1D(filters=filter_num[2], kernel_size=kernel_size[2],\n",
    "                         strides=conv_stride_size[2], padding='same',\n",
    "                         name='block2_conv2'))\n",
    "        model.add(BatchNormalization())\n",
    "        model.add(Activation('relu', name='block2_act2'))\n",
    "        model.add(MaxPooling1D(pool_size=pool_size[2], strides=pool_stride_size[3],\n",
    "                               padding='same', name='block2_pool'))\n",
    "        model.add(Dropout(0.1, name='block2_dropout'))\n",
    "\n",
    "        model.add(Conv1D(filters=filter_num[3], kernel_size=kernel_size[3],\n",
    "                         strides=conv_stride_size[3], padding='same',\n",
    "                         name='block3_conv1'))\n",
    "        model.add(BatchNormalization())\n",
    "        model.add(Activation('relu', name='block3_act1'))\n",
    "        model.add(Conv1D(filters=filter_num[3], kernel_size=kernel_size[3],\n",
    "                         strides=conv_stride_size[3], padding='same',\n",
    "                         name='block3_conv2'))\n",
    "        model.add(BatchNormalization())\n",
    "        model.add(Activation('relu', name='block3_act2'))\n",
    "        model.add(MaxPooling1D(pool_size=pool_size[3], strides=pool_stride_size[3],\n",
    "                               padding='same', name='block3_pool'))\n",
    "        model.add(Dropout(0.1, name='block3_dropout'))\n",
    "\n",
    "        model.add(Conv1D(filters=filter_num[4], kernel_size=kernel_size[4],\n",
    "                         strides=conv_stride_size[4], padding='same',\n",
    "                         name='block4_conv1'))\n",
    "        model.add(BatchNormalization())\n",
    "        model.add(Activation('relu', name='block4_act1'))\n",
    "        model.add(Conv1D(filters=filter_num[4], kernel_size=kernel_size[4],\n",
    "                         strides=conv_stride_size[4], padding='same',\n",
    "                         name='block4_conv2'))\n",
    "        model.add(BatchNormalization())\n",
    "        model.add(Activation('relu', name='block4_act2'))\n",
    "        model.add(MaxPooling1D(pool_size=pool_size[4], strides=pool_stride_size[4],\n",
    "                               padding='same', name='block4_pool'))\n",
    "        model.add(Dropout(0.1, name='block4_dropout'))\n",
    "\n",
    "        model.add(Flatten(name='flatten'))\n",
    "        model.add(Dense(512, kernel_initializer=glorot_uniform(seed=0), name='fc1'))\n",
    "        model.add(BatchNormalization())\n",
    "        model.add(Activation('relu', name='fc1_act'))\n",
    "\n",
    "        model.add(Dropout(0.7, name='fc1_dropout'))\n",
    "\n",
    "        model.add(Dense(512, kernel_initializer=glorot_uniform(seed=0), name='fc2'))\n",
    "        model.add(BatchNormalization())\n",
    "        model.add(Activation('relu', name='fc2_act'))\n",
    "\n",
    "        model.add(Dropout(0.5, name='fc2_dropout'))\n",
    "\n",
    "        model.add(Dense(classes, kernel_initializer=glorot_uniform(seed=0), name='fc3'))\n",
    "        model.add(Activation('softmax', name=\"softmax\"))\n",
    "        return model\n"
   ]
  },
  {
   "cell_type": "code",
   "execution_count": 9,
   "id": "f35f1058",
   "metadata": {},
   "outputs": [],
   "source": [
    "model = DFNet.build(input_shape=(5000,1), classes=95)"
   ]
  },
  {
   "cell_type": "code",
   "execution_count": 10,
   "id": "065ddc2c",
   "metadata": {},
   "outputs": [],
   "source": [
    "from keras.optimizers import Adamax\n",
    "\n",
    "model.compile(loss=\"categorical_crossentropy\", \n",
    "              optimizer=Adamax(learning_rate=0.002, beta_1=0.9, beta_2=0.999, epsilon=1e-08, decay=0.0), \n",
    "              metrics=[\"accuracy\"])"
   ]
  },
  {
   "cell_type": "code",
   "execution_count": 11,
   "id": "c19238e7",
   "metadata": {},
   "outputs": [
    {
     "name": "stdout",
     "output_type": "stream",
     "text": [
      "Epoch 1/30\n",
      "333/333 [==============================] - 119s 353ms/step - loss: 4.0549 - accuracy: 0.0749 - val_loss: 5.3071 - val_accuracy: 0.0105\n",
      "Epoch 2/30\n",
      "333/333 [==============================] - 116s 349ms/step - loss: 3.0611 - accuracy: 0.2049 - val_loss: 2.6980 - val_accuracy: 0.2711\n",
      "Epoch 3/30\n",
      "333/333 [==============================] - 114s 341ms/step - loss: 2.4209 - accuracy: 0.3510 - val_loss: 2.4219 - val_accuracy: 0.3414\n",
      "Epoch 4/30\n",
      "333/333 [==============================] - 114s 342ms/step - loss: 2.0226 - accuracy: 0.4441 - val_loss: 2.1138 - val_accuracy: 0.4079\n",
      "Epoch 5/30\n",
      "333/333 [==============================] - 114s 342ms/step - loss: 1.7180 - accuracy: 0.5190 - val_loss: 2.2924 - val_accuracy: 0.3561\n",
      "Epoch 6/30\n",
      "333/333 [==============================] - 114s 341ms/step - loss: 1.4925 - accuracy: 0.5825 - val_loss: 1.8100 - val_accuracy: 0.4779\n",
      "Epoch 7/30\n",
      "333/333 [==============================] - 114s 341ms/step - loss: 1.3362 - accuracy: 0.6286 - val_loss: 1.4629 - val_accuracy: 0.5818\n",
      "Epoch 8/30\n",
      "333/333 [==============================] - 114s 342ms/step - loss: 1.1919 - accuracy: 0.6652 - val_loss: 1.5853 - val_accuracy: 0.5579\n",
      "Epoch 9/30\n",
      "333/333 [==============================] - 114s 342ms/step - loss: 1.0555 - accuracy: 0.7080 - val_loss: 1.3019 - val_accuracy: 0.6257\n",
      "Epoch 10/30\n",
      "333/333 [==============================] - 114s 342ms/step - loss: 0.9791 - accuracy: 0.7267 - val_loss: 1.2974 - val_accuracy: 0.6316\n",
      "Epoch 11/30\n",
      "333/333 [==============================] - 114s 343ms/step - loss: 0.9018 - accuracy: 0.7490 - val_loss: 1.0960 - val_accuracy: 0.6919\n",
      "Epoch 12/30\n",
      "333/333 [==============================] - 115s 346ms/step - loss: 0.7976 - accuracy: 0.7781 - val_loss: 1.0317 - val_accuracy: 0.7020\n",
      "Epoch 13/30\n",
      "333/333 [==============================] - 114s 343ms/step - loss: 0.7535 - accuracy: 0.7913 - val_loss: 0.9945 - val_accuracy: 0.7136\n",
      "Epoch 14/30\n",
      "333/333 [==============================] - 114s 343ms/step - loss: 0.6908 - accuracy: 0.8060 - val_loss: 1.0290 - val_accuracy: 0.7075\n",
      "Epoch 15/30\n",
      "333/333 [==============================] - 114s 343ms/step - loss: 0.6485 - accuracy: 0.8201 - val_loss: 0.9978 - val_accuracy: 0.7158\n",
      "Epoch 16/30\n",
      "333/333 [==============================] - 114s 344ms/step - loss: 0.5953 - accuracy: 0.8342 - val_loss: 0.9540 - val_accuracy: 0.7268\n",
      "Epoch 17/30\n",
      "333/333 [==============================] - 114s 343ms/step - loss: 0.5781 - accuracy: 0.8398 - val_loss: 1.0909 - val_accuracy: 0.6956\n",
      "Epoch 18/30\n",
      "333/333 [==============================] - 114s 344ms/step - loss: 0.5471 - accuracy: 0.8469 - val_loss: 0.9729 - val_accuracy: 0.7241\n",
      "Epoch 19/30\n",
      "333/333 [==============================] - 115s 345ms/step - loss: 0.5008 - accuracy: 0.8596 - val_loss: 0.9695 - val_accuracy: 0.7175\n",
      "Epoch 20/30\n",
      "333/333 [==============================] - 114s 343ms/step - loss: 0.4830 - accuracy: 0.8642 - val_loss: 0.8497 - val_accuracy: 0.7504\n",
      "Epoch 21/30\n",
      "333/333 [==============================] - 115s 344ms/step - loss: 0.4485 - accuracy: 0.8743 - val_loss: 0.9006 - val_accuracy: 0.7414\n",
      "Epoch 22/30\n",
      "333/333 [==============================] - 114s 343ms/step - loss: 0.4212 - accuracy: 0.8810 - val_loss: 0.8893 - val_accuracy: 0.7564\n",
      "Epoch 23/30\n",
      "333/333 [==============================] - 114s 343ms/step - loss: 0.3916 - accuracy: 0.8884 - val_loss: 0.9000 - val_accuracy: 0.7434\n",
      "Epoch 24/30\n",
      "333/333 [==============================] - 114s 343ms/step - loss: 0.3825 - accuracy: 0.8951 - val_loss: 0.8962 - val_accuracy: 0.7524\n",
      "Epoch 25/30\n",
      "333/333 [==============================] - 114s 344ms/step - loss: 0.3588 - accuracy: 0.8990 - val_loss: 1.0430 - val_accuracy: 0.7279\n",
      "Epoch 26/30\n",
      "333/333 [==============================] - 115s 344ms/step - loss: 0.3401 - accuracy: 0.9024 - val_loss: 0.8761 - val_accuracy: 0.7559\n",
      "Epoch 27/30\n",
      "333/333 [==============================] - 114s 344ms/step - loss: 0.3263 - accuracy: 0.9070 - val_loss: 0.9170 - val_accuracy: 0.7476\n",
      "Epoch 28/30\n",
      "333/333 [==============================] - 114s 343ms/step - loss: 0.2939 - accuracy: 0.9162 - val_loss: 0.8755 - val_accuracy: 0.7664\n",
      "Epoch 29/30\n",
      "333/333 [==============================] - 114s 343ms/step - loss: 0.2727 - accuracy: 0.9218 - val_loss: 0.9216 - val_accuracy: 0.7531\n",
      "Epoch 30/30\n",
      "333/333 [==============================] - 114s 344ms/step - loss: 0.2691 - accuracy: 0.9213 - val_loss: 0.8655 - val_accuracy: 0.7643\n"
     ]
    },
    {
     "data": {
      "text/plain": [
       "<keras.callbacks.History at 0x1937fc43c88>"
      ]
     },
     "execution_count": 11,
     "metadata": {},
     "output_type": "execute_result"
    }
   ],
   "source": [
    "model.fit(train_data_aug.astype('float32'), to_categorical(train_index_aug), epochs = 30, validation_split=0.3)"
   ]
  },
  {
   "cell_type": "code",
   "execution_count": 12,
   "id": "be3689a9",
   "metadata": {},
   "outputs": [
    {
     "name": "stdout",
     "output_type": "stream",
     "text": [
      "297/297 [==============================] - 16s 54ms/step - loss: 0.2567 - accuracy: 0.9419\n"
     ]
    },
    {
     "data": {
      "text/plain": [
       "[0.2566867172718048, 0.9418947100639343]"
      ]
     },
     "execution_count": 12,
     "metadata": {},
     "output_type": "execute_result"
    }
   ],
   "source": [
    "model.evaluate(test_data, to_categorical(test_index))"
   ]
  },
  {
   "cell_type": "code",
   "execution_count": 13,
   "id": "47feb0e5",
   "metadata": {},
   "outputs": [],
   "source": [
    "model.save('data/model_tor_random_aug_repeat.h5')"
   ]
  },
  {
   "cell_type": "code",
   "execution_count": null,
   "id": "17206742",
   "metadata": {},
   "outputs": [],
   "source": []
  }
 ],
 "metadata": {
  "kernelspec": {
   "display_name": "Python 3 (ipykernel)",
   "language": "python",
   "name": "python3"
  },
  "language_info": {
   "codemirror_mode": {
    "name": "ipython",
    "version": 3
   },
   "file_extension": ".py",
   "mimetype": "text/x-python",
   "name": "python",
   "nbconvert_exporter": "python",
   "pygments_lexer": "ipython3",
   "version": "3.7.13"
  }
 },
 "nbformat": 4,
 "nbformat_minor": 5
}
