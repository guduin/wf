{
 "cells": [
  {
   "cell_type": "code",
   "execution_count": 1,
   "id": "5c831490",
   "metadata": {},
   "outputs": [],
   "source": [
    "import numpy as np\n",
    "import matplotlib.pyplot as plt\n",
    "import pandas as pd\n",
    "from keras import Sequential\n",
    "from keras import layers\n",
    "from keras.layers import Conv1D, MaxPooling1D, Flatten, Dense, Dropout\n",
    "from keras.optimizers import adam_v2\n",
    "from tensorflow.keras.utils import to_categorical\n",
    "from keras.layers import Conv2D, MaxPooling2D, Flatten, Dense\n",
    "import random\n",
    "from tqdm.notebook import tqdm\n",
    "import collections"
   ]
  },
  {
   "cell_type": "code",
   "execution_count": null,
   "id": "4e510979",
   "metadata": {},
   "outputs": [],
   "source": []
  },
  {
   "cell_type": "code",
   "execution_count": 2,
   "id": "5140bf7f",
   "metadata": {},
   "outputs": [],
   "source": [
    "df = pd.read_csv('F:/data_edge/3_data/data.csv', header=None)\n",
    "df = df.sort_values([1, 0])\n",
    "\n",
    "train = np.array(df[0 : 7000].sample(7000))\n",
    "train_data = train[:, 2:502] # shape (7000, 500), 100 website, 70 repeat\n",
    "train_index = train[:, 0] # shape (7000,), 0-99 range, random\n",
    "\n",
    "test = np.array(df[7000 : 10000].sort_values([0, 1]))\n",
    "test_data = test[:, 2:502] # shape (3000, 500), 100 website, 70 repeat\n",
    "test_index = test[:, 0] # shape (3000,), 0-99 range, sequence"
   ]
  },
  {
   "cell_type": "code",
   "execution_count": 3,
   "id": "46ce90fb",
   "metadata": {},
   "outputs": [],
   "source": [
    "def get_data_length(data_vector):\n",
    "    data_length = 500\n",
    "    for i in range(500):\n",
    "        if data_vector[i] == 0:\n",
    "            data_length = i\n",
    "            break\n",
    "    return data_length\n",
    "\n",
    "def add_noise(data_vector, data_length, count):\n",
    "    lin_num = list(np.linspace(0, data_length - 1, data_length, dtype=int))\n",
    "    random_num = random.sample(lin_num, count)\n",
    "    for i in random_num:\n",
    "        if data_vector[i] > 0:\n",
    "            data_vector[i] = max(data_vector)\n",
    "        elif data_vector[i] < 0:\n",
    "            data_vector[i] = min(data_vector)\n",
    "    return data_vector"
   ]
  },
  {
   "cell_type": "code",
   "execution_count": 4,
   "id": "053cc945",
   "metadata": {},
   "outputs": [],
   "source": [
    "train_data_aug = train_data.copy()\n",
    "train_index_aug = train_index.copy()\n",
    "for j in range(5):\n",
    "    train_data_aug_one = train_data.copy()\n",
    "    for i in range(7000):\n",
    "        length = get_data_length(train_data_aug_one[i])\n",
    "        rate = random.randint(0, 100) / 100\n",
    "        train_data_aug_one[i] = add_noise(train_data_aug_one[i], length, int(length * rate))\n",
    "    train_data_aug = np.append(train_data_aug, train_data_aug_one, axis=0)\n",
    "    train_index_aug = np.append(train_index_aug, train_index, axis=0)"
   ]
  },
  {
   "cell_type": "code",
   "execution_count": 5,
   "id": "7db277a4",
   "metadata": {},
   "outputs": [],
   "source": [
    "model  = Sequential()\n",
    "model.add(Conv1D(input_shape = (500, 1),\n",
    "                 filters=32,\n",
    "                 kernel_size=5,\n",
    "                 padding = 'same',\n",
    "                 strides=1,\n",
    "                 activation='relu'))\n",
    "model.add(Conv1D(filters=32,\n",
    "                 kernel_size=5,\n",
    "                 padding = 'same',\n",
    "                 strides=1,\n",
    "                 activation='relu'))\n",
    "model.add(MaxPooling1D(pool_size=2))\n",
    "model.add(Conv1D(filters=64,\n",
    "                 kernel_size=5,\n",
    "                 padding = 'same',\n",
    "                 activation='relu'))\n",
    "model.add(Conv1D(filters=64,\n",
    "                 kernel_size=5,\n",
    "                 padding = 'same',\n",
    "                 activation='relu'))\n",
    "model.add(MaxPooling1D(pool_size=2))\n",
    "model.add(Conv1D(filters=128,\n",
    "                 kernel_size=5,\n",
    "                 padding = 'same',\n",
    "                 activation='relu'))\n",
    "model.add(Conv1D(filters=128,\n",
    "                 kernel_size=5,\n",
    "                 padding = 'same',\n",
    "                 activation='relu'))\n",
    "model.add(MaxPooling1D(pool_size=2))\n",
    "model.add(Conv1D(filters=256,\n",
    "                 kernel_size=5,\n",
    "                 padding = 'same',\n",
    "                 activation='relu'))\n",
    "model.add(Conv1D(filters=256,\n",
    "                 kernel_size=5,\n",
    "                 padding = 'same',\n",
    "                 activation='relu'))\n",
    "model.add(MaxPooling1D(pool_size=2))\n",
    "model.add(Flatten())\n",
    "model.add(Dense(256, activation = 'relu'))\n",
    "model.add(Dense(100, activation='softmax'))\n",
    "model.compile(loss='categorical_crossentropy',\n",
    "              optimizer=adam_v2.Adam(learning_rate=0.001),\n",
    "              metrics='accuracy')"
   ]
  },
  {
   "cell_type": "code",
   "execution_count": 6,
   "id": "4398969c",
   "metadata": {},
   "outputs": [
    {
     "name": "stdout",
     "output_type": "stream",
     "text": [
      "Epoch 1/10\n",
      "919/919 [==============================] - 91s 98ms/step - loss: 0.7123 - accuracy: 0.8143 - val_loss: 0.1339 - val_accuracy: 0.9614\n",
      "Epoch 2/10\n",
      "919/919 [==============================] - 92s 101ms/step - loss: 0.0912 - accuracy: 0.9724 - val_loss: 0.1183 - val_accuracy: 0.9680\n",
      "Epoch 3/10\n",
      "919/919 [==============================] - 98s 106ms/step - loss: 0.0626 - accuracy: 0.9819 - val_loss: 0.0488 - val_accuracy: 0.9842\n",
      "Epoch 4/10\n",
      "919/919 [==============================] - 95s 104ms/step - loss: 0.0427 - accuracy: 0.9874 - val_loss: 0.0599 - val_accuracy: 0.9805\n",
      "Epoch 5/10\n",
      "919/919 [==============================] - 95s 103ms/step - loss: 0.0332 - accuracy: 0.9895 - val_loss: 0.0576 - val_accuracy: 0.9812\n",
      "Epoch 6/10\n",
      "919/919 [==============================] - 94s 102ms/step - loss: 0.0334 - accuracy: 0.9901 - val_loss: 0.0187 - val_accuracy: 0.9944\n",
      "Epoch 7/10\n",
      "919/919 [==============================] - 92s 101ms/step - loss: 0.0312 - accuracy: 0.9907 - val_loss: 0.0345 - val_accuracy: 0.9890\n",
      "Epoch 8/10\n",
      "919/919 [==============================] - 91s 99ms/step - loss: 0.0219 - accuracy: 0.9935 - val_loss: 0.0330 - val_accuracy: 0.9894\n",
      "Epoch 9/10\n",
      "919/919 [==============================] - 91s 99ms/step - loss: 0.0292 - accuracy: 0.9910 - val_loss: 0.0209 - val_accuracy: 0.9933\n",
      "Epoch 10/10\n",
      "919/919 [==============================] - 91s 99ms/step - loss: 0.0201 - accuracy: 0.9935 - val_loss: 0.0250 - val_accuracy: 0.9936\n"
     ]
    },
    {
     "data": {
      "text/plain": [
       "<keras.callbacks.History at 0x1ba00ff3d88>"
      ]
     },
     "execution_count": 6,
     "metadata": {},
     "output_type": "execute_result"
    }
   ],
   "source": [
    "model.fit(train_data_aug.astype('float32')/1600, to_categorical(train_index_aug), epochs = 10, validation_split=0.3)"
   ]
  },
  {
   "cell_type": "code",
   "execution_count": 7,
   "id": "1686907b",
   "metadata": {},
   "outputs": [
    {
     "name": "stdout",
     "output_type": "stream",
     "text": [
      "94/94 [==============================] - 3s 28ms/step - loss: 0.2475 - accuracy: 0.9580\n"
     ]
    },
    {
     "data": {
      "text/plain": [
       "[0.2474590390920639, 0.9580000042915344]"
      ]
     },
     "execution_count": 7,
     "metadata": {},
     "output_type": "execute_result"
    }
   ],
   "source": [
    "model.evaluate(test_data.astype('float32')/1600, to_categorical(test_index))"
   ]
  },
  {
   "cell_type": "code",
   "execution_count": 8,
   "id": "cbeffb6a",
   "metadata": {},
   "outputs": [],
   "source": [
    "model.save('data/model_tcp_mtu_aug.h5')"
   ]
  },
  {
   "cell_type": "code",
   "execution_count": null,
   "id": "9d811aa4",
   "metadata": {},
   "outputs": [],
   "source": []
  },
  {
   "cell_type": "code",
   "execution_count": null,
   "id": "d5f86ddc",
   "metadata": {},
   "outputs": [],
   "source": []
  }
 ],
 "metadata": {
  "kernelspec": {
   "display_name": "Python 3 (ipykernel)",
   "language": "python",
   "name": "python3"
  },
  "language_info": {
   "codemirror_mode": {
    "name": "ipython",
    "version": 3
   },
   "file_extension": ".py",
   "mimetype": "text/x-python",
   "name": "python",
   "nbconvert_exporter": "python",
   "pygments_lexer": "ipython3",
   "version": "3.7.13"
  }
 },
 "nbformat": 4,
 "nbformat_minor": 5
}
