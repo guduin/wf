{
 "cells": [
  {
   "cell_type": "code",
   "execution_count": 1,
   "id": "45a6ba73",
   "metadata": {},
   "outputs": [],
   "source": [
    "import numpy as np\n",
    "import matplotlib.pyplot as plt\n",
    "import pandas as pd\n",
    "from keras import Sequential\n",
    "from keras import layers\n",
    "from keras.layers import Conv1D, MaxPooling1D, Flatten, Dense, Dropout\n",
    "from keras.optimizers import adam_v2\n",
    "from tensorflow.keras.utils import to_categorical\n",
    "from keras.layers import Conv2D, MaxPooling2D, Flatten, Dense\n",
    "import random\n",
    "from tqdm.notebook import tqdm\n",
    "import collections\n",
    "from keras.models import load_model"
   ]
  },
  {
   "cell_type": "code",
   "execution_count": 2,
   "id": "3eed8653",
   "metadata": {},
   "outputs": [],
   "source": [
    "df = pd.read_csv('D:/F/data_edge/3_data/data.csv', header=None)\n",
    "df = df.sort_values([1, 0])\n",
    "\n",
    "train = np.array(df[0 : 7000].sample(7000))\n",
    "train_data = train[:, 2:502] # shape (7000, 500), 100 website, 70 repeat\n",
    "train_index = train[:, 0] # shape (7000,), 0-99 range, random\n",
    "\n",
    "test = np.array(df[7000 : 10000].sort_values([0, 1]))\n",
    "test_data = test[:, 2:502] # shape (3000, 500), 100 website, 70 repeat\n",
    "test_index = test[:, 0] # shape (3000,), 0-99 range, sequence"
   ]
  },
  {
   "cell_type": "code",
   "execution_count": 3,
   "id": "9a6ff44f",
   "metadata": {},
   "outputs": [],
   "source": [
    "model = load_model('data/model_tcp_mtu_aug_repeat.h5')"
   ]
  },
  {
   "cell_type": "code",
   "execution_count": 4,
   "id": "741ae688",
   "metadata": {},
   "outputs": [
    {
     "name": "stdout",
     "output_type": "stream",
     "text": [
      "94/94 [==============================] - 2s 17ms/step - loss: 0.2163 - accuracy: 0.9613\n"
     ]
    },
    {
     "data": {
      "text/plain": [
       "[0.2163182646036148, 0.9613333344459534]"
      ]
     },
     "execution_count": 4,
     "metadata": {},
     "output_type": "execute_result"
    }
   ],
   "source": [
    "model.evaluate(test_data.astype('float32')/1600, to_categorical(test_index))"
   ]
  },
  {
   "cell_type": "code",
   "execution_count": null,
   "id": "f0bcf665",
   "metadata": {},
   "outputs": [],
   "source": []
  },
  {
   "cell_type": "code",
   "execution_count": 5,
   "id": "f18c35e3",
   "metadata": {},
   "outputs": [],
   "source": [
    "def get_data_length(data_vector):\n",
    "    data_length = 500\n",
    "    for i in range(500):\n",
    "        if data_vector[i] == 0:\n",
    "            data_length = i\n",
    "            break\n",
    "    return data_length\n",
    "\n",
    "def add_noise(data_vector, data_length, count):\n",
    "    lin_num = list(np.linspace(0, data_length - 1, data_length, dtype=int))\n",
    "    random_num = random.sample(lin_num, count)\n",
    "    for i in random_num:\n",
    "        if data_vector[i] > 0:\n",
    "            data_vector[i] = max(data_vector)\n",
    "        elif data_vector[i] < 0:\n",
    "            data_vector[i] = min(data_vector)\n",
    "    return data_vector"
   ]
  },
  {
   "cell_type": "code",
   "execution_count": 6,
   "id": "827b6e89",
   "metadata": {},
   "outputs": [
    {
     "name": "stdout",
     "output_type": "stream",
     "text": [
      "94/94 [==============================] - 2s 26ms/step - loss: 0.2163 - accuracy: 0.9613\n",
      "94/94 [==============================] - 3s 28ms/step - loss: 0.2204 - accuracy: 0.9610\n",
      "94/94 [==============================] - 2s 22ms/step - loss: 0.2315 - accuracy: 0.9567\n",
      "94/94 [==============================] - 2s 24ms/step - loss: 0.2360 - accuracy: 0.9583\n",
      "94/94 [==============================] - 2s 17ms/step - loss: 0.2547 - accuracy: 0.9533\n",
      "94/94 [==============================] - 2s 23ms/step - loss: 0.2504 - accuracy: 0.9580\n",
      "94/94 [==============================] - 2s 17ms/step - loss: 0.2752 - accuracy: 0.9570\n",
      "94/94 [==============================] - 2s 24ms/step - loss: 0.2929 - accuracy: 0.9533\n",
      "94/94 [==============================] - 2s 21ms/step - loss: 0.2785 - accuracy: 0.9550\n",
      "94/94 [==============================] - 2s 17ms/step - loss: 0.2680 - accuracy: 0.9547\n",
      "94/94 [==============================] - 2s 23ms/step - loss: 0.3180 - accuracy: 0.9513\n",
      "94/94 [==============================] - 2s 17ms/step - loss: 0.3081 - accuracy: 0.9523\n",
      "94/94 [==============================] - 2s 17ms/step - loss: 0.3128 - accuracy: 0.9517\n",
      "94/94 [==============================] - 2s 24ms/step - loss: 0.3205 - accuracy: 0.9513\n",
      "94/94 [==============================] - 2s 17ms/step - loss: 0.3374 - accuracy: 0.9490\n",
      "94/94 [==============================] - 2s 16ms/step - loss: 0.3449 - accuracy: 0.9467\n",
      "94/94 [==============================] - 1s 16ms/step - loss: 0.3420 - accuracy: 0.9477\n",
      "94/94 [==============================] - 2s 16ms/step - loss: 0.3746 - accuracy: 0.9487\n",
      "94/94 [==============================] - 1s 16ms/step - loss: 0.3732 - accuracy: 0.9503\n",
      "94/94 [==============================] - 2s 16ms/step - loss: 0.3730 - accuracy: 0.9473\n",
      "94/94 [==============================] - 2s 16ms/step - loss: 0.3998 - accuracy: 0.9477\n"
     ]
    }
   ],
   "source": [
    "res = np.zeros(21)\n",
    "rate_list = np.linspace(0, 1, num=21, endpoint=True)\n",
    "for j in range(21):\n",
    "    rate = rate_list[j]\n",
    "    test_data_noise = test_data.copy()\n",
    "    for i in range(3000):\n",
    "        length = get_data_length(test_data_noise[i])\n",
    "        test_data_noise[i] = add_noise(test_data_noise[i], length, int(length * rate))\n",
    "    res[j] = model.evaluate(test_data_noise.astype('float32')/1600, to_categorical(test_index))[1]"
   ]
  },
  {
   "cell_type": "code",
   "execution_count": 7,
   "id": "3c1bf520",
   "metadata": {},
   "outputs": [
    {
     "data": {
      "text/plain": [
       "(0.0, 1.0)"
      ]
     },
     "execution_count": 7,
     "metadata": {},
     "output_type": "execute_result"
    },
    {
     "data": {
      "image/png": "[encoded data removed]",
      "text/plain": [
       "<Figure size 640x480 with 1 Axes>"
      ]
     },
     "metadata": {},
     "output_type": "display_data"
    }
   ],
   "source": [
    "plt.plot(res)\n",
    "plt.ylim((0,1))"
   ]
  },
  {
   "cell_type": "code",
   "execution_count": 8,
   "id": "07c1eb22",
   "metadata": {},
   "outputs": [
    {
     "name": "stdout",
     "output_type": "stream",
     "text": [
      "1.0493354221585443\n"
     ]
    }
   ],
   "source": [
    "print(len(res) / sum(res))"
   ]
  },
  {
   "cell_type": "code",
   "execution_count": null,
   "id": "272e510e",
   "metadata": {},
   "outputs": [],
   "source": []
  }
 ],
 "metadata": {
  "kernelspec": {
   "display_name": "Python 3 (ipykernel)",
   "language": "python",
   "name": "python3"
  },
  "language_info": {
   "codemirror_mode": {
    "name": "ipython",
    "version": 3
   },
   "file_extension": ".py",
   "mimetype": "text/x-python",
   "name": "python",
   "nbconvert_exporter": "python",
   "pygments_lexer": "ipython3",
   "version": "3.7.13"
  }
 },
 "nbformat": 4,
 "nbformat_minor": 5
}
