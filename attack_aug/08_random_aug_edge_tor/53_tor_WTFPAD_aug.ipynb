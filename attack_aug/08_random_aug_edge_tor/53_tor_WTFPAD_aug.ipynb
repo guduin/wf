{
 "cells": [
  {
   "cell_type": "code",
   "execution_count": 1,
   "id": "45a6ba73",
   "metadata": {},
   "outputs": [],
   "source": [
    "import numpy as np\n",
    "import matplotlib.pyplot as plt\n",
    "import pandas as pd\n",
    "from keras import Sequential\n",
    "from keras import layers\n",
    "from keras.layers import Conv1D, MaxPooling1D, Flatten, Dense, Dropout\n",
    "from keras.optimizers import adam_v2\n",
    "from tensorflow.keras.utils import to_categorical\n",
    "from keras.layers import Conv2D, MaxPooling2D, Flatten, Dense\n",
    "import random\n",
    "from tqdm.notebook import tqdm\n",
    "import collections\n",
    "from keras.models import load_model"
   ]
  },
  {
   "cell_type": "code",
   "execution_count": 2,
   "id": "1ff0dc0c",
   "metadata": {},
   "outputs": [],
   "source": [
    "# train_data = np.array(pd.read_pickle('F:/df/NoDef/X_train_NoDef.pkl')) # shape (76000, 5000), 95 website, 800 repeat\n",
    "# train_index = np.array(pd.read_pickle('F:/df/NoDef/y_train_NoDef.pkl')) # shape (76000,), 0-94 range, random\n",
    "\n",
    "test_data = np.array(pd.read_pickle('D:/F/df/NoDef/X_test_NoDef.pkl')) # shape (9500, 5000), 95 website, 100 repeat\n",
    "test_index = np.array(pd.read_pickle('D:/F/df/NoDef/y_test_NoDef.pkl')) # shape (9500,), 0-94 range, sequence"
   ]
  },
  {
   "cell_type": "code",
   "execution_count": 3,
   "id": "7d538771",
   "metadata": {},
   "outputs": [],
   "source": [
    "model = load_model('data/model_tor_wtfpad_aug.h5')"
   ]
  },
  {
   "cell_type": "code",
   "execution_count": 4,
   "id": "86c9c534",
   "metadata": {},
   "outputs": [
    {
     "name": "stdout",
     "output_type": "stream",
     "text": [
      "297/297 [==============================] - 31s 100ms/step - loss: 0.2275 - accuracy: 0.9500\n"
     ]
    },
    {
     "data": {
      "text/plain": [
       "[0.22746969759464264, 0.949999988079071]"
      ]
     },
     "execution_count": 4,
     "metadata": {},
     "output_type": "execute_result"
    }
   ],
   "source": [
    "model.evaluate(test_data.astype('float32'), to_categorical(test_index))"
   ]
  },
  {
   "cell_type": "code",
   "execution_count": null,
   "id": "6ecd4185",
   "metadata": {},
   "outputs": [],
   "source": []
  },
  {
   "cell_type": "code",
   "execution_count": 5,
   "id": "255e553e",
   "metadata": {},
   "outputs": [],
   "source": [
    "def get_data_length(data_vector):\n",
    "    data_length = 5000\n",
    "    for i in range(5000):\n",
    "        if data_vector[i] == 0:\n",
    "            data_length = i\n",
    "            break\n",
    "    return data_length\n",
    "\n",
    "def wtf_pad(data_vector, data_length, count):\n",
    "    burst_location = list()\n",
    "    for i in range(10):\n",
    "        burst_location.append(random.randint(0, data_length-1))\n",
    "        \n",
    "    for i in range(count):\n",
    "        location = burst_location[random.randint(0, 10-1)] + random.randint(-10, 10)\n",
    "        if location < 0:\n",
    "            location = 0\n",
    "        elif location > 5000:\n",
    "            location = 5000\n",
    "        packet = random.randint(0, 1) * 2 - 1\n",
    "        data_vector = np.insert(data_vector, location, packet)\n",
    "    return data_vector[0 : 5000]\n",
    "\n",
    "def add_noise(data_vector, data_length, count):\n",
    "    for i in range(count):\n",
    "        location = random.randint(0, data_length - 1)\n",
    "        packet = random.randint(0, 1) * 2 - 1\n",
    "        data_vector = np.insert(data_vector, location, packet)\n",
    "        if data_length < 5000:\n",
    "            data_length += 1\n",
    "    \n",
    "    return data_vector[0 : 5000]"
   ]
  },
  {
   "cell_type": "code",
   "execution_count": 6,
   "id": "42b485c4",
   "metadata": {},
   "outputs": [
    {
     "name": "stdout",
     "output_type": "stream",
     "text": [
      "297/297 [==============================] - 19s 64ms/step - loss: 0.2275 - accuracy: 0.9500\n",
      "297/297 [==============================] - 19s 63ms/step - loss: 0.2512 - accuracy: 0.9432\n",
      "297/297 [==============================] - 19s 63ms/step - loss: 0.2966 - accuracy: 0.9315\n",
      "297/297 [==============================] - 18s 62ms/step - loss: 0.3723 - accuracy: 0.9123\n",
      "297/297 [==============================] - 20s 66ms/step - loss: 0.4297 - accuracy: 0.8938\n",
      "297/297 [==============================] - 18s 62ms/step - loss: 0.4911 - accuracy: 0.8809\n",
      "297/297 [==============================] - 17s 59ms/step - loss: 0.5539 - accuracy: 0.8617\n",
      "297/297 [==============================] - 19s 63ms/step - loss: 0.6072 - accuracy: 0.8500\n",
      "297/297 [==============================] - 17s 59ms/step - loss: 0.6491 - accuracy: 0.8396\n",
      "297/297 [==============================] - 18s 60ms/step - loss: 0.7009 - accuracy: 0.8293\n",
      "297/297 [==============================] - 19s 62ms/step - loss: 0.7309 - accuracy: 0.8200\n",
      "297/297 [==============================] - 19s 62ms/step - loss: 0.7663 - accuracy: 0.8068\n",
      "297/297 [==============================] - 17s 59ms/step - loss: 0.7816 - accuracy: 0.8053\n",
      "297/297 [==============================] - 17s 58ms/step - loss: 0.8106 - accuracy: 0.7951\n",
      "297/297 [==============================] - 18s 61ms/step - loss: 0.8536 - accuracy: 0.7883\n",
      "297/297 [==============================] - 18s 61ms/step - loss: 0.9188 - accuracy: 0.7689\n",
      "297/297 [==============================] - 18s 62ms/step - loss: 0.9673 - accuracy: 0.7594\n",
      "297/297 [==============================] - 17s 58ms/step - loss: 1.0681 - accuracy: 0.7362\n",
      "297/297 [==============================] - 17s 58ms/step - loss: 1.1396 - accuracy: 0.7145\n",
      "297/297 [==============================] - 19s 63ms/step - loss: 1.1907 - accuracy: 0.6979\n",
      "297/297 [==============================] - 17s 57ms/step - loss: 1.3971 - accuracy: 0.6551\n"
     ]
    }
   ],
   "source": [
    "res = np.zeros(21)\n",
    "rate_list = np.linspace(0, 1, num=21, endpoint=True)\n",
    "for j in range(21):\n",
    "    rate = rate_list[j]\n",
    "    test_data_noise = test_data.copy()\n",
    "    for i in range(9500):\n",
    "        length = get_data_length(test_data_noise[i])\n",
    "        test_data_noise[i] = wtf_pad(test_data_noise[i], length, int(length * rate / 2))\n",
    "        test_data_noise[i] = add_noise(test_data_noise[i], length, int(length * rate / 2))\n",
    "    res[j] = model.evaluate(test_data_noise.astype('float32'), to_categorical(test_index))[1]"
   ]
  },
  {
   "cell_type": "code",
   "execution_count": 7,
   "id": "3a747c51",
   "metadata": {},
   "outputs": [
    {
     "data": {
      "text/plain": [
       "(0.0, 1.0)"
      ]
     },
     "execution_count": 7,
     "metadata": {},
     "output_type": "execute_result"
    },
    {
     "data": {
      "image/png": "[encoded data removed]",
      "text/plain": [
       "<Figure size 640x480 with 1 Axes>"
      ]
     },
     "metadata": {},
     "output_type": "display_data"
    }
   ],
   "source": [
    "plt.plot(res)\n",
    "plt.ylim((0, 1))"
   ]
  },
  {
   "cell_type": "code",
   "execution_count": 8,
   "id": "48ddcc6d",
   "metadata": {},
   "outputs": [],
   "source": [
    "np.save('data/res_tor_wtfpad_aug.npy', res)"
   ]
  },
  {
   "cell_type": "code",
   "execution_count": null,
   "id": "b1cdab50",
   "metadata": {},
   "outputs": [],
   "source": []
  }
 ],
 "metadata": {
  "kernelspec": {
   "display_name": "Python 3 (ipykernel)",
   "language": "python",
   "name": "python3"
  },
  "language_info": {
   "codemirror_mode": {
    "name": "ipython",
    "version": 3
   },
   "file_extension": ".py",
   "mimetype": "text/x-python",
   "name": "python",
   "nbconvert_exporter": "python",
   "pygments_lexer": "ipython3",
   "version": "3.7.13"
  }
 },
 "nbformat": 4,
 "nbformat_minor": 5
}
