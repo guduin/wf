{
 "cells": [
  {
   "cell_type": "code",
   "execution_count": 1,
   "id": "3cefb3f1",
   "metadata": {},
   "outputs": [],
   "source": [
    "import numpy as np\n",
    "import matplotlib.pyplot as plt\n",
    "import pandas as pd\n",
    "from keras import Sequential\n",
    "from keras import layers\n",
    "from keras.layers import Conv1D, MaxPooling1D, Flatten, Dense, Dropout\n",
    "from keras.optimizers import adam_v2\n",
    "from tensorflow.keras.utils import to_categorical\n",
    "from keras.layers import Conv2D, MaxPooling2D, Flatten, Dense\n",
    "import random\n",
    "from tqdm.notebook import tqdm\n",
    "import collections"
   ]
  },
  {
   "cell_type": "code",
   "execution_count": null,
   "id": "0c7b5ff5",
   "metadata": {},
   "outputs": [],
   "source": []
  },
  {
   "cell_type": "code",
   "execution_count": 2,
   "id": "165506d1",
   "metadata": {},
   "outputs": [],
   "source": [
    "train_data = np.array(pd.read_pickle('F:/df/NoDef/X_train_NoDef.pkl')) # shape (76000, 5000), 95 website, 800 repeat\n",
    "train_index = np.array(pd.read_pickle('F:/df/NoDef/y_train_NoDef.pkl')) # shape (76000,), 0-94 range, random\n",
    "\n",
    "test_data = np.array(pd.read_pickle('F:/df/NoDef/X_test_NoDef.pkl')) # shape (9500, 5000), 95 website, 100 repeat\n",
    "test_index = np.array(pd.read_pickle('F:/df/NoDef/y_test_NoDef.pkl')) # shape (9500,), 0-94 range, sequence"
   ]
  },
  {
   "cell_type": "code",
   "execution_count": 3,
   "id": "cad31d8c",
   "metadata": {},
   "outputs": [],
   "source": [
    "train_data = train_data[0 : 7600]\n",
    "train_index = train_index[0 : 7600]"
   ]
  },
  {
   "cell_type": "code",
   "execution_count": null,
   "id": "6d6c944b",
   "metadata": {},
   "outputs": [],
   "source": []
  },
  {
   "cell_type": "code",
   "execution_count": 5,
   "id": "3f25a423",
   "metadata": {},
   "outputs": [],
   "source": [
    "# DF model used for non-defended dataset\n",
    "from keras.models import Sequential\n",
    "from keras.layers import Conv1D, MaxPooling1D, BatchNormalization\n",
    "from keras.layers.core import Activation, Flatten, Dense, Dropout\n",
    "from keras.layers.activation import ELU\n",
    "from keras.initializers import glorot_uniform\n",
    "\n",
    "class DFNet:\n",
    "    @staticmethod\n",
    "    def build(input_shape, classes):\n",
    "        model = Sequential()\n",
    "        #Block1\n",
    "        filter_num = ['None',32,64,128,256]\n",
    "        kernel_size = ['None',8,8,8,8]\n",
    "        conv_stride_size = ['None',1,1,1,1]\n",
    "        pool_stride_size = ['None',4,4,4,4]\n",
    "        pool_size = ['None',8,8,8,8]\n",
    "\n",
    "        model.add(Conv1D(filters=filter_num[1], kernel_size=kernel_size[1], input_shape=input_shape,\n",
    "                         strides=conv_stride_size[1], padding='same',\n",
    "                         name='block1_conv1'))\n",
    "        model.add(BatchNormalization(axis=-1))\n",
    "        model.add(ELU(alpha=1.0, name='block1_adv_act1'))\n",
    "        model.add(Conv1D(filters=filter_num[1], kernel_size=kernel_size[1],\n",
    "                         strides=conv_stride_size[1], padding='same',\n",
    "                         name='block1_conv2'))\n",
    "        model.add(BatchNormalization(axis=-1))\n",
    "        model.add(ELU(alpha=1.0, name='block1_adv_act2'))\n",
    "        model.add(MaxPooling1D(pool_size=pool_size[1], strides=pool_stride_size[1],\n",
    "                               padding='same', name='block1_pool'))\n",
    "        model.add(Dropout(0.1, name='block1_dropout'))\n",
    "\n",
    "        model.add(Conv1D(filters=filter_num[2], kernel_size=kernel_size[2],\n",
    "                         strides=conv_stride_size[2], padding='same',\n",
    "                         name='block2_conv1'))\n",
    "        model.add(BatchNormalization())\n",
    "        model.add(Activation('relu', name='block2_act1'))\n",
    "\n",
    "        model.add(Conv1D(filters=filter_num[2], kernel_size=kernel_size[2],\n",
    "                         strides=conv_stride_size[2], padding='same',\n",
    "                         name='block2_conv2'))\n",
    "        model.add(BatchNormalization())\n",
    "        model.add(Activation('relu', name='block2_act2'))\n",
    "        model.add(MaxPooling1D(pool_size=pool_size[2], strides=pool_stride_size[3],\n",
    "                               padding='same', name='block2_pool'))\n",
    "        model.add(Dropout(0.1, name='block2_dropout'))\n",
    "\n",
    "        model.add(Conv1D(filters=filter_num[3], kernel_size=kernel_size[3],\n",
    "                         strides=conv_stride_size[3], padding='same',\n",
    "                         name='block3_conv1'))\n",
    "        model.add(BatchNormalization())\n",
    "        model.add(Activation('relu', name='block3_act1'))\n",
    "        model.add(Conv1D(filters=filter_num[3], kernel_size=kernel_size[3],\n",
    "                         strides=conv_stride_size[3], padding='same',\n",
    "                         name='block3_conv2'))\n",
    "        model.add(BatchNormalization())\n",
    "        model.add(Activation('relu', name='block3_act2'))\n",
    "        model.add(MaxPooling1D(pool_size=pool_size[3], strides=pool_stride_size[3],\n",
    "                               padding='same', name='block3_pool'))\n",
    "        model.add(Dropout(0.1, name='block3_dropout'))\n",
    "\n",
    "        model.add(Conv1D(filters=filter_num[4], kernel_size=kernel_size[4],\n",
    "                         strides=conv_stride_size[4], padding='same',\n",
    "                         name='block4_conv1'))\n",
    "        model.add(BatchNormalization())\n",
    "        model.add(Activation('relu', name='block4_act1'))\n",
    "        model.add(Conv1D(filters=filter_num[4], kernel_size=kernel_size[4],\n",
    "                         strides=conv_stride_size[4], padding='same',\n",
    "                         name='block4_conv2'))\n",
    "        model.add(BatchNormalization())\n",
    "        model.add(Activation('relu', name='block4_act2'))\n",
    "        model.add(MaxPooling1D(pool_size=pool_size[4], strides=pool_stride_size[4],\n",
    "                               padding='same', name='block4_pool'))\n",
    "        model.add(Dropout(0.1, name='block4_dropout'))\n",
    "\n",
    "        model.add(Flatten(name='flatten'))\n",
    "        model.add(Dense(512, kernel_initializer=glorot_uniform(seed=0), name='fc1'))\n",
    "        model.add(BatchNormalization())\n",
    "        model.add(Activation('relu', name='fc1_act'))\n",
    "\n",
    "        model.add(Dropout(0.7, name='fc1_dropout'))\n",
    "\n",
    "        model.add(Dense(512, kernel_initializer=glorot_uniform(seed=0), name='fc2'))\n",
    "        model.add(BatchNormalization())\n",
    "        model.add(Activation('relu', name='fc2_act'))\n",
    "\n",
    "        model.add(Dropout(0.5, name='fc2_dropout'))\n",
    "\n",
    "        model.add(Dense(classes, kernel_initializer=glorot_uniform(seed=0), name='fc3'))\n",
    "        model.add(Activation('softmax', name=\"softmax\"))\n",
    "        return model\n"
   ]
  },
  {
   "cell_type": "code",
   "execution_count": 16,
   "id": "f35f1058",
   "metadata": {},
   "outputs": [],
   "source": [
    "model = DFNet.build(input_shape=(5000,1), classes=95)"
   ]
  },
  {
   "cell_type": "code",
   "execution_count": 17,
   "id": "065ddc2c",
   "metadata": {},
   "outputs": [],
   "source": [
    "from keras.optimizers import Adamax\n",
    "\n",
    "model.compile(loss=\"categorical_crossentropy\", \n",
    "              optimizer=Adamax(learning_rate=0.002, beta_1=0.9, beta_2=0.999, epsilon=1e-08, decay=0.0), \n",
    "              metrics=[\"accuracy\"])"
   ]
  },
  {
   "cell_type": "code",
   "execution_count": 18,
   "id": "c19238e7",
   "metadata": {},
   "outputs": [
    {
     "name": "stdout",
     "output_type": "stream",
     "text": [
      "Epoch 1/30\n",
      "167/167 [==============================] - 146s 836ms/step - loss: 4.0130 - accuracy: 0.0979 - val_loss: 5.2701 - val_accuracy: 0.0101\n",
      "Epoch 2/30\n",
      "167/167 [==============================] - 140s 837ms/step - loss: 3.0483 - accuracy: 0.2143 - val_loss: 4.6349 - val_accuracy: 0.0105\n",
      "Epoch 3/30\n",
      "167/167 [==============================] - 139s 835ms/step - loss: 2.4774 - accuracy: 0.3436 - val_loss: 2.5571 - val_accuracy: 0.3048\n",
      "Epoch 4/30\n",
      "167/167 [==============================] - 138s 826ms/step - loss: 2.0780 - accuracy: 0.4303 - val_loss: 1.2777 - val_accuracy: 0.6833\n",
      "Epoch 5/30\n",
      "167/167 [==============================] - 134s 805ms/step - loss: 1.7899 - accuracy: 0.5211 - val_loss: 1.1112 - val_accuracy: 0.7018\n",
      "Epoch 6/30\n",
      "167/167 [==============================] - 137s 819ms/step - loss: 1.5493 - accuracy: 0.5758 - val_loss: 1.0065 - val_accuracy: 0.7386\n",
      "Epoch 7/30\n",
      "167/167 [==============================] - 135s 810ms/step - loss: 1.4136 - accuracy: 0.6184 - val_loss: 0.9751 - val_accuracy: 0.7246\n",
      "Epoch 8/30\n",
      "167/167 [==============================] - 138s 827ms/step - loss: 1.2527 - accuracy: 0.6523 - val_loss: 0.9373 - val_accuracy: 0.7500\n",
      "Epoch 9/30\n",
      "167/167 [==============================] - 135s 809ms/step - loss: 1.1091 - accuracy: 0.6951 - val_loss: 0.7303 - val_accuracy: 0.8004\n",
      "Epoch 10/30\n",
      "167/167 [==============================] - 131s 782ms/step - loss: 1.0130 - accuracy: 0.7246 - val_loss: 0.6480 - val_accuracy: 0.8338\n",
      "Epoch 11/30\n",
      "167/167 [==============================] - 77s 460ms/step - loss: 0.9161 - accuracy: 0.7551 - val_loss: 0.6214 - val_accuracy: 0.8434\n",
      "Epoch 12/30\n",
      "167/167 [==============================] - 66s 396ms/step - loss: 0.8349 - accuracy: 0.7818 - val_loss: 0.5625 - val_accuracy: 0.8452\n",
      "Epoch 13/30\n",
      "167/167 [==============================] - 67s 400ms/step - loss: 0.7579 - accuracy: 0.8036 - val_loss: 0.5183 - val_accuracy: 0.8675\n",
      "Epoch 14/30\n",
      "167/167 [==============================] - 70s 422ms/step - loss: 0.6850 - accuracy: 0.8242 - val_loss: 0.4386 - val_accuracy: 0.8917\n",
      "Epoch 15/30\n",
      "167/167 [==============================] - 67s 400ms/step - loss: 0.6158 - accuracy: 0.8353 - val_loss: 0.4159 - val_accuracy: 0.8943\n",
      "Epoch 16/30\n",
      "167/167 [==============================] - 68s 407ms/step - loss: 0.5679 - accuracy: 0.8515 - val_loss: 0.4029 - val_accuracy: 0.8969\n",
      "Epoch 17/30\n",
      "167/167 [==============================] - 69s 412ms/step - loss: 0.5268 - accuracy: 0.8677 - val_loss: 0.4007 - val_accuracy: 0.9018\n",
      "Epoch 18/30\n",
      "167/167 [==============================] - 66s 393ms/step - loss: 0.4974 - accuracy: 0.8703 - val_loss: 0.3894 - val_accuracy: 0.9022\n",
      "Epoch 19/30\n",
      "167/167 [==============================] - 64s 384ms/step - loss: 0.4447 - accuracy: 0.8818 - val_loss: 0.3455 - val_accuracy: 0.9132\n",
      "Epoch 20/30\n",
      "167/167 [==============================] - 64s 386ms/step - loss: 0.4080 - accuracy: 0.8929 - val_loss: 0.3740 - val_accuracy: 0.9101\n",
      "Epoch 21/30\n",
      "167/167 [==============================] - 61s 366ms/step - loss: 0.3706 - accuracy: 0.9028 - val_loss: 0.3138 - val_accuracy: 0.9254\n",
      "Epoch 22/30\n",
      "167/167 [==============================] - 65s 386ms/step - loss: 0.3655 - accuracy: 0.9034 - val_loss: 0.3480 - val_accuracy: 0.9110\n",
      "Epoch 23/30\n",
      "167/167 [==============================] - 63s 375ms/step - loss: 0.3395 - accuracy: 0.9113 - val_loss: 0.3226 - val_accuracy: 0.9232\n",
      "Epoch 24/30\n",
      "167/167 [==============================] - 63s 378ms/step - loss: 0.3057 - accuracy: 0.9211 - val_loss: 0.3409 - val_accuracy: 0.9202\n",
      "Epoch 25/30\n",
      "167/167 [==============================] - 64s 385ms/step - loss: 0.3059 - accuracy: 0.9180 - val_loss: 0.3051 - val_accuracy: 0.9263\n",
      "Epoch 26/30\n",
      "167/167 [==============================] - 63s 377ms/step - loss: 0.2773 - accuracy: 0.9248 - val_loss: 0.3359 - val_accuracy: 0.9215\n",
      "Epoch 27/30\n",
      "167/167 [==============================] - 62s 371ms/step - loss: 0.2506 - accuracy: 0.9329 - val_loss: 0.3260 - val_accuracy: 0.9215\n",
      "Epoch 28/30\n",
      "167/167 [==============================] - 62s 373ms/step - loss: 0.2288 - accuracy: 0.9385 - val_loss: 0.3214 - val_accuracy: 0.9241\n",
      "Epoch 29/30\n",
      "167/167 [==============================] - 63s 376ms/step - loss: 0.2382 - accuracy: 0.9395 - val_loss: 0.2908 - val_accuracy: 0.9333\n",
      "Epoch 30/30\n",
      "167/167 [==============================] - 63s 378ms/step - loss: 0.2132 - accuracy: 0.9406 - val_loss: 0.2877 - val_accuracy: 0.9325\n"
     ]
    },
    {
     "data": {
      "text/plain": [
       "<keras.callbacks.History at 0x1f25da41f88>"
      ]
     },
     "execution_count": 18,
     "metadata": {},
     "output_type": "execute_result"
    }
   ],
   "source": [
    "model.fit(train_data.astype('float32'), to_categorical(train_index), epochs = 30, validation_split=0.3)"
   ]
  },
  {
   "cell_type": "code",
   "execution_count": 19,
   "id": "be3689a9",
   "metadata": {},
   "outputs": [
    {
     "name": "stdout",
     "output_type": "stream",
     "text": [
      "297/297 [==============================] - 17s 57ms/step - loss: 0.3002 - accuracy: 0.9336\n"
     ]
    },
    {
     "data": {
      "text/plain": [
       "[0.3002021610736847, 0.9335789680480957]"
      ]
     },
     "execution_count": 19,
     "metadata": {},
     "output_type": "execute_result"
    }
   ],
   "source": [
    "model.evaluate(test_data, to_categorical(test_index))"
   ]
  },
  {
   "cell_type": "code",
   "execution_count": 20,
   "id": "47feb0e5",
   "metadata": {},
   "outputs": [],
   "source": [
    "model.save('data/model_tor.h5')"
   ]
  },
  {
   "cell_type": "code",
   "execution_count": null,
   "id": "17206742",
   "metadata": {},
   "outputs": [],
   "source": []
  }
 ],
 "metadata": {
  "kernelspec": {
   "display_name": "Python 3 (ipykernel)",
   "language": "python",
   "name": "python3"
  },
  "language_info": {
   "codemirror_mode": {
    "name": "ipython",
    "version": 3
   },
   "file_extension": ".py",
   "mimetype": "text/x-python",
   "name": "python",
   "nbconvert_exporter": "python",
   "pygments_lexer": "ipython3",
   "version": "3.7.13"
  }
 },
 "nbformat": 4,
 "nbformat_minor": 5
}
