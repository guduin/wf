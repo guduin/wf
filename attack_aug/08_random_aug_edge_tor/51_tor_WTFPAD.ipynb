{
 "cells": [
  {
   "cell_type": "code",
   "execution_count": 1,
   "id": "45a6ba73",
   "metadata": {},
   "outputs": [],
   "source": [
    "import numpy as np\n",
    "import matplotlib.pyplot as plt\n",
    "import pandas as pd\n",
    "from keras import Sequential\n",
    "from keras import layers\n",
    "from keras.layers import Conv1D, MaxPooling1D, Flatten, Dense, Dropout\n",
    "from keras.optimizers import adam_v2\n",
    "from tensorflow.keras.utils import to_categorical\n",
    "from keras.layers import Conv2D, MaxPooling2D, Flatten, Dense\n",
    "import random\n",
    "from tqdm.notebook import tqdm\n",
    "import collections\n",
    "from keras.models import load_model"
   ]
  },
  {
   "cell_type": "code",
   "execution_count": 2,
   "id": "1ff0dc0c",
   "metadata": {},
   "outputs": [],
   "source": [
    "# train_data = np.array(pd.read_pickle('F:/df/NoDef/X_train_NoDef.pkl')) # shape (76000, 5000), 95 website, 800 repeat\n",
    "# train_index = np.array(pd.read_pickle('F:/df/NoDef/y_train_NoDef.pkl')) # shape (76000,), 0-94 range, random\n",
    "\n",
    "test_data = np.array(pd.read_pickle('D:/F/df/NoDef/X_test_NoDef.pkl')) # shape (9500, 5000), 95 website, 100 repeat\n",
    "test_index = np.array(pd.read_pickle('D:/F/df/NoDef/y_test_NoDef.pkl')) # shape (9500,), 0-94 range, sequence"
   ]
  },
  {
   "cell_type": "code",
   "execution_count": 3,
   "id": "7d538771",
   "metadata": {},
   "outputs": [],
   "source": [
    "model = load_model('data/model_tor.h5')"
   ]
  },
  {
   "cell_type": "code",
   "execution_count": 4,
   "id": "86c9c534",
   "metadata": {},
   "outputs": [
    {
     "name": "stdout",
     "output_type": "stream",
     "text": [
      "297/297 [==============================] - 18s 61ms/step - loss: 0.3002 - accuracy: 0.9336\n"
     ]
    },
    {
     "data": {
      "text/plain": [
       "[0.3002021610736847, 0.9335789680480957]"
      ]
     },
     "execution_count": 4,
     "metadata": {},
     "output_type": "execute_result"
    }
   ],
   "source": [
    "model.evaluate(test_data.astype('float32'), to_categorical(test_index))"
   ]
  },
  {
   "cell_type": "code",
   "execution_count": 5,
   "id": "255e553e",
   "metadata": {},
   "outputs": [],
   "source": [
    "def get_data_length(data_vector):\n",
    "    data_length = 5000\n",
    "    for i in range(5000):\n",
    "        if data_vector[i] == 0:\n",
    "            data_length = i\n",
    "            break\n",
    "    return data_length\n",
    "\n",
    "def wtf_pad(data_vector, data_length, count):\n",
    "    burst_location = list()\n",
    "    for i in range(10):\n",
    "        burst_location.append(random.randint(0, data_length-1))\n",
    "        \n",
    "    for i in range(count):\n",
    "        location = burst_location[random.randint(0, 10-1)] + random.randint(-10, 10)\n",
    "        if location < 0:\n",
    "            location = 0\n",
    "        elif location > 5000:\n",
    "            location = 5000\n",
    "        packet = random.randint(0, 1) * 2 - 1\n",
    "        data_vector = np.insert(data_vector, location, packet)\n",
    "    return data_vector[0 : 5000]\n",
    "\n",
    "def add_noise(data_vector, data_length, count):\n",
    "    for i in range(count):\n",
    "        location = random.randint(0, data_length - 1)\n",
    "        packet = random.randint(0, 1) * 2 - 1\n",
    "        data_vector = np.insert(data_vector, location, packet)\n",
    "        if data_length < 5000:\n",
    "            data_length += 1\n",
    "    \n",
    "    return data_vector[0 : 5000]"
   ]
  },
  {
   "cell_type": "code",
   "execution_count": 6,
   "id": "42b485c4",
   "metadata": {},
   "outputs": [
    {
     "name": "stdout",
     "output_type": "stream",
     "text": [
      "297/297 [==============================] - 30s 102ms/step - loss: 0.3002 - accuracy: 0.9336\n",
      "297/297 [==============================] - 18s 60ms/step - loss: 0.4160 - accuracy: 0.8983\n",
      "297/297 [==============================] - 19s 63ms/step - loss: 0.9780 - accuracy: 0.7480\n",
      "297/297 [==============================] - 21s 70ms/step - loss: 2.2729 - accuracy: 0.4966\n",
      "297/297 [==============================] - 21s 69ms/step - loss: 3.7223 - accuracy: 0.3155\n",
      "297/297 [==============================] - 18s 61ms/step - loss: 4.9682 - accuracy: 0.1991\n",
      "297/297 [==============================] - 18s 61ms/step - loss: 6.0724 - accuracy: 0.1329\n",
      "297/297 [==============================] - 18s 62ms/step - loss: 6.9340 - accuracy: 0.0889\n",
      "297/297 [==============================] - 17s 58ms/step - loss: 7.7593 - accuracy: 0.0657\n",
      "297/297 [==============================] - 18s 62ms/step - loss: 8.4261 - accuracy: 0.0514\n",
      "297/297 [==============================] - 17s 57ms/step - loss: 8.9910 - accuracy: 0.0431\n",
      "297/297 [==============================] - 18s 62ms/step - loss: 9.5752 - accuracy: 0.0356\n",
      "297/297 [==============================] - 18s 60ms/step - loss: 9.9708 - accuracy: 0.0309\n",
      "297/297 [==============================] - 19s 63ms/step - loss: 10.3591 - accuracy: 0.0273\n",
      "297/297 [==============================] - 18s 59ms/step - loss: 10.6380 - accuracy: 0.0257\n",
      "297/297 [==============================] - 18s 61ms/step - loss: 10.8645 - accuracy: 0.0243\n",
      "297/297 [==============================] - 18s 62ms/step - loss: 11.0386 - accuracy: 0.0226\n",
      "297/297 [==============================] - 17s 58ms/step - loss: 11.1867 - accuracy: 0.0218\n",
      "297/297 [==============================] - 17s 58ms/step - loss: 11.2788 - accuracy: 0.0211\n",
      "297/297 [==============================] - 19s 62ms/step - loss: 11.3988 - accuracy: 0.0215\n",
      "297/297 [==============================] - 17s 57ms/step - loss: 11.4169 - accuracy: 0.0208\n"
     ]
    }
   ],
   "source": [
    "res = np.zeros(21)\n",
    "rate_list = np.linspace(0, 1, num=21, endpoint=True)\n",
    "for j in range(21):\n",
    "    rate = rate_list[j]\n",
    "    test_data_noise = test_data.copy()\n",
    "    for i in range(9500):\n",
    "        length = get_data_length(test_data_noise[i])\n",
    "        test_data_noise[i] = wtf_pad(test_data_noise[i], length, int(length * rate / 2))\n",
    "        test_data_noise[i] = add_noise(test_data_noise[i], length, int(length * rate / 2))\n",
    "    res[j] = model.evaluate(test_data_noise.astype('float32'), to_categorical(test_index))[1]"
   ]
  },
  {
   "cell_type": "code",
   "execution_count": 7,
   "id": "14694faa",
   "metadata": {},
   "outputs": [
    {
     "data": {
      "text/plain": [
       "(0.0, 1.0)"
      ]
     },
     "execution_count": 7,
     "metadata": {},
     "output_type": "execute_result"
    },
    {
     "data": {
      "image/png": "[encoded data removed]",
      "text/plain": [
       "<Figure size 640x480 with 1 Axes>"
      ]
     },
     "metadata": {},
     "output_type": "display_data"
    }
   ],
   "source": [
    "plt.plot(res)\n",
    "plt.ylim((0,1))"
   ]
  },
  {
   "cell_type": "code",
   "execution_count": 8,
   "id": "3a747c51",
   "metadata": {},
   "outputs": [],
   "source": [
    "np.save('data/res_tor_wtfpad.npy', res)"
   ]
  },
  {
   "cell_type": "code",
   "execution_count": null,
   "id": "48ddcc6d",
   "metadata": {},
   "outputs": [],
   "source": []
  }
 ],
 "metadata": {
  "kernelspec": {
   "display_name": "Python 3 (ipykernel)",
   "language": "python",
   "name": "python3"
  },
  "language_info": {
   "codemirror_mode": {
    "name": "ipython",
    "version": 3
   },
   "file_extension": ".py",
   "mimetype": "text/x-python",
   "name": "python",
   "nbconvert_exporter": "python",
   "pygments_lexer": "ipython3",
   "version": "3.7.13"
  }
 },
 "nbformat": 4,
 "nbformat_minor": 5
}
