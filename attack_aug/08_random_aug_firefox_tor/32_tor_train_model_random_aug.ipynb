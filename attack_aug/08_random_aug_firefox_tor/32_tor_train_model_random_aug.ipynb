{
 "cells": [
  {
   "cell_type": "code",
   "execution_count": 2,
   "id": "3cefb3f1",
   "metadata": {},
   "outputs": [],
   "source": [
    "import numpy as np\n",
    "import matplotlib.pyplot as plt\n",
    "import pandas as pd\n",
    "from keras import Sequential\n",
    "from keras import layers\n",
    "from keras.layers import Conv1D, MaxPooling1D, Flatten, Dense, Dropout\n",
    "from keras.optimizers import adam_v2\n",
    "from tensorflow.keras.utils import to_categorical\n",
    "from keras.layers import Conv2D, MaxPooling2D, Flatten, Dense\n",
    "import random\n",
    "from tqdm.notebook import tqdm\n",
    "import collections"
   ]
  },
  {
   "cell_type": "code",
   "execution_count": null,
   "id": "0c7b5ff5",
   "metadata": {},
   "outputs": [],
   "source": []
  },
  {
   "cell_type": "code",
   "execution_count": 3,
   "id": "165506d1",
   "metadata": {},
   "outputs": [],
   "source": [
    "train_data = np.array(pd.read_pickle('F:/df/NoDef/X_train_NoDef.pkl')) # shape (76000, 5000), 95 website, 800 repeat\n",
    "train_index = np.array(pd.read_pickle('F:/df/NoDef/y_train_NoDef.pkl')) # shape (76000,), 0-94 range, random\n",
    "\n",
    "test_data = np.array(pd.read_pickle('F:/df/NoDef/X_test_NoDef.pkl')) # shape (9500, 5000), 95 website, 100 repeat\n",
    "test_index = np.array(pd.read_pickle('F:/df/NoDef/y_test_NoDef.pkl')) # shape (9500,), 0-94 range, sequence"
   ]
  },
  {
   "cell_type": "code",
   "execution_count": 4,
   "id": "cad31d8c",
   "metadata": {},
   "outputs": [],
   "source": [
    "train_data = train_data[0 : 7600]\n",
    "train_index = train_index[0 : 7600]"
   ]
  },
  {
   "cell_type": "code",
   "execution_count": 5,
   "id": "6d6c944b",
   "metadata": {},
   "outputs": [],
   "source": [
    "def get_data_length(data_vector):\n",
    "    data_length = 5000\n",
    "    for i in range(5000):\n",
    "        if data_vector[i] == 0:\n",
    "            data_length = i\n",
    "            break\n",
    "    return data_length\n",
    "\n",
    "def add_noise(data_vector, data_length, count):\n",
    "    for i in range(count):\n",
    "        location = random.randint(0, data_length - 1)\n",
    "        packet = random.randint(0, 1) * 2 - 1\n",
    "        data_vector = np.insert(data_vector, location, packet)\n",
    "        if data_length < 5000:\n",
    "            data_length += 1\n",
    "    \n",
    "    return data_vector[0 : 5000]"
   ]
  },
  {
   "cell_type": "code",
   "execution_count": 8,
   "id": "871b74c4",
   "metadata": {},
   "outputs": [
    {
     "data": {
      "application/json": {
       "ascii": false,
       "bar_format": null,
       "colour": null,
       "elapsed": 0.04689741134643555,
       "initial": 0,
       "n": 0,
       "ncols": null,
       "nrows": 29,
       "postfix": null,
       "prefix": "",
       "rate": null,
       "total": 7600,
       "unit": "it",
       "unit_divisor": 1000,
       "unit_scale": false
      },
      "application/vnd.jupyter.widget-view+json": {
       "model_id": "1cd6e1d2f7954c30b7d3892c8c68f2ce",
       "version_major": 2,
       "version_minor": 0
      },
      "text/plain": [
       "  0%|          | 0/7600 [00:00<?, ?it/s]"
      ]
     },
     "metadata": {},
     "output_type": "display_data"
    },
    {
     "data": {
      "application/json": {
       "ascii": false,
       "bar_format": null,
       "colour": null,
       "elapsed": 0.01415705680847168,
       "initial": 0,
       "n": 0,
       "ncols": null,
       "nrows": 29,
       "postfix": null,
       "prefix": "",
       "rate": null,
       "total": 7600,
       "unit": "it",
       "unit_divisor": 1000,
       "unit_scale": false
      },
      "application/vnd.jupyter.widget-view+json": {
       "model_id": "c745a70b5bdd486793e02fce91ea3a9a",
       "version_major": 2,
       "version_minor": 0
      },
      "text/plain": [
       "  0%|          | 0/7600 [00:00<?, ?it/s]"
      ]
     },
     "metadata": {},
     "output_type": "display_data"
    },
    {
     "data": {
      "application/json": {
       "ascii": false,
       "bar_format": null,
       "colour": null,
       "elapsed": 0.015619754791259766,
       "initial": 0,
       "n": 0,
       "ncols": null,
       "nrows": 29,
       "postfix": null,
       "prefix": "",
       "rate": null,
       "total": 7600,
       "unit": "it",
       "unit_divisor": 1000,
       "unit_scale": false
      },
      "application/vnd.jupyter.widget-view+json": {
       "model_id": "b908918a28a74e33a323c6e0dee33e37",
       "version_major": 2,
       "version_minor": 0
      },
      "text/plain": [
       "  0%|          | 0/7600 [00:00<?, ?it/s]"
      ]
     },
     "metadata": {},
     "output_type": "display_data"
    },
    {
     "data": {
      "application/json": {
       "ascii": false,
       "bar_format": null,
       "colour": null,
       "elapsed": 0,
       "initial": 0,
       "n": 0,
       "ncols": null,
       "nrows": 29,
       "postfix": null,
       "prefix": "",
       "rate": null,
       "total": 7600,
       "unit": "it",
       "unit_divisor": 1000,
       "unit_scale": false
      },
      "application/vnd.jupyter.widget-view+json": {
       "model_id": "d85ed3d605874c4eb7767d6d6176fbb3",
       "version_major": 2,
       "version_minor": 0
      },
      "text/plain": [
       "  0%|          | 0/7600 [00:00<?, ?it/s]"
      ]
     },
     "metadata": {},
     "output_type": "display_data"
    },
    {
     "data": {
      "application/json": {
       "ascii": false,
       "bar_format": null,
       "colour": null,
       "elapsed": 0.015634775161743164,
       "initial": 0,
       "n": 0,
       "ncols": null,
       "nrows": 29,
       "postfix": null,
       "prefix": "",
       "rate": null,
       "total": 7600,
       "unit": "it",
       "unit_divisor": 1000,
       "unit_scale": false
      },
      "application/vnd.jupyter.widget-view+json": {
       "model_id": "fe60850b6d2d460b82a081ce3262ea88",
       "version_major": 2,
       "version_minor": 0
      },
      "text/plain": [
       "  0%|          | 0/7600 [00:00<?, ?it/s]"
      ]
     },
     "metadata": {},
     "output_type": "display_data"
    }
   ],
   "source": [
    "train_data_aug = train_data.copy()\n",
    "train_index_aug = train_index.copy()\n",
    "for j in range(5):\n",
    "    train_data_aug_one = train_data.copy()\n",
    "    for i in tqdm(range(7600)):\n",
    "        length = get_data_length(train_data_aug_one[i])\n",
    "        rate = random.randint(0, 100) / 100\n",
    "        train_data_aug_one[i] = add_noise(train_data_aug_one[i], length, int(length * rate))\n",
    "    train_data_aug = np.append(train_data_aug, train_data_aug_one, axis=0)\n",
    "    train_index_aug = np.append(train_index_aug, train_index, axis=0)"
   ]
  },
  {
   "cell_type": "code",
   "execution_count": null,
   "id": "3b42c36d",
   "metadata": {},
   "outputs": [],
   "source": []
  },
  {
   "cell_type": "code",
   "execution_count": 9,
   "id": "3f25a423",
   "metadata": {},
   "outputs": [],
   "source": [
    "# DF model used for non-defended dataset\n",
    "from keras.models import Sequential\n",
    "from keras.layers import Conv1D, MaxPooling1D, BatchNormalization\n",
    "from keras.layers.core import Activation, Flatten, Dense, Dropout\n",
    "from keras.layers.activation import ELU\n",
    "from keras.initializers import glorot_uniform\n",
    "\n",
    "class DFNet:\n",
    "    @staticmethod\n",
    "    def build(input_shape, classes):\n",
    "        model = Sequential()\n",
    "        #Block1\n",
    "        filter_num = ['None',32,64,128,256]\n",
    "        kernel_size = ['None',8,8,8,8]\n",
    "        conv_stride_size = ['None',1,1,1,1]\n",
    "        pool_stride_size = ['None',4,4,4,4]\n",
    "        pool_size = ['None',8,8,8,8]\n",
    "\n",
    "        model.add(Conv1D(filters=filter_num[1], kernel_size=kernel_size[1], input_shape=input_shape,\n",
    "                         strides=conv_stride_size[1], padding='same',\n",
    "                         name='block1_conv1'))\n",
    "        model.add(BatchNormalization(axis=-1))\n",
    "        model.add(ELU(alpha=1.0, name='block1_adv_act1'))\n",
    "        model.add(Conv1D(filters=filter_num[1], kernel_size=kernel_size[1],\n",
    "                         strides=conv_stride_size[1], padding='same',\n",
    "                         name='block1_conv2'))\n",
    "        model.add(BatchNormalization(axis=-1))\n",
    "        model.add(ELU(alpha=1.0, name='block1_adv_act2'))\n",
    "        model.add(MaxPooling1D(pool_size=pool_size[1], strides=pool_stride_size[1],\n",
    "                               padding='same', name='block1_pool'))\n",
    "        model.add(Dropout(0.1, name='block1_dropout'))\n",
    "\n",
    "        model.add(Conv1D(filters=filter_num[2], kernel_size=kernel_size[2],\n",
    "                         strides=conv_stride_size[2], padding='same',\n",
    "                         name='block2_conv1'))\n",
    "        model.add(BatchNormalization())\n",
    "        model.add(Activation('relu', name='block2_act1'))\n",
    "\n",
    "        model.add(Conv1D(filters=filter_num[2], kernel_size=kernel_size[2],\n",
    "                         strides=conv_stride_size[2], padding='same',\n",
    "                         name='block2_conv2'))\n",
    "        model.add(BatchNormalization())\n",
    "        model.add(Activation('relu', name='block2_act2'))\n",
    "        model.add(MaxPooling1D(pool_size=pool_size[2], strides=pool_stride_size[3],\n",
    "                               padding='same', name='block2_pool'))\n",
    "        model.add(Dropout(0.1, name='block2_dropout'))\n",
    "\n",
    "        model.add(Conv1D(filters=filter_num[3], kernel_size=kernel_size[3],\n",
    "                         strides=conv_stride_size[3], padding='same',\n",
    "                         name='block3_conv1'))\n",
    "        model.add(BatchNormalization())\n",
    "        model.add(Activation('relu', name='block3_act1'))\n",
    "        model.add(Conv1D(filters=filter_num[3], kernel_size=kernel_size[3],\n",
    "                         strides=conv_stride_size[3], padding='same',\n",
    "                         name='block3_conv2'))\n",
    "        model.add(BatchNormalization())\n",
    "        model.add(Activation('relu', name='block3_act2'))\n",
    "        model.add(MaxPooling1D(pool_size=pool_size[3], strides=pool_stride_size[3],\n",
    "                               padding='same', name='block3_pool'))\n",
    "        model.add(Dropout(0.1, name='block3_dropout'))\n",
    "\n",
    "        model.add(Conv1D(filters=filter_num[4], kernel_size=kernel_size[4],\n",
    "                         strides=conv_stride_size[4], padding='same',\n",
    "                         name='block4_conv1'))\n",
    "        model.add(BatchNormalization())\n",
    "        model.add(Activation('relu', name='block4_act1'))\n",
    "        model.add(Conv1D(filters=filter_num[4], kernel_size=kernel_size[4],\n",
    "                         strides=conv_stride_size[4], padding='same',\n",
    "                         name='block4_conv2'))\n",
    "        model.add(BatchNormalization())\n",
    "        model.add(Activation('relu', name='block4_act2'))\n",
    "        model.add(MaxPooling1D(pool_size=pool_size[4], strides=pool_stride_size[4],\n",
    "                               padding='same', name='block4_pool'))\n",
    "        model.add(Dropout(0.1, name='block4_dropout'))\n",
    "\n",
    "        model.add(Flatten(name='flatten'))\n",
    "        model.add(Dense(512, kernel_initializer=glorot_uniform(seed=0), name='fc1'))\n",
    "        model.add(BatchNormalization())\n",
    "        model.add(Activation('relu', name='fc1_act'))\n",
    "\n",
    "        model.add(Dropout(0.7, name='fc1_dropout'))\n",
    "\n",
    "        model.add(Dense(512, kernel_initializer=glorot_uniform(seed=0), name='fc2'))\n",
    "        model.add(BatchNormalization())\n",
    "        model.add(Activation('relu', name='fc2_act'))\n",
    "\n",
    "        model.add(Dropout(0.5, name='fc2_dropout'))\n",
    "\n",
    "        model.add(Dense(classes, kernel_initializer=glorot_uniform(seed=0), name='fc3'))\n",
    "        model.add(Activation('softmax', name=\"softmax\"))\n",
    "        return model\n"
   ]
  },
  {
   "cell_type": "code",
   "execution_count": 10,
   "id": "f35f1058",
   "metadata": {},
   "outputs": [],
   "source": [
    "model = DFNet.build(input_shape=(5000,1), classes=95)"
   ]
  },
  {
   "cell_type": "code",
   "execution_count": 11,
   "id": "065ddc2c",
   "metadata": {},
   "outputs": [],
   "source": [
    "from keras.optimizers import Adamax\n",
    "\n",
    "model.compile(loss=\"categorical_crossentropy\", \n",
    "              optimizer=Adamax(learning_rate=0.002, beta_1=0.9, beta_2=0.999, epsilon=1e-08, decay=0.0), \n",
    "              metrics=[\"accuracy\"])"
   ]
  },
  {
   "cell_type": "code",
   "execution_count": 12,
   "id": "c19238e7",
   "metadata": {},
   "outputs": [
    {
     "name": "stdout",
     "output_type": "stream",
     "text": [
      "Epoch 1/30\n",
      "998/998 [==============================] - 409s 407ms/step - loss: 3.3917 - accuracy: 0.1557 - val_loss: 2.1204 - val_accuracy: 0.3904\n",
      "Epoch 2/30\n",
      "998/998 [==============================] - 386s 387ms/step - loss: 2.1202 - accuracy: 0.4004 - val_loss: 1.3017 - val_accuracy: 0.6288\n",
      "Epoch 3/30\n",
      "998/998 [==============================] - 386s 387ms/step - loss: 1.6238 - accuracy: 0.5386 - val_loss: 1.0453 - val_accuracy: 0.7071\n",
      "Epoch 4/30\n",
      "998/998 [==============================] - 387s 388ms/step - loss: 1.3325 - accuracy: 0.6204 - val_loss: 0.9099 - val_accuracy: 0.7371\n",
      "Epoch 5/30\n",
      "998/998 [==============================] - 437s 438ms/step - loss: 1.1505 - accuracy: 0.6743 - val_loss: 0.7837 - val_accuracy: 0.7722\n",
      "Epoch 6/30\n",
      "998/998 [==============================] - 421s 421ms/step - loss: 1.0287 - accuracy: 0.7097 - val_loss: 0.6902 - val_accuracy: 0.7980\n",
      "Epoch 7/30\n",
      "998/998 [==============================] - 428s 429ms/step - loss: 0.9253 - accuracy: 0.7378 - val_loss: 0.6380 - val_accuracy: 0.8131\n",
      "Epoch 8/30\n",
      "998/998 [==============================] - 415s 416ms/step - loss: 0.8526 - accuracy: 0.7553 - val_loss: 0.5826 - val_accuracy: 0.8328\n",
      "Epoch 9/30\n",
      "998/998 [==============================] - 392s 393ms/step - loss: 0.7855 - accuracy: 0.7753 - val_loss: 0.5483 - val_accuracy: 0.8434\n",
      "Epoch 10/30\n",
      "998/998 [==============================] - 374s 375ms/step - loss: 0.7343 - accuracy: 0.7929 - val_loss: 0.5756 - val_accuracy: 0.8316\n",
      "Epoch 11/30\n",
      "998/998 [==============================] - 373s 374ms/step - loss: 0.6994 - accuracy: 0.7966 - val_loss: 0.4989 - val_accuracy: 0.8547\n",
      "Epoch 12/30\n",
      "998/998 [==============================] - 381s 381ms/step - loss: 0.6496 - accuracy: 0.8129 - val_loss: 0.4892 - val_accuracy: 0.8545\n",
      "Epoch 13/30\n",
      "998/998 [==============================] - 403s 404ms/step - loss: 0.6154 - accuracy: 0.8214 - val_loss: 0.4801 - val_accuracy: 0.8582\n",
      "Epoch 14/30\n",
      "998/998 [==============================] - 416s 417ms/step - loss: 0.5824 - accuracy: 0.8316 - val_loss: 0.4594 - val_accuracy: 0.8670\n",
      "Epoch 15/30\n",
      "998/998 [==============================] - 419s 420ms/step - loss: 0.5550 - accuracy: 0.8370 - val_loss: 0.4951 - val_accuracy: 0.8563\n",
      "Epoch 16/30\n",
      "998/998 [==============================] - 409s 410ms/step - loss: 0.5253 - accuracy: 0.8481 - val_loss: 0.4385 - val_accuracy: 0.8704\n",
      "Epoch 17/30\n",
      "998/998 [==============================] - 427s 428ms/step - loss: 0.5059 - accuracy: 0.8523 - val_loss: 0.4390 - val_accuracy: 0.8689\n",
      "Epoch 18/30\n",
      "998/998 [==============================] - 432s 433ms/step - loss: 0.4785 - accuracy: 0.8598 - val_loss: 0.4317 - val_accuracy: 0.8763\n",
      "Epoch 19/30\n",
      "998/998 [==============================] - 435s 436ms/step - loss: 0.4545 - accuracy: 0.8665 - val_loss: 0.4479 - val_accuracy: 0.8711\n",
      "Epoch 20/30\n",
      "998/998 [==============================] - 430s 431ms/step - loss: 0.4372 - accuracy: 0.8702 - val_loss: 0.4485 - val_accuracy: 0.8686\n",
      "Epoch 21/30\n",
      "998/998 [==============================] - 396s 397ms/step - loss: 0.4171 - accuracy: 0.8766 - val_loss: 0.4113 - val_accuracy: 0.8801\n",
      "Epoch 22/30\n",
      "998/998 [==============================] - 430s 431ms/step - loss: 0.4020 - accuracy: 0.8815 - val_loss: 0.4057 - val_accuracy: 0.8830\n",
      "Epoch 23/30\n",
      "998/998 [==============================] - 419s 420ms/step - loss: 0.3757 - accuracy: 0.8868 - val_loss: 0.4291 - val_accuracy: 0.8780\n",
      "Epoch 24/30\n",
      "998/998 [==============================] - 404s 405ms/step - loss: 0.3627 - accuracy: 0.8905 - val_loss: 0.4063 - val_accuracy: 0.8838\n",
      "Epoch 25/30\n",
      "998/998 [==============================] - 389s 390ms/step - loss: 0.3516 - accuracy: 0.8933 - val_loss: 0.4016 - val_accuracy: 0.8849\n",
      "Epoch 26/30\n",
      "998/998 [==============================] - 383s 383ms/step - loss: 0.3295 - accuracy: 0.9016 - val_loss: 0.3949 - val_accuracy: 0.8882\n",
      "Epoch 27/30\n",
      "998/998 [==============================] - 388s 389ms/step - loss: 0.3210 - accuracy: 0.9043 - val_loss: 0.4080 - val_accuracy: 0.8863\n",
      "Epoch 28/30\n",
      "998/998 [==============================] - 380s 380ms/step - loss: 0.3155 - accuracy: 0.9031 - val_loss: 0.4021 - val_accuracy: 0.8858\n",
      "Epoch 29/30\n",
      "998/998 [==============================] - 375s 375ms/step - loss: 0.3006 - accuracy: 0.9077 - val_loss: 0.3872 - val_accuracy: 0.8891\n",
      "Epoch 30/30\n",
      "998/998 [==============================] - 370s 371ms/step - loss: 0.2980 - accuracy: 0.9094 - val_loss: 0.3986 - val_accuracy: 0.8870\n"
     ]
    },
    {
     "data": {
      "text/plain": [
       "<keras.callbacks.History at 0x25cdf3a9e48>"
      ]
     },
     "execution_count": 12,
     "metadata": {},
     "output_type": "execute_result"
    }
   ],
   "source": [
    "model.fit(train_data_aug.astype('float32'), to_categorical(train_index_aug), epochs = 30, validation_split=0.3)"
   ]
  },
  {
   "cell_type": "code",
   "execution_count": 13,
   "id": "be3689a9",
   "metadata": {},
   "outputs": [
    {
     "name": "stdout",
     "output_type": "stream",
     "text": [
      "297/297 [==============================] - 18s 60ms/step - loss: 0.2443 - accuracy: 0.9484\n"
     ]
    },
    {
     "data": {
      "text/plain": [
       "[0.24428589642047882, 0.948421061038971]"
      ]
     },
     "execution_count": 13,
     "metadata": {},
     "output_type": "execute_result"
    }
   ],
   "source": [
    "model.evaluate(test_data, to_categorical(test_index))"
   ]
  },
  {
   "cell_type": "code",
   "execution_count": 14,
   "id": "47feb0e5",
   "metadata": {},
   "outputs": [],
   "source": [
    "model.save('data/model_tor_random_aug.h5')"
   ]
  },
  {
   "cell_type": "code",
   "execution_count": null,
   "id": "17206742",
   "metadata": {},
   "outputs": [],
   "source": []
  }
 ],
 "metadata": {
  "kernelspec": {
   "display_name": "Python 3 (ipykernel)",
   "language": "python",
   "name": "python3"
  },
  "language_info": {
   "codemirror_mode": {
    "name": "ipython",
    "version": 3
   },
   "file_extension": ".py",
   "mimetype": "text/x-python",
   "name": "python",
   "nbconvert_exporter": "python",
   "pygments_lexer": "ipython3",
   "version": "3.7.13"
  }
 },
 "nbformat": 4,
 "nbformat_minor": 5
}
