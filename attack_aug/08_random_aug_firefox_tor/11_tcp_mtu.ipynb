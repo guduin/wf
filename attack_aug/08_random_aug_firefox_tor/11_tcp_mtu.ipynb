{
 "cells": [
  {
   "cell_type": "code",
   "execution_count": 1,
   "id": "45a6ba73",
   "metadata": {},
   "outputs": [],
   "source": [
    "import numpy as np\n",
    "import matplotlib.pyplot as plt\n",
    "import pandas as pd\n",
    "from keras import Sequential\n",
    "from keras import layers\n",
    "from keras.layers import Conv1D, MaxPooling1D, Flatten, Dense, Dropout\n",
    "from keras.optimizers import adam_v2\n",
    "from tensorflow.keras.utils import to_categorical\n",
    "from keras.layers import Conv2D, MaxPooling2D, Flatten, Dense\n",
    "import random\n",
    "from tqdm.notebook import tqdm\n",
    "import collections\n",
    "from keras.models import load_model"
   ]
  },
  {
   "cell_type": "code",
   "execution_count": 2,
   "id": "3eed8653",
   "metadata": {},
   "outputs": [],
   "source": [
    "df = pd.read_csv('F:/data_firefox/3_data/data.csv', header=None)\n",
    "df = df.sort_values([1, 0])\n",
    "\n",
    "train = np.array(df[0 : 7000].sample(7000))\n",
    "train_data = train[:, 2:502] # shape (7000, 500), 100 website, 70 repeat\n",
    "train_index = train[:, 0] # shape (7000,), 0-99 range, random\n",
    "\n",
    "test = np.array(df[7000 : 10000].sort_values([0, 1]))\n",
    "test_data = test[:, 2:502] # shape (3000, 500), 100 website, 70 repeat\n",
    "test_index = test[:, 0] # shape (3000,), 0-99 range, sequence"
   ]
  },
  {
   "cell_type": "code",
   "execution_count": 3,
   "id": "9a6ff44f",
   "metadata": {},
   "outputs": [],
   "source": [
    "model = load_model('data/model_tcp.h5')"
   ]
  },
  {
   "cell_type": "code",
   "execution_count": 4,
   "id": "741ae688",
   "metadata": {},
   "outputs": [
    {
     "name": "stdout",
     "output_type": "stream",
     "text": [
      "94/94 [==============================] - 3s 26ms/step - loss: 1.1395 - accuracy: 0.8367\n"
     ]
    },
    {
     "data": {
      "text/plain": [
       "[1.1395033597946167, 0.8366666436195374]"
      ]
     },
     "execution_count": 4,
     "metadata": {},
     "output_type": "execute_result"
    }
   ],
   "source": [
    "model.evaluate(test_data.astype('float32')/1600, to_categorical(test_index))"
   ]
  },
  {
   "cell_type": "code",
   "execution_count": null,
   "id": "962bc2bb",
   "metadata": {},
   "outputs": [],
   "source": []
  },
  {
   "cell_type": "code",
   "execution_count": 5,
   "id": "f18c35e3",
   "metadata": {},
   "outputs": [],
   "source": [
    "def get_data_length(data_vector):\n",
    "    data_length = 500\n",
    "    for i in range(500):\n",
    "        if data_vector[i] == 0:\n",
    "            data_length = i\n",
    "            break\n",
    "    return data_length\n",
    "\n",
    "def add_noise(data_vector, data_length, count):\n",
    "    lin_num = list(np.linspace(0, data_length - 1, data_length, dtype=int))\n",
    "    random_num = random.sample(lin_num, count)\n",
    "    for i in random_num:\n",
    "        if data_vector[i] > 0:\n",
    "            data_vector[i] = max(data_vector)\n",
    "        elif data_vector[i] < 0:\n",
    "            data_vector[i] = min(data_vector)\n",
    "    return data_vector"
   ]
  },
  {
   "cell_type": "code",
   "execution_count": 6,
   "id": "827b6e89",
   "metadata": {},
   "outputs": [
    {
     "name": "stdout",
     "output_type": "stream",
     "text": [
      "94/94 [==============================] - 3s 32ms/step - loss: 1.1395 - accuracy: 0.8367\n",
      "94/94 [==============================] - 3s 31ms/step - loss: 1.4844 - accuracy: 0.7713\n",
      "94/94 [==============================] - 2s 26ms/step - loss: 1.9532 - accuracy: 0.6943\n",
      "94/94 [==============================] - 3s 32ms/step - loss: 2.5140 - accuracy: 0.6360\n",
      "94/94 [==============================] - 3s 26ms/step - loss: 2.9797 - accuracy: 0.5897\n",
      "94/94 [==============================] - 3s 32ms/step - loss: 3.5833 - accuracy: 0.5523\n",
      "94/94 [==============================] - 2s 21ms/step - loss: 3.8751 - accuracy: 0.5307\n",
      "94/94 [==============================] - 3s 29ms/step - loss: 4.2806 - accuracy: 0.5010\n",
      "94/94 [==============================] - 2s 25ms/step - loss: 4.9026 - accuracy: 0.4703\n",
      "94/94 [==============================] - 3s 27ms/step - loss: 5.3773 - accuracy: 0.4307\n",
      "94/94 [==============================] - 3s 32ms/step - loss: 5.7259 - accuracy: 0.4357\n",
      "94/94 [==============================] - 2s 20ms/step - loss: 6.2077 - accuracy: 0.3987\n",
      "94/94 [==============================] - 2s 21ms/step - loss: 6.5922 - accuracy: 0.3780\n",
      "94/94 [==============================] - 2s 21ms/step - loss: 6.9125 - accuracy: 0.3603\n",
      "94/94 [==============================] - 3s 27ms/step - loss: 7.3543 - accuracy: 0.3567\n",
      "94/94 [==============================] - 2s 23ms/step - loss: 7.8534 - accuracy: 0.3233\n",
      "94/94 [==============================] - 2s 17ms/step - loss: 8.2275 - accuracy: 0.3237\n",
      "94/94 [==============================] - 2s 19ms/step - loss: 8.6088 - accuracy: 0.2930\n",
      "94/94 [==============================] - 2s 22ms/step - loss: 9.0537 - accuracy: 0.2817\n",
      "94/94 [==============================] - 2s 17ms/step - loss: 9.3798 - accuracy: 0.2717\n",
      "94/94 [==============================] - 2s 18ms/step - loss: 9.8233 - accuracy: 0.2510\n"
     ]
    }
   ],
   "source": [
    "res = np.zeros(21)\n",
    "rate_list = np.linspace(0, 1, num=21, endpoint=True)\n",
    "for j in range(21):\n",
    "    rate = rate_list[j]\n",
    "    test_data_noise = test_data.copy()\n",
    "    for i in range(3000):\n",
    "        length = get_data_length(test_data_noise[i])\n",
    "        test_data_noise[i] = add_noise(test_data_noise[i], length, int(length * rate))\n",
    "    res[j] = model.evaluate(test_data_noise.astype('float32')/1600, to_categorical(test_index))[1]"
   ]
  },
  {
   "cell_type": "code",
   "execution_count": 7,
   "id": "3c1bf520",
   "metadata": {},
   "outputs": [
    {
     "data": {
      "text/plain": [
       "(0.0, 1.0)"
      ]
     },
     "execution_count": 7,
     "metadata": {},
     "output_type": "execute_result"
    },
    {
     "data": {
      "image/png": "[encoded data removed]",
      "text/plain": [
       "<Figure size 640x480 with 1 Axes>"
      ]
     },
     "metadata": {},
     "output_type": "display_data"
    }
   ],
   "source": [
    "plt.plot(res)\n",
    "plt.ylim((0, 1))"
   ]
  },
  {
   "cell_type": "code",
   "execution_count": 8,
   "id": "07c1eb22",
   "metadata": {},
   "outputs": [],
   "source": [
    "np.save('data/res_tcp_mtu.npy', res)"
   ]
  },
  {
   "cell_type": "code",
   "execution_count": null,
   "id": "b84ee7a1",
   "metadata": {},
   "outputs": [],
   "source": []
  }
 ],
 "metadata": {
  "kernelspec": {
   "display_name": "Python 3 (ipykernel)",
   "language": "python",
   "name": "python3"
  },
  "language_info": {
   "codemirror_mode": {
    "name": "ipython",
    "version": 3
   },
   "file_extension": ".py",
   "mimetype": "text/x-python",
   "name": "python",
   "nbconvert_exporter": "python",
   "pygments_lexer": "ipython3",
   "version": "3.7.13"
  }
 },
 "nbformat": 4,
 "nbformat_minor": 5
}
