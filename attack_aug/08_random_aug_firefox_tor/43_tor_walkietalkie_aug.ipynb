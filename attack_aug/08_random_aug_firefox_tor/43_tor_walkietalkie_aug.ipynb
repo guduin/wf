{
 "cells": [
  {
   "cell_type": "code",
   "execution_count": 1,
   "id": "45a6ba73",
   "metadata": {},
   "outputs": [],
   "source": [
    "import numpy as np\n",
    "import matplotlib.pyplot as plt\n",
    "import pandas as pd\n",
    "from keras import Sequential\n",
    "from keras import layers\n",
    "from keras.layers import Conv1D, MaxPooling1D, Flatten, Dense, Dropout\n",
    "from keras.optimizers import adam_v2\n",
    "from tensorflow.keras.utils import to_categorical\n",
    "from keras.layers import Conv2D, MaxPooling2D, Flatten, Dense\n",
    "import random\n",
    "from tqdm.notebook import tqdm\n",
    "import collections\n",
    "from keras.models import load_model"
   ]
  },
  {
   "cell_type": "code",
   "execution_count": 2,
   "id": "1ff0dc0c",
   "metadata": {},
   "outputs": [],
   "source": [
    "# train_data = np.array(pd.read_pickle('F:/df/NoDef/X_train_NoDef.pkl')) # shape (76000, 5000), 95 website, 800 repeat\n",
    "# train_index = np.array(pd.read_pickle('F:/df/NoDef/y_train_NoDef.pkl')) # shape (76000,), 0-94 range, random\n",
    "\n",
    "test_data = np.array(pd.read_pickle('F:/df/NoDef/X_test_NoDef.pkl')) # shape (9500, 5000), 95 website, 100 repeat\n",
    "test_index = np.array(pd.read_pickle('F:/df/NoDef/y_test_NoDef.pkl')) # shape (9500,), 0-94 range, sequence"
   ]
  },
  {
   "cell_type": "code",
   "execution_count": 3,
   "id": "7d538771",
   "metadata": {},
   "outputs": [],
   "source": [
    "model = load_model('data/model_tor_walkietalkie_aug.h5')"
   ]
  },
  {
   "cell_type": "code",
   "execution_count": 4,
   "id": "86c9c534",
   "metadata": {},
   "outputs": [
    {
     "name": "stdout",
     "output_type": "stream",
     "text": [
      "297/297 [==============================] - 48s 157ms/step - loss: 0.2503 - accuracy: 0.9477\n"
     ]
    },
    {
     "data": {
      "text/plain": [
       "[0.2503190040588379, 0.9476842284202576]"
      ]
     },
     "execution_count": 4,
     "metadata": {},
     "output_type": "execute_result"
    }
   ],
   "source": [
    "model.evaluate(test_data.astype('float32'), to_categorical(test_index))"
   ]
  },
  {
   "cell_type": "code",
   "execution_count": null,
   "id": "6ecd4185",
   "metadata": {},
   "outputs": [],
   "source": []
  },
  {
   "cell_type": "code",
   "execution_count": 5,
   "id": "255e553e",
   "metadata": {},
   "outputs": [],
   "source": [
    "def get_data_length(data_vector):\n",
    "    data_length = 5000\n",
    "    for i in range(5000):\n",
    "        if data_vector[i] == 0:\n",
    "            data_length = i\n",
    "            break\n",
    "    return data_length\n",
    "\n",
    "def walkie_talkie(data_vector, buffer_len):\n",
    "    buffer = list()\n",
    "    data_output = np.zeros(5000, dtype=int)\n",
    "    index = 0\n",
    "    for i in data_vector:\n",
    "        buffer.append(i)\n",
    "        if len(buffer) >= buffer_len:\n",
    "            stat = collections.Counter(buffer)\n",
    "            for j in range(stat[1]):\n",
    "                data_output[index] = 1\n",
    "                index += 1\n",
    "            for j in range(stat[-1]):\n",
    "                data_output[index] = -1\n",
    "                index += 1\n",
    "            buffer.clear()\n",
    "            if stat[0] > 0:\n",
    "                break\n",
    "    return data_output\n",
    "\n",
    "def add_noise(data_vector, data_length, count):\n",
    "    for i in range(count):\n",
    "        location = random.randint(0, data_length - 1)\n",
    "        packet = data_vector[location]\n",
    "        data_vector = np.insert(data_vector, location, packet)\n",
    "        if data_length < 5000:\n",
    "            data_length += 1\n",
    "    \n",
    "    return data_vector[0 : 5000]"
   ]
  },
  {
   "cell_type": "code",
   "execution_count": null,
   "id": "42b485c4",
   "metadata": {},
   "outputs": [
    {
     "name": "stdout",
     "output_type": "stream",
     "text": [
      "297/297 [==============================] - 34s 114ms/step - loss: 0.2937 - accuracy: 0.9334\n",
      "297/297 [==============================] - 33s 109ms/step - loss: 0.3138 - accuracy: 0.9297\n",
      "297/297 [==============================] - 32s 108ms/step - loss: 0.3432 - accuracy: 0.9233\n"
     ]
    }
   ],
   "source": [
    "res = np.zeros(10)\n",
    "rate_list = np.linspace(0, 1, num=10, endpoint=False)\n",
    "for j in range(10):\n",
    "    rate = rate_list[j]\n",
    "    test_data_noise = test_data.copy()\n",
    "    for i in range(9500):\n",
    "        length = get_data_length(test_data_noise[i])\n",
    "        test_data_noise[i] = walkie_talkie(test_data_noise[i], 20)\n",
    "        test_data_noise[i] = add_noise(test_data_noise[i], length, int(length * rate))\n",
    "    res[j] = model.evaluate(test_data_noise.astype('float32'), to_categorical(test_index))[1]"
   ]
  },
  {
   "cell_type": "code",
   "execution_count": null,
   "id": "3a747c51",
   "metadata": {},
   "outputs": [],
   "source": [
    "plt.plot(res)\n",
    "plt.ylim((0, 1))"
   ]
  },
  {
   "cell_type": "code",
   "execution_count": null,
   "id": "48ddcc6d",
   "metadata": {},
   "outputs": [],
   "source": [
    "np.save('data/res_tor_walkietalkie_aug.npy', res)"
   ]
  }
 ],
 "metadata": {
  "kernelspec": {
   "display_name": "Python 3 (ipykernel)",
   "language": "python",
   "name": "python3"
  },
  "language_info": {
   "codemirror_mode": {
    "name": "ipython",
    "version": 3
   },
   "file_extension": ".py",
   "mimetype": "text/x-python",
   "name": "python",
   "nbconvert_exporter": "python",
   "pygments_lexer": "ipython3",
   "version": "3.7.13"
  }
 },
 "nbformat": 4,
 "nbformat_minor": 5
}
