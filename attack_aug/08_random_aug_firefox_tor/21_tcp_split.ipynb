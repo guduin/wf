{
 "cells": [
  {
   "cell_type": "code",
   "execution_count": 1,
   "id": "45a6ba73",
   "metadata": {},
   "outputs": [],
   "source": [
    "import numpy as np\n",
    "import matplotlib.pyplot as plt\n",
    "import pandas as pd\n",
    "from keras import Sequential\n",
    "from keras import layers\n",
    "from keras.layers import Conv1D, MaxPooling1D, Flatten, Dense, Dropout\n",
    "from keras.optimizers import adam_v2\n",
    "from tensorflow.keras.utils import to_categorical\n",
    "from keras.layers import Conv2D, MaxPooling2D, Flatten, Dense\n",
    "import random\n",
    "from tqdm.notebook import tqdm\n",
    "import collections\n",
    "from keras.models import load_model"
   ]
  },
  {
   "cell_type": "code",
   "execution_count": 2,
   "id": "3eed8653",
   "metadata": {},
   "outputs": [],
   "source": [
    "df = pd.read_csv('F:/data_firefox/3_data/data.csv', header=None)\n",
    "df = df.sort_values([1, 0])\n",
    "\n",
    "train = np.array(df[0 : 7000].sample(7000))\n",
    "train_data = train[:, 2:502] # shape (7000, 500), 100 website, 70 repeat\n",
    "train_index = train[:, 0] # shape (7000,), 0-99 range, random\n",
    "\n",
    "test = np.array(df[7000 : 10000].sort_values([0, 1]))\n",
    "test_data = test[:, 2:502] # shape (3000, 500), 100 website, 70 repeat\n",
    "test_index = test[:, 0] # shape (3000,), 0-99 range, sequence"
   ]
  },
  {
   "cell_type": "code",
   "execution_count": 3,
   "id": "9a6ff44f",
   "metadata": {},
   "outputs": [],
   "source": [
    "model = load_model('data/model_tcp.h5')"
   ]
  },
  {
   "cell_type": "code",
   "execution_count": 4,
   "id": "741ae688",
   "metadata": {},
   "outputs": [
    {
     "name": "stdout",
     "output_type": "stream",
     "text": [
      "94/94 [==============================] - 5s 32ms/step - loss: 1.1395 - accuracy: 0.8367\n"
     ]
    },
    {
     "data": {
      "text/plain": [
       "[1.1395033597946167, 0.8366666436195374]"
      ]
     },
     "execution_count": 4,
     "metadata": {},
     "output_type": "execute_result"
    }
   ],
   "source": [
    "model.evaluate(test_data.astype('float32')/1600, to_categorical(test_index))"
   ]
  },
  {
   "cell_type": "code",
   "execution_count": 5,
   "id": "f18c35e3",
   "metadata": {},
   "outputs": [],
   "source": [
    "def get_data_length(data_vector):\n",
    "    data_length = 500\n",
    "    for i in range(500):\n",
    "        if data_vector[i] == 0:\n",
    "            data_length = i\n",
    "            break\n",
    "    return data_length\n",
    "\n",
    "def add_noise(data_vector, data_length, count):\n",
    "    for i in range(count):\n",
    "        location = random.randint(0, data_length - 1)\n",
    "        first = second = 0\n",
    "        if data_vector[location] > 5:\n",
    "            first = random.randint(1, data_vector[location] - 1)\n",
    "            second = data_vector[location] - first\n",
    "        elif data_vector[location] < -5:\n",
    "            first = random.randint(data_vector[location] + 1, -1)\n",
    "            second = data_vector[location] - first\n",
    "        data_vector[location] = second\n",
    "        data_vector = np.insert(data_vector, location, first)\n",
    "        if data_length < 500:\n",
    "            data_length += 1\n",
    "    return data_vector[0 : 500]"
   ]
  },
  {
   "cell_type": "code",
   "execution_count": 6,
   "id": "827b6e89",
   "metadata": {},
   "outputs": [
    {
     "name": "stdout",
     "output_type": "stream",
     "text": [
      "94/94 [==============================] - 3s 35ms/step - loss: 1.1395 - accuracy: 0.8367\n",
      "94/94 [==============================] - 2s 26ms/step - loss: 1.3350 - accuracy: 0.7923\n",
      "94/94 [==============================] - 3s 30ms/step - loss: 2.0681 - accuracy: 0.6630\n",
      "94/94 [==============================] - 3s 36ms/step - loss: 3.2561 - accuracy: 0.5133\n",
      "94/94 [==============================] - 3s 30ms/step - loss: 4.7679 - accuracy: 0.3857\n",
      "94/94 [==============================] - 3s 28ms/step - loss: 6.2397 - accuracy: 0.2850\n",
      "94/94 [==============================] - 3s 31ms/step - loss: 7.3402 - accuracy: 0.2197\n",
      "94/94 [==============================] - 3s 28ms/step - loss: 8.5543 - accuracy: 0.1833\n",
      "94/94 [==============================] - 3s 27ms/step - loss: 9.3744 - accuracy: 0.1463\n",
      "94/94 [==============================] - 3s 29ms/step - loss: 10.2723 - accuracy: 0.1190\n",
      "94/94 [==============================] - 2s 24ms/step - loss: 10.8864 - accuracy: 0.1183\n",
      "94/94 [==============================] - 2s 19ms/step - loss: 11.5445 - accuracy: 0.0910\n",
      "94/94 [==============================] - 2s 20ms/step - loss: 11.7690 - accuracy: 0.0830\n",
      "94/94 [==============================] - 2s 21ms/step - loss: 12.3498 - accuracy: 0.0703\n",
      "94/94 [==============================] - 3s 30ms/step - loss: 12.3738 - accuracy: 0.0727\n",
      "94/94 [==============================] - 2s 20ms/step - loss: 12.7272 - accuracy: 0.0680\n",
      "94/94 [==============================] - 2s 20ms/step - loss: 13.0975 - accuracy: 0.0620\n",
      "94/94 [==============================] - 2s 19ms/step - loss: 13.3828 - accuracy: 0.0587\n",
      "94/94 [==============================] - 2s 18ms/step - loss: 13.5999 - accuracy: 0.0550\n",
      "94/94 [==============================] - 2s 25ms/step - loss: 13.8577 - accuracy: 0.0533\n",
      "94/94 [==============================] - 2s 18ms/step - loss: 14.0509 - accuracy: 0.0497\n"
     ]
    }
   ],
   "source": [
    "res = np.zeros(21)\n",
    "rate_list = np.linspace(0, 1, num=21, endpoint=True)\n",
    "for j in range(21):\n",
    "    rate = rate_list[j]\n",
    "    test_data_noise = test_data.copy()\n",
    "    for i in range(3000):\n",
    "        length = get_data_length(test_data_noise[i])\n",
    "        test_data_noise[i] = add_noise(test_data_noise[i], length, int(length * rate))\n",
    "    res[j] = model.evaluate(test_data_noise.astype('float32')/1600, to_categorical(test_index))[1]"
   ]
  },
  {
   "cell_type": "code",
   "execution_count": 7,
   "id": "3c1bf520",
   "metadata": {},
   "outputs": [
    {
     "data": {
      "text/plain": [
       "[<matplotlib.lines.Line2D at 0x2178076e448>]"
      ]
     },
     "execution_count": 7,
     "metadata": {},
     "output_type": "execute_result"
    },
    {
     "data": {
      "image/png": "[encoded data removed]",
      "text/plain": [
       "<Figure size 640x480 with 1 Axes>"
      ]
     },
     "metadata": {},
     "output_type": "display_data"
    }
   ],
   "source": [
    "plt.plot(res)"
   ]
  },
  {
   "cell_type": "code",
   "execution_count": 8,
   "id": "8b24e17f",
   "metadata": {},
   "outputs": [],
   "source": [
    "np.save('data/res_tcp_split.npy', res)"
   ]
  },
  {
   "cell_type": "code",
   "execution_count": null,
   "id": "f7273871",
   "metadata": {},
   "outputs": [],
   "source": []
  }
 ],
 "metadata": {
  "kernelspec": {
   "display_name": "Python 3 (ipykernel)",
   "language": "python",
   "name": "python3"
  },
  "language_info": {
   "codemirror_mode": {
    "name": "ipython",
    "version": 3
   },
   "file_extension": ".py",
   "mimetype": "text/x-python",
   "name": "python",
   "nbconvert_exporter": "python",
   "pygments_lexer": "ipython3",
   "version": "3.7.13"
  }
 },
 "nbformat": 4,
 "nbformat_minor": 5
}
