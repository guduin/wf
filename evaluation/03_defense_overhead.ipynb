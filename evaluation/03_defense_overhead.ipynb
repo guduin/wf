{
 "cells": [
  {
   "cell_type": "code",
   "execution_count": 1,
   "metadata": {},
   "outputs": [],
   "source": [
    "import numpy as np\n",
    "import matplotlib.pyplot as plt\n",
    "import pandas as pd\n",
    "\n",
    "from tensorflow.keras.utils import to_categorical\n",
    "from keras.models import load_model\n",
    "import random as rd\n",
    "import collections as clt"
   ]
  },
  {
   "cell_type": "code",
   "execution_count": 2,
   "metadata": {},
   "outputs": [
    {
     "name": "stdout",
     "output_type": "stream",
     "text": [
      "data shape: (10000, 1002)\n",
      "train data shape: (8000, 500)\n",
      "test data shape: (2000, 500)\n"
     ]
    }
   ],
   "source": [
    "#load data\n",
    "df = pd.read_csv('F:/data_edge/3_data/data.csv', header=None)\n",
    "df = df.sort_values([1, 0])\n",
    "data = np.array(df)\n",
    "print('data shape:', data.shape)\n",
    "\n",
    "train = data[0:8000]\n",
    "train_data = train[:, 2:502]\n",
    "train_index = train[:, 0]\n",
    "train_index = to_categorical(train_index)\n",
    "print('train data shape:', train_data.shape)\n",
    "\n",
    "test = data[8000:10000]\n",
    "test_data = test[:, 2:502]\n",
    "test_index = test[:, 0]\n",
    "test_index = to_categorical(test_index)\n",
    "print('test data shape:', test_data.shape)"
   ]
  },
  {
   "cell_type": "code",
   "execution_count": 3,
   "metadata": {},
   "outputs": [
    {
     "name": "stdout",
     "output_type": "stream",
     "text": [
      "size list shape: (1000,)\n",
      "size count shape: (1000,)\n",
      "size list count shape: (2108394,)\n"
     ]
    }
   ],
   "source": [
    "#get size list count\n",
    "data_count = clt.Counter(train_data.flatten())\n",
    "data_count = dict(sorted(data_count.items(), key = lambda x:x[1], reverse = True))\n",
    "size_list = list(data_count.keys())[1:1001]\n",
    "size_count = list(data_count.values())[1:1001]\n",
    "size_list_count = list()\n",
    "for i in range(1000):\n",
    "    for j in range(size_count[i]):\n",
    "        size_list_count.append(size_list[i])\n",
    "size_list = np.array(size_list)\n",
    "size_count = np.array(size_count)\n",
    "size_list_count = np.array(size_list_count)\n",
    "print('size list shape:', size_list.shape)\n",
    "print('size count shape:', size_count.shape)\n",
    "print('size list count shape:', size_list_count.shape)"
   ]
  },
  {
   "cell_type": "code",
   "execution_count": 4,
   "metadata": {},
   "outputs": [
    {
     "name": "stdout",
     "output_type": "stream",
     "text": [
      "0 1 2 3 4 5 6 7 8 9 10 11 12 13 14 15 16 17 18 19 20 0 1 2 3 4 5 6 7 8 9 10 11 12 13 14 15 16 17 18 19 20 0 1 2 3 4 5 6 7 8 9 10 11 12 13 14 15 16 17 18 19 20 "
     ]
    }
   ],
   "source": [
    "#random defense overhead\n",
    "random_overhead = np.zeros((3, 21))\n",
    "\n",
    "s_list = [500, 1000, 1514]\n",
    "p_list = np.linspace(0, 100, 21)\n",
    "\n",
    "for s in range(3):\n",
    "    for p in range(21):\n",
    "        size_sum = 0\n",
    "        size_extra = 0\n",
    "        for i in range(2000):\n",
    "            for j in range(500):\n",
    "                if test_data[i][j] == 0:\n",
    "                    break\n",
    "                size_sum += abs(test_data[i][j])\n",
    "                if rd.randint(0, 100) < p_list[p]:\n",
    "                    insert = 0\n",
    "                    if rd.randint(0, 1) == 0:\n",
    "                        insert = rd.randint(-s_list[s], -54)\n",
    "                    else:\n",
    "                        insert = rd.randint(54, s_list[s])\n",
    "                    size_extra += abs(insert)\n",
    "        random_overhead[s][p] = size_extra / size_sum\n",
    "        print(p, end=' ')"
   ]
  },
  {
   "cell_type": "code",
   "execution_count": 5,
   "metadata": {},
   "outputs": [
    {
     "name": "stdout",
     "output_type": "stream",
     "text": [
      "0 1 2 3 4 5 6 7 8 9 10 11 12 13 14 15 16 17 18 19 20 0 1 2 3 4 5 6 7 8 9 10 11 12 13 14 15 16 17 18 19 20 "
     ]
    }
   ],
   "source": [
    "#list defense overhead\n",
    "list_overhead_insert = np.zeros((1, 21))\n",
    "\n",
    "p_list = np.linspace(0, 100, 21)\n",
    "\n",
    "for p in range(21):\n",
    "    size_sum = 0\n",
    "    size_extra = 0\n",
    "    for i in range(2000):\n",
    "        index = 0\n",
    "        for j in range(500):\n",
    "            if test_data[i][j] == 0:\n",
    "                break\n",
    "            size_sum += abs(test_data[i][j])\n",
    "            if rd.randint(0, 100) < p_list[p]:\n",
    "                insert = size_list_count[rd.randint(0, size_list_count.shape[0] - 1)]\n",
    "                size_extra += abs(insert)\n",
    "    list_overhead_insert[0][p] = size_extra / size_sum\n",
    "    print(p, end=' ')\n",
    "    \n",
    "list_overhead_divide = np.zeros((1, 21))\n",
    "\n",
    "p_list = np.linspace(0, 100, 21)\n",
    "p_real = np.zeros(21)\n",
    "\n",
    "for p in range(21):\n",
    "    size_sum = 0\n",
    "    size_extra = 0\n",
    "    count_sum = 0\n",
    "    count_extra = 0\n",
    "    for i in range(2000):\n",
    "        index = 0\n",
    "        for j in range(500):\n",
    "            if test_data[i][j] == 0:\n",
    "                break\n",
    "            first = 0\n",
    "            second = 0\n",
    "            if rd.randint(0, 100) < p_list[p]:\n",
    "                if test_data[i][j] > 200:\n",
    "                    while True:\n",
    "                        first = size_list_count[rd.randint(0, size_list_count.shape[0] - 1)]\n",
    "                        second = test_data[i][j] - first\n",
    "                        if first > 0 and second > 60:\n",
    "                            break\n",
    "                elif test_data[i][j] < -200:\n",
    "                    while True:\n",
    "                        first = size_list_count[rd.randint(0, size_list_count.shape[0] - 1)]\n",
    "                        second = test_data[i][j] - first\n",
    "                        if first < 0 and second < -60:\n",
    "                            break\n",
    "            if first != 0 and second != 0:\n",
    "                size_extra += 54\n",
    "                count_extra += 1\n",
    "            else:\n",
    "                pass\n",
    "\n",
    "            size_sum += abs(test_data[i][j])\n",
    "            count_sum += 1\n",
    "                \n",
    "    list_overhead_divide[0][p] = size_extra / size_sum\n",
    "    p_real[p] = count_extra / count_sum * 100\n",
    "    print(p, end=' ')"
   ]
  },
  {
   "cell_type": "code",
   "execution_count": 10,
   "metadata": {},
   "outputs": [
    {
     "name": "stdout",
     "output_type": "stream",
     "text": [
      "[ 0.          3.00827799  5.92603484  8.90862679 11.94471656 14.81393565\n",
      " 17.79263041 20.76459366 23.74381985 26.68531414 29.70085508 32.65811528\n",
      " 35.66320466 38.52888085 41.46045501 44.47652739 47.58223518 50.43604265\n",
      " 53.41243452 56.38386633 59.37389838]\n",
      "20.764593655725594\n",
      "41.46045501488905\n",
      "59.37389837894524\n"
     ]
    }
   ],
   "source": [
    "print(p_real)\n",
    "print(p_real[7])\n",
    "print(p_real[14])\n",
    "print(p_real[20])"
   ]
  },
  {
   "cell_type": "code",
   "execution_count": 16,
   "metadata": {},
   "outputs": [
    {
     "data": {
      "image/png": "[encoded data removed]",
      "text/plain": [
       "<Figure size 576x360 with 1 Axes>"
      ]
     },
     "metadata": {
      "needs_background": "light"
     },
     "output_type": "display_data"
    }
   ],
   "source": [
    "plt.figure(figsize=(8,5))\n",
    "plt.bar(0, random_overhead[2][4], width=1, color = 'r', zorder=100) #0.2\n",
    "plt.bar(1, random_overhead[1][4], width=1, color = 'g', zorder=100)\n",
    "plt.bar(2, random_overhead[0][4], width=1, color = 'b', zorder=100)\n",
    "plt.bar(3, list_overhead_insert[0][4], width=1, color = 'y', zorder=100)\n",
    "plt.bar(4, list_overhead_divide[0][7], width=1, color = 'k', zorder=100)\n",
    "\n",
    "plt.bar(6, random_overhead[2][8], width=1, color = 'r', zorder=100) #0.4\n",
    "plt.bar(7, random_overhead[1][8], width=1, color = 'g', zorder=100)\n",
    "plt.bar(8, random_overhead[0][8], width=1, color = 'b', zorder=100)\n",
    "plt.bar(9, list_overhead_insert[0][8], width=1, color = 'y', zorder=100)\n",
    "plt.bar(10, list_overhead_divide[0][14], width=1, color = 'k', zorder=100)\n",
    "\n",
    "plt.bar(12, random_overhead[2][12], width=1, color = 'r', zorder=100) #0.6\n",
    "plt.bar(13, random_overhead[1][12], width=1, color = 'g', zorder=100)\n",
    "plt.bar(14, random_overhead[0][12], width=1, color = 'b', zorder=100)\n",
    "plt.bar(15, list_overhead_insert[0][12], width=1, color = 'y', zorder=100)\n",
    "plt.bar(16, list_overhead_divide[0][20], width=1, color = 'k', zorder=100)\n",
    "\n",
    "plt.legend(['RPD Large', 'RPD Medium', 'RPD Small', 'LAD Insert', 'LAD Split'], fontsize=14)\n",
    "plt.xticks([2, 8, 14], ['0.2', '0.4', '0.6'])\n",
    "plt.xlabel('Packets Probability', fontsize=18)\n",
    "plt.ylabel('Overhead', fontsize=18)\n",
    "plt.xticks(fontsize=14)\n",
    "plt.yticks(fontsize=14)\n",
    "plt.grid()\n",
    "plt.savefig('C:/Users/Admin/Desktop/overhead.pdf', bbox_inches = 'tight')"
   ]
  },
  {
   "cell_type": "code",
   "execution_count": null,
   "metadata": {},
   "outputs": [],
   "source": []
  }
 ],
 "metadata": {
  "kernelspec": {
   "display_name": "Python 3",
   "language": "python",
   "name": "python3"
  },
  "language_info": {
   "codemirror_mode": {
    "name": "ipython",
    "version": 3
   },
   "file_extension": ".py",
   "mimetype": "text/x-python",
   "name": "python",
   "nbconvert_exporter": "python",
   "pygments_lexer": "ipython3",
   "version": "3.7.0"
  }
 },
 "nbformat": 4,
 "nbformat_minor": 2
}
