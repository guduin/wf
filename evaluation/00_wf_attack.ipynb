{
 "cells": [
  {
   "cell_type": "code",
   "execution_count": 1,
   "metadata": {},
   "outputs": [],
   "source": [
    "import numpy as np\n",
    "import matplotlib.pyplot as plt\n",
    "import pandas as pd\n",
    "\n",
    "from keras import Sequential\n",
    "from keras import layers\n",
    "from keras.layers import Conv1D, MaxPooling1D, Flatten, Dense, Dropout\n",
    "from keras.optimizers import adam_v2\n",
    "from tensorflow.keras.utils import to_categorical"
   ]
  },
  {
   "cell_type": "code",
   "execution_count": 2,
   "metadata": {},
   "outputs": [
    {
     "name": "stdout",
     "output_type": "stream",
     "text": [
      "data shape: (10000, 1002)\n",
      "train data shape: (8000, 500)\n",
      "test data shape: (2000, 500)\n"
     ]
    }
   ],
   "source": [
    "#load data\n",
    "df = pd.read_csv('F:/data_edge/3_data/data.csv', header=None)\n",
    "df = df.sort_values([1, 0])\n",
    "data = np.array(df)\n",
    "print('data shape:', data.shape)\n",
    "\n",
    "train = data[0:8000]\n",
    "train_data = train[:, 2:502]\n",
    "train_index = train[:, 0]\n",
    "train_index = to_categorical(train_index)\n",
    "print('train data shape:', train_data.shape)\n",
    "\n",
    "test = data[8000:10000]\n",
    "test_data = test[:, 2:502]\n",
    "test_index = test[:, 0]\n",
    "test_index = to_categorical(test_index)\n",
    "print('test data shape:', test_data.shape)"
   ]
  },
  {
   "cell_type": "code",
   "execution_count": 3,
   "metadata": {},
   "outputs": [],
   "source": [
    "#cnn model\n",
    "model  = Sequential()\n",
    "model.add(Conv1D(input_shape = (500, 1),\n",
    "                 filters=32,\n",
    "                 kernel_size=5,\n",
    "                 padding = 'same',\n",
    "                 strides=1,\n",
    "                 activation='relu'))\n",
    "model.add(Conv1D(filters=32,\n",
    "                 kernel_size=5,\n",
    "                 padding = 'same',\n",
    "                 strides=1,\n",
    "                 activation='relu'))\n",
    "model.add(MaxPooling1D(pool_size=2))\n",
    "model.add(Conv1D(filters=64,\n",
    "                 kernel_size=5,\n",
    "                 padding = 'same',\n",
    "                 activation='relu'))\n",
    "model.add(Conv1D(filters=64,\n",
    "                 kernel_size=5,\n",
    "                 padding = 'same',\n",
    "                 activation='relu'))\n",
    "model.add(MaxPooling1D(pool_size=2))\n",
    "model.add(Conv1D(filters=128,\n",
    "                 kernel_size=5,\n",
    "                 padding = 'same',\n",
    "                 activation='relu'))\n",
    "model.add(Conv1D(filters=128,\n",
    "                 kernel_size=5,\n",
    "                 padding = 'same',\n",
    "                 activation='relu'))\n",
    "model.add(MaxPooling1D(pool_size=2))\n",
    "model.add(Conv1D(filters=256,\n",
    "                 kernel_size=5,\n",
    "                 padding = 'same',\n",
    "                 activation='relu'))\n",
    "model.add(Conv1D(filters=256,\n",
    "                 kernel_size=5,\n",
    "                 padding = 'same',\n",
    "                 activation='relu'))\n",
    "model.add(MaxPooling1D(pool_size=2))\n",
    "model.add(Flatten())\n",
    "model.add(Dense(256, activation = 'relu'))\n",
    "model.add(Dense(100, activation='softmax'))\n",
    "model.compile(loss='categorical_crossentropy',\n",
    "              optimizer=adam_v2.Adam(learning_rate=0.001),\n",
    "              metrics='accuracy')"
   ]
  },
  {
   "cell_type": "code",
   "execution_count": 4,
   "metadata": {},
   "outputs": [
    {
     "name": "stdout",
     "output_type": "stream",
     "text": [
      "Model: \"sequential\"\n",
      "_________________________________________________________________\n",
      " Layer (type)                Output Shape              Param #   \n",
      "=================================================================\n",
      " conv1d (Conv1D)             (None, 500, 32)           192       \n",
      "                                                                 \n",
      " conv1d_1 (Conv1D)           (None, 500, 32)           5152      \n",
      "                                                                 \n",
      " max_pooling1d (MaxPooling1D  (None, 250, 32)          0         \n",
      " )                                                               \n",
      "                                                                 \n",
      " conv1d_2 (Conv1D)           (None, 250, 64)           10304     \n",
      "                                                                 \n",
      " conv1d_3 (Conv1D)           (None, 250, 64)           20544     \n",
      "                                                                 \n",
      " max_pooling1d_1 (MaxPooling  (None, 125, 64)          0         \n",
      " 1D)                                                             \n",
      "                                                                 \n",
      " conv1d_4 (Conv1D)           (None, 125, 128)          41088     \n",
      "                                                                 \n",
      " conv1d_5 (Conv1D)           (None, 125, 128)          82048     \n",
      "                                                                 \n",
      " max_pooling1d_2 (MaxPooling  (None, 62, 128)          0         \n",
      " 1D)                                                             \n",
      "                                                                 \n",
      " conv1d_6 (Conv1D)           (None, 62, 256)           164096    \n",
      "                                                                 \n",
      " conv1d_7 (Conv1D)           (None, 62, 256)           327936    \n",
      "                                                                 \n",
      " max_pooling1d_3 (MaxPooling  (None, 31, 256)          0         \n",
      " 1D)                                                             \n",
      "                                                                 \n",
      " flatten (Flatten)           (None, 7936)              0         \n",
      "                                                                 \n",
      " dense (Dense)               (None, 256)               2031872   \n",
      "                                                                 \n",
      " dense_1 (Dense)             (None, 100)               25700     \n",
      "                                                                 \n",
      "=================================================================\n",
      "Total params: 2,708,932\n",
      "Trainable params: 2,708,932\n",
      "Non-trainable params: 0\n",
      "_________________________________________________________________\n"
     ]
    }
   ],
   "source": [
    "model.summary()"
   ]
  },
  {
   "cell_type": "code",
   "execution_count": 4,
   "metadata": {},
   "outputs": [
    {
     "name": "stdout",
     "output_type": "stream",
     "text": [
      "Epoch 1/10\n",
      "250/250 [==============================] - 51s 196ms/step - loss: 1.5275 - accuracy: 0.6324\n",
      "Epoch 2/10\n",
      "250/250 [==============================] - 48s 190ms/step - loss: 0.2610 - accuracy: 0.9293\n",
      "Epoch 3/10\n",
      "250/250 [==============================] - 46s 183ms/step - loss: 0.1259 - accuracy: 0.9654\n",
      "Epoch 4/10\n",
      "250/250 [==============================] - 47s 186ms/step - loss: 0.0687 - accuracy: 0.9819\n",
      "Epoch 5/10\n",
      "250/250 [==============================] - 49s 194ms/step - loss: 0.0585 - accuracy: 0.9837\n",
      "Epoch 6/10\n",
      "250/250 [==============================] - 51s 202ms/step - loss: 0.0520 - accuracy: 0.9847\n",
      "Epoch 7/10\n",
      "250/250 [==============================] - 48s 191ms/step - loss: 0.0448 - accuracy: 0.9879\n",
      "Epoch 8/10\n",
      "250/250 [==============================] - 47s 187ms/step - loss: 0.0292 - accuracy: 0.9926\n",
      "Epoch 9/10\n",
      "250/250 [==============================] - 48s 191ms/step - loss: 0.0384 - accuracy: 0.9891\n",
      "Epoch 10/10\n",
      "250/250 [==============================] - 47s 187ms/step - loss: 0.0428 - accuracy: 0.9885\n"
     ]
    },
    {
     "data": {
      "text/plain": [
       "<keras.callbacks.History at 0x11146b2ae80>"
      ]
     },
     "execution_count": 4,
     "metadata": {},
     "output_type": "execute_result"
    }
   ],
   "source": [
    "#train model\n",
    "model.fit(train_data.astype('float32')/1514, train_index, epochs = 10)"
   ]
  },
  {
   "cell_type": "code",
   "execution_count": 5,
   "metadata": {},
   "outputs": [
    {
     "name": "stdout",
     "output_type": "stream",
     "text": [
      "63/63 [==============================] - 3s 41ms/step - loss: 0.1810 - accuracy: 0.9605\n"
     ]
    },
    {
     "data": {
      "text/plain": [
       "[0.18097864091396332, 0.9605000019073486]"
      ]
     },
     "execution_count": 5,
     "metadata": {},
     "output_type": "execute_result"
    }
   ],
   "source": [
    "#test model\n",
    "model.evaluate(test_data.astype('float32')/1514, test_index)"
   ]
  },
  {
   "cell_type": "code",
   "execution_count": 6,
   "metadata": {},
   "outputs": [],
   "source": [
    "#save model\n",
    "model.save('F:/data_edge/4_result/model_cnn.h5')"
   ]
  },
  {
   "cell_type": "code",
   "execution_count": null,
   "metadata": {},
   "outputs": [],
   "source": []
  }
 ],
 "metadata": {
  "kernelspec": {
   "display_name": "Python 3",
   "language": "python",
   "name": "python3"
  },
  "language_info": {
   "codemirror_mode": {
    "name": "ipython",
    "version": 3
   },
   "file_extension": ".py",
   "mimetype": "text/x-python",
   "name": "python",
   "nbconvert_exporter": "python",
   "pygments_lexer": "ipython3",
   "version": "3.7.0"
  }
 },
 "nbformat": 4,
 "nbformat_minor": 2
}
