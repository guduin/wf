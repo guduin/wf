{
 "cells": [
  {
   "cell_type": "code",
   "execution_count": 1,
   "metadata": {},
   "outputs": [],
   "source": [
    "import numpy as np\n",
    "import matplotlib.pyplot as plt\n",
    "import pandas as pd\n",
    "\n",
    "from tensorflow.keras.utils import to_categorical\n",
    "from keras.models import load_model\n",
    "import random as rd\n",
    "import collections as clt"
   ]
  },
  {
   "cell_type": "code",
   "execution_count": 2,
   "metadata": {},
   "outputs": [
    {
     "data": {
      "text/plain": [
       "<module 'module' from 'C:\\\\Users\\\\Admin\\\\Documents\\\\Anaconda\\\\Project4-EdgeEval\\\\module.py'>"
      ]
     },
     "execution_count": 2,
     "metadata": {},
     "output_type": "execute_result"
    }
   ],
   "source": [
    "import module\n",
    "import importlib\n",
    "importlib.reload(module)"
   ]
  },
  {
   "cell_type": "code",
   "execution_count": 3,
   "metadata": {},
   "outputs": [
    {
     "name": "stdout",
     "output_type": "stream",
     "text": [
      "data shape: (10000, 1002)\n",
      "train data shape: (8000, 500)\n",
      "test data shape: (2000, 500)\n",
      "data shape: (10000, 1002)\n",
      "train data shape: (8000, 500)\n",
      "test data shape: (2000, 500)\n",
      "data shape: (10000, 1002)\n",
      "train data shape: (8000, 500)\n",
      "test data shape: (2000, 500)\n"
     ]
    }
   ],
   "source": [
    "train_data_edge, train_index_edge, test_data_edge, test_index_edge = module.load_data('F:/data_edge/3_data/data.csv')\n",
    "train_data_chrome, train_index_chrome, test_data_chrome, test_index_chrome = module.load_data('F:/data_chrome/3_data/data.csv')\n",
    "train_data_firefox, train_index_firefox, test_data_firefox, test_index_firefox = module.load_data('F:/data_firefox/3_data/data.csv')\n"
   ]
  },
  {
   "cell_type": "code",
   "execution_count": 4,
   "metadata": {},
   "outputs": [],
   "source": [
    "model_edge = load_model('F:/data_edge/4_result/model_cnn.h5')\n",
    "model_chrome = load_model('F:/data_chrome/4_result/model_cnn.h5')\n",
    "model_firefox = load_model('F:/data_firefox/4_result/model_cnn.h5')"
   ]
  },
  {
   "cell_type": "code",
   "execution_count": 5,
   "metadata": {},
   "outputs": [
    {
     "name": "stdout",
     "output_type": "stream",
     "text": [
      "63/63 [==============================] - 4s 44ms/step - loss: 0.1810 - accuracy: 0.9605\n",
      "63/63 [==============================] - 3s 43ms/step - loss: 6.2106 - accuracy: 0.1965\n",
      "63/63 [==============================] - 3s 42ms/step - loss: 9.6354 - accuracy: 0.0545\n"
     ]
    },
    {
     "data": {
      "text/plain": [
       "0.054499998688697815"
      ]
     },
     "execution_count": 5,
     "metadata": {},
     "output_type": "execute_result"
    }
   ],
   "source": [
    "module.evaluate(model_edge, test_data_edge, test_index_edge)[1]\n",
    "random_data_edge = module.random_defense(test_data_edge, 20, 1500)\n",
    "module.evaluate(model_edge, random_data_edge, test_index_edge)[1]\n",
    "random_data_edge = module.random_defense(test_data_edge, 40, 1500)\n",
    "module.evaluate(model_edge, random_data_edge, test_index_edge)[1]"
   ]
  },
  {
   "cell_type": "code",
   "execution_count": 6,
   "metadata": {},
   "outputs": [
    {
     "name": "stdout",
     "output_type": "stream",
     "text": [
      "63/63 [==============================] - 3s 43ms/step - loss: 0.4511 - accuracy: 0.9350\n",
      "63/63 [==============================] - 3s 41ms/step - loss: 8.1370 - accuracy: 0.1940\n",
      "63/63 [==============================] - 3s 41ms/step - loss: 13.3334 - accuracy: 0.0395\n"
     ]
    },
    {
     "data": {
      "text/plain": [
       "0.039500001817941666"
      ]
     },
     "execution_count": 6,
     "metadata": {},
     "output_type": "execute_result"
    }
   ],
   "source": [
    "module.evaluate(model_chrome, test_data_chrome, test_index_chrome)[1]\n",
    "random_data_chrome = module.random_defense(test_data_chrome, 20, 1500)\n",
    "module.evaluate(model_chrome, random_data_chrome, test_index_chrome)[1]\n",
    "random_data_chrome = module.random_defense(test_data_chrome, 40, 1500)\n",
    "module.evaluate(model_chrome, random_data_chrome, test_index_chrome)[1]"
   ]
  },
  {
   "cell_type": "code",
   "execution_count": 7,
   "metadata": {},
   "outputs": [
    {
     "name": "stdout",
     "output_type": "stream",
     "text": [
      "63/63 [==============================] - 3s 42ms/step - loss: 0.7973 - accuracy: 0.8645\n",
      "63/63 [==============================] - 3s 42ms/step - loss: 6.6924 - accuracy: 0.2710\n",
      "63/63 [==============================] - 3s 46ms/step - loss: 12.9330 - accuracy: 0.0680\n"
     ]
    },
    {
     "data": {
      "text/plain": [
       "0.06800000369548798"
      ]
     },
     "execution_count": 7,
     "metadata": {},
     "output_type": "execute_result"
    }
   ],
   "source": [
    "module.evaluate(model_firefox, test_data_firefox, test_index_firefox)[1]\n",
    "random_data_firefox = module.random_defense(test_data_firefox, 20, 1500)\n",
    "module.evaluate(model_firefox, random_data_firefox, test_index_firefox)[1]\n",
    "random_data_firefox = module.random_defense(test_data_firefox, 40, 1500)\n",
    "module.evaluate(model_firefox, random_data_firefox, test_index_firefox)[1]"
   ]
  },
  {
   "cell_type": "code",
   "execution_count": 12,
   "metadata": {},
   "outputs": [
    {
     "data": {
      "image/png": "[encoded data removed]",
      "text/plain": [
       "<Figure size 432x360 with 1 Axes>"
      ]
     },
     "metadata": {
      "needs_background": "light"
     },
     "output_type": "display_data"
    }
   ],
   "source": [
    "plt.figure(figsize=(6,5))\n",
    "plt.bar(0, 0.9605, width=1, color = 'r', zorder=100)\n",
    "plt.bar(1, 0.1850, width=1, color = 'g', zorder=100)\n",
    "plt.bar(2, 0.0580, width=1, color = 'b', zorder=100)\n",
    "\n",
    "plt.bar(4, 0.9350, width=1, color = 'r', zorder=100)\n",
    "plt.bar(5, 0.1890, width=1, color = 'g', zorder=100)\n",
    "plt.bar(6, 0.0450, width=1, color = 'b', zorder=100)\n",
    "\n",
    "plt.bar(8, 0.8645, width=1, color = 'r', zorder=100)\n",
    "plt.bar(9, 0.2575, width=1, color = 'g', zorder=100)\n",
    "plt.bar(10, 0.0735, width=1, color = 'b', zorder=100)\n",
    "\n",
    "\n",
    "plt.legend(['0%', '20%', '40%'], fontsize=14)\n",
    "plt.xticks([1, 5, 9], ['Microsoft\\nEdge', 'Google\\nChrome', 'Mozilla\\nFirefox'])\n",
    "plt.xlabel('Browsers', fontsize=18)\n",
    "plt.ylabel('WF Attack Accuracy', fontsize=18)\n",
    "plt.xlim([-1, 12])\n",
    "plt.xticks(fontsize=14)\n",
    "plt.yticks(fontsize=14)\n",
    "plt.grid()\n",
    "plt.savefig('C:/Users/Admin/Desktop/wf_noise.pdf', bbox_inches = 'tight')"
   ]
  },
  {
   "cell_type": "code",
   "execution_count": null,
   "metadata": {},
   "outputs": [],
   "source": []
  }
 ],
 "metadata": {
  "kernelspec": {
   "display_name": "Python 3",
   "language": "python",
   "name": "python3"
  },
  "language_info": {
   "codemirror_mode": {
    "name": "ipython",
    "version": 3
   },
   "file_extension": ".py",
   "mimetype": "text/x-python",
   "name": "python",
   "nbconvert_exporter": "python",
   "pygments_lexer": "ipython3",
   "version": "3.7.0"
  }
 },
 "nbformat": 4,
 "nbformat_minor": 2
}
