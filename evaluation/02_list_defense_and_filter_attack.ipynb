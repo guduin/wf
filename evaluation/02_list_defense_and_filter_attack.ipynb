{
 "cells": [
  {
   "cell_type": "code",
   "execution_count": 1,
   "metadata": {},
   "outputs": [],
   "source": [
    "import numpy as np\n",
    "import matplotlib.pyplot as plt\n",
    "import pandas as pd\n",
    "\n",
    "from tensorflow.keras.utils import to_categorical\n",
    "from keras.models import load_model\n",
    "import random as rd\n",
    "import collections as clt"
   ]
  },
  {
   "cell_type": "code",
   "execution_count": 2,
   "metadata": {},
   "outputs": [
    {
     "data": {
      "text/plain": [
       "<module 'module' from 'C:\\\\Users\\\\Admin\\\\Documents\\\\Anaconda\\\\Project4-EdgeEval\\\\module.py'>"
      ]
     },
     "execution_count": 2,
     "metadata": {},
     "output_type": "execute_result"
    }
   ],
   "source": [
    "import module\n",
    "import importlib\n",
    "importlib.reload(module)"
   ]
  },
  {
   "cell_type": "code",
   "execution_count": 3,
   "metadata": {},
   "outputs": [],
   "source": [
    "browser = 'firefox'"
   ]
  },
  {
   "cell_type": "code",
   "execution_count": 4,
   "metadata": {},
   "outputs": [
    {
     "name": "stdout",
     "output_type": "stream",
     "text": [
      "data shape: (10000, 1002)\n",
      "train data shape: (8000, 500)\n",
      "test data shape: (2000, 500)\n"
     ]
    }
   ],
   "source": [
    "train_data, train_index, test_data, test_index = module.load_data('F:/data_' + browser + '/3_data/data.csv')\n",
    "model = load_model('F:/data_' + browser + '/4_result/model_cnn.h5')"
   ]
  },
  {
   "cell_type": "code",
   "execution_count": 5,
   "metadata": {},
   "outputs": [],
   "source": [
    "#list defense insert\n",
    "list_data_insert = np.array([])\n",
    "\n",
    "p_list = np.linspace(0, 100, 21)\n",
    "\n",
    "for p in range(21):\n",
    "    output_data = module.list_defense_insert(test_data, p_list[p], train_data)\n",
    "    if len(list_data_insert) == 0:\n",
    "        list_data_insert = output_data\n",
    "    else:\n",
    "        list_data_insert = np.append(list_data_insert, output_data, axis=0)\n",
    "    \n",
    "#list defense divide\n",
    "list_data_divide = np.array([])\n",
    "p_real = np.array([])\n",
    "\n",
    "p_list = np.linspace(0, 100, 21)\n",
    "\n",
    "for p in range(21):\n",
    "    output_data, p_real_single = module.list_defense_divide(test_data, p_list[p], train_data)\n",
    "    if len(list_data_divide) == 0:\n",
    "        list_data_divide = output_data\n",
    "        p_real = p_real_single\n",
    "    else:\n",
    "        list_data_divide = np.append(list_data_divide, output_data, axis=0)\n",
    "        p_real = np.append(p_real, p_real_single)"
   ]
  },
  {
   "cell_type": "code",
   "execution_count": 6,
   "metadata": {},
   "outputs": [
    {
     "name": "stdout",
     "output_type": "stream",
     "text": [
      "63/63 [==============================] - 3s 41ms/step - loss: 0.7973 - accuracy: 0.8645\n",
      "63/63 [==============================] - 3s 42ms/step - loss: 1.9502 - accuracy: 0.7045\n",
      "63/63 [==============================] - 3s 41ms/step - loss: 3.2267 - accuracy: 0.5545\n",
      "63/63 [==============================] - 3s 44ms/step - loss: 4.9692 - accuracy: 0.3875\n",
      "63/63 [==============================] - 3s 42ms/step - loss: 6.7823 - accuracy: 0.2535\n",
      "63/63 [==============================] - 3s 41ms/step - loss: 8.6197 - accuracy: 0.1580\n",
      "63/63 [==============================] - 3s 42ms/step - loss: 10.0745 - accuracy: 0.1240\n",
      "63/63 [==============================] - 3s 43ms/step - loss: 11.2705 - accuracy: 0.0835\n",
      "63/63 [==============================] - 3s 42ms/step - loss: 12.0582 - accuracy: 0.0620\n",
      "63/63 [==============================] - 3s 42ms/step - loss: 12.9640 - accuracy: 0.0585\n",
      "63/63 [==============================] - 3s 42ms/step - loss: 13.5526 - accuracy: 0.0460\n",
      "63/63 [==============================] - 3s 42ms/step - loss: 14.2393 - accuracy: 0.0285\n",
      "63/63 [==============================] - 3s 41ms/step - loss: 14.5566 - accuracy: 0.0285\n",
      "63/63 [==============================] - 3s 44ms/step - loss: 15.2454 - accuracy: 0.0210\n",
      "63/63 [==============================] - 3s 45ms/step - loss: 15.4063 - accuracy: 0.0150\n",
      "63/63 [==============================] - 3s 43ms/step - loss: 15.7107 - accuracy: 0.0160\n",
      "63/63 [==============================] - 3s 44ms/step - loss: 15.9927 - accuracy: 0.0170\n",
      "63/63 [==============================] - 3s 43ms/step - loss: 15.9682 - accuracy: 0.0160\n",
      "63/63 [==============================] - 3s 42ms/step - loss: 16.4249 - accuracy: 0.0185\n",
      "63/63 [==============================] - 3s 42ms/step - loss: 16.8858 - accuracy: 0.0150\n",
      "63/63 [==============================] - 3s 45ms/step - loss: 17.1093 - accuracy: 0.0090\n",
      "63/63 [==============================] - 3s 42ms/step - loss: 0.7973 - accuracy: 0.8645\n",
      "63/63 [==============================] - 3s 43ms/step - loss: 0.8964 - accuracy: 0.8400\n",
      "63/63 [==============================] - 3s 43ms/step - loss: 1.1445 - accuracy: 0.7960\n",
      "63/63 [==============================] - 3s 43ms/step - loss: 1.3869 - accuracy: 0.7365\n",
      "63/63 [==============================] - 3s 42ms/step - loss: 1.8976 - accuracy: 0.6665\n",
      "63/63 [==============================] - 3s 42ms/step - loss: 2.5218 - accuracy: 0.5815\n",
      "63/63 [==============================] - 3s 43ms/step - loss: 3.1827 - accuracy: 0.5190\n",
      "63/63 [==============================] - 3s 42ms/step - loss: 3.8640 - accuracy: 0.4525\n",
      "63/63 [==============================] - 3s 44ms/step - loss: 4.3402 - accuracy: 0.3935\n",
      "63/63 [==============================] - 3s 43ms/step - loss: 5.1102 - accuracy: 0.3380\n",
      "63/63 [==============================] - 3s 43ms/step - loss: 5.6047 - accuracy: 0.3050\n",
      "63/63 [==============================] - 3s 45ms/step - loss: 6.0094 - accuracy: 0.2665\n",
      "63/63 [==============================] - 3s 46ms/step - loss: 6.5536 - accuracy: 0.2435\n",
      "63/63 [==============================] - 3s 52ms/step - loss: 7.0397 - accuracy: 0.2100\n",
      "63/63 [==============================] - 3s 52ms/step - loss: 7.4355 - accuracy: 0.1955\n",
      "63/63 [==============================] - 3s 47ms/step - loss: 7.5579 - accuracy: 0.1905\n",
      "63/63 [==============================] - 3s 46ms/step - loss: 7.9020 - accuracy: 0.1675\n",
      "63/63 [==============================] - 3s 46ms/step - loss: 8.1225 - accuracy: 0.1490\n",
      "63/63 [==============================] - 3s 50ms/step - loss: 8.3309 - accuracy: 0.1370\n",
      "63/63 [==============================] - 3s 50ms/step - loss: 8.6280 - accuracy: 0.1275\n",
      "63/63 [==============================] - 3s 43ms/step - loss: 8.8503 - accuracy: 0.1100\n"
     ]
    }
   ],
   "source": [
    "list_result_insert = np.zeros((1, 21))\n",
    "for i in range(1):\n",
    "    for j in range(21):\n",
    "        test_data_single = list_data_insert[(i * 21 + j) * 2000 : (i * 21 + j) * 2000 + 2000]\n",
    "        result_single = module.evaluate(model, test_data_single, test_index)\n",
    "        list_result_insert[i][j] = result_single[1]\n",
    "        \n",
    "list_result_divide = np.zeros((1, 21))\n",
    "for i in range(1):\n",
    "    for j in range(21):\n",
    "        test_data_single = list_data_divide[(i * 21 + j) * 2000 : (i * 21 + j) * 2000 + 2000]\n",
    "        result_single = module.evaluate(model, test_data_single, test_index)\n",
    "        list_result_divide[i][j] = result_single[1]"
   ]
  },
  {
   "cell_type": "code",
   "execution_count": 7,
   "metadata": {},
   "outputs": [],
   "source": [
    "filter_data_insert = module.filter_attack(list_data_insert, train_data)\n",
    "filter_data_divide = module.filter_attack(list_data_divide, train_data)"
   ]
  },
  {
   "cell_type": "code",
   "execution_count": 8,
   "metadata": {},
   "outputs": [
    {
     "name": "stdout",
     "output_type": "stream",
     "text": [
      "63/63 [==============================] - 3s 40ms/step - loss: 1.3105 - accuracy: 0.7625\n",
      "63/63 [==============================] - 3s 41ms/step - loss: 2.1209 - accuracy: 0.6685\n",
      "63/63 [==============================] - 3s 42ms/step - loss: 3.1958 - accuracy: 0.5595\n",
      "63/63 [==============================] - 3s 41ms/step - loss: 4.4338 - accuracy: 0.4375\n",
      "63/63 [==============================] - 3s 41ms/step - loss: 5.9532 - accuracy: 0.3055\n",
      "63/63 [==============================] - 3s 41ms/step - loss: 7.6442 - accuracy: 0.2025\n",
      "63/63 [==============================] - 3s 41ms/step - loss: 9.0812 - accuracy: 0.1490\n",
      "63/63 [==============================] - 3s 47ms/step - loss: 10.3327 - accuracy: 0.1035\n",
      "63/63 [==============================] - 3s 47ms/step - loss: 11.1539 - accuracy: 0.0770\n",
      "63/63 [==============================] - 3s 43ms/step - loss: 12.1573 - accuracy: 0.0615\n",
      "63/63 [==============================] - 3s 44ms/step - loss: 12.8190 - accuracy: 0.0505\n",
      "63/63 [==============================] - 3s 44ms/step - loss: 13.5505 - accuracy: 0.0385\n",
      "63/63 [==============================] - 3s 50ms/step - loss: 13.8306 - accuracy: 0.0330\n",
      "63/63 [==============================] - 3s 44ms/step - loss: 14.6741 - accuracy: 0.0275\n",
      "63/63 [==============================] - 3s 47ms/step - loss: 15.0241 - accuracy: 0.0210\n",
      "63/63 [==============================] - 3s 43ms/step - loss: 15.3609 - accuracy: 0.0150\n",
      "63/63 [==============================] - 3s 43ms/step - loss: 15.5788 - accuracy: 0.0155\n",
      "63/63 [==============================] - 3s 41ms/step - loss: 15.8487 - accuracy: 0.0155\n",
      "63/63 [==============================] - 3s 43ms/step - loss: 16.0433 - accuracy: 0.0200\n",
      "63/63 [==============================] - 3s 40ms/step - loss: 16.4422 - accuracy: 0.0180\n",
      "63/63 [==============================] - 3s 42ms/step - loss: 16.7098 - accuracy: 0.0130\n",
      "63/63 [==============================] - 3s 40ms/step - loss: 1.3105 - accuracy: 0.7625\n",
      "63/63 [==============================] - 3s 41ms/step - loss: 1.3751 - accuracy: 0.7515\n",
      "63/63 [==============================] - 3s 41ms/step - loss: 1.4287 - accuracy: 0.7400\n",
      "63/63 [==============================] - 3s 41ms/step - loss: 1.5324 - accuracy: 0.7190\n",
      "63/63 [==============================] - 3s 42ms/step - loss: 1.5944 - accuracy: 0.6965\n",
      "63/63 [==============================] - 3s 41ms/step - loss: 1.7784 - accuracy: 0.6800\n",
      "63/63 [==============================] - 3s 40ms/step - loss: 1.8898 - accuracy: 0.6380\n",
      "63/63 [==============================] - 3s 40ms/step - loss: 2.1444 - accuracy: 0.6170\n",
      "63/63 [==============================] - 3s 41ms/step - loss: 2.3522 - accuracy: 0.5740\n",
      "63/63 [==============================] - 3s 42ms/step - loss: 2.6326 - accuracy: 0.5270\n",
      "63/63 [==============================] - 3s 43ms/step - loss: 2.9526 - accuracy: 0.4790\n",
      "63/63 [==============================] - 3s 41ms/step - loss: 3.0878 - accuracy: 0.4515\n",
      "63/63 [==============================] - 3s 40ms/step - loss: 3.4998 - accuracy: 0.4215\n",
      "63/63 [==============================] - 3s 41ms/step - loss: 3.8465 - accuracy: 0.3805\n",
      "63/63 [==============================] - 3s 41ms/step - loss: 4.2338 - accuracy: 0.3245\n",
      "63/63 [==============================] - 3s 42ms/step - loss: 4.5129 - accuracy: 0.2885\n",
      "63/63 [==============================] - 3s 41ms/step - loss: 4.8287 - accuracy: 0.2540\n",
      "63/63 [==============================] - 3s 40ms/step - loss: 5.2026 - accuracy: 0.2360\n",
      "63/63 [==============================] - 3s 40ms/step - loss: 5.4880 - accuracy: 0.2140\n",
      "63/63 [==============================] - 3s 41ms/step - loss: 5.7719 - accuracy: 0.1905\n",
      "63/63 [==============================] - 3s 41ms/step - loss: 6.0757 - accuracy: 0.1670\n"
     ]
    }
   ],
   "source": [
    "#filter attack evaluate\n",
    "filter_result_insert = np.zeros((1, 21))\n",
    "for i in range(1):\n",
    "    for j in range(21):\n",
    "        test_data_single = filter_data_insert[(i * 21 + j) * 2000 : (i * 21 + j) * 2000 + 2000]\n",
    "        result_single = module.evaluate(model, test_data_single, test_index)\n",
    "        filter_result_insert[i][j] = result_single[1]\n",
    "        \n",
    "filter_result_divide = np.zeros((1, 21))\n",
    "for i in range(1):\n",
    "    for j in range(21):\n",
    "        test_data_single = filter_data_divide[(i * 21 + j) * 2000 : (i * 21 + j) * 2000 + 2000]\n",
    "        result_single = module.evaluate(model, test_data_single, test_index)\n",
    "        filter_result_divide[i][j] = result_single[1]"
   ]
  },
  {
   "cell_type": "code",
   "execution_count": 9,
   "metadata": {},
   "outputs": [
    {
     "data": {
      "image/png": "[encoded data removed]",
      "text/plain": [
       "<Figure size 432x360 with 1 Axes>"
      ]
     },
     "metadata": {
      "needs_background": "light"
     },
     "output_type": "display_data"
    }
   ],
   "source": [
    "plt.figure(figsize=(6,5))\n",
    "plt.plot(p_list/100, list_result_insert[0], 'ro-')\n",
    "plt.plot(p_real/100, list_result_divide[0], 'go-')\n",
    "\n",
    "plt.plot(p_list/100, filter_result_insert[0], 'r^--')\n",
    "plt.plot(p_real/100, filter_result_divide[0], 'g^--')\n",
    "\n",
    "plt.xlabel('List Packets Probability', fontsize=18)\n",
    "plt.ylabel('WF Attack Accuracy', fontsize=18)\n",
    "plt.legend(['LAD Insert', 'LAD Split', 'FAA Insert', 'FAA Split'], fontsize=14)\n",
    "plt.xlim((0,1))\n",
    "plt.ylim((0,1))\n",
    "plt.xticks(fontsize=14)\n",
    "plt.yticks(fontsize=14)\n",
    "plt.grid()\n",
    "plt.savefig('C:/Users/Admin/Desktop/list_filter_' + browser + '.pdf', bbox_inches = 'tight')"
   ]
  },
  {
   "cell_type": "code",
   "execution_count": 10,
   "metadata": {},
   "outputs": [
    {
     "name": "stdout",
     "output_type": "stream",
     "text": [
      "0.16576190452490533\n",
      "0.39476190152622403\n",
      "0.17116666571902378\n",
      "0.4815476196152823\n"
     ]
    }
   ],
   "source": [
    "print(np.average(list_result_insert[0]))\n",
    "print(np.average(list_result_divide[0]))\n",
    "print(np.average(filter_result_insert[0]))\n",
    "print(np.average(filter_result_divide[0]))"
   ]
  },
  {
   "cell_type": "code",
   "execution_count": null,
   "metadata": {},
   "outputs": [],
   "source": []
  }
 ],
 "metadata": {
  "kernelspec": {
   "display_name": "Python 3 (ipykernel)",
   "language": "python",
   "name": "python3"
  },
  "language_info": {
   "codemirror_mode": {
    "name": "ipython",
    "version": 3
   },
   "file_extension": ".py",
   "mimetype": "text/x-python",
   "name": "python",
   "nbconvert_exporter": "python",
   "pygments_lexer": "ipython3",
   "version": "3.7.13"
  }
 },
 "nbformat": 4,
 "nbformat_minor": 2
}
