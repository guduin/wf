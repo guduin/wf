{
 "cells": [
  {
   "cell_type": "code",
   "execution_count": 1,
   "metadata": {},
   "outputs": [],
   "source": [
    "import numpy as np\n",
    "import matplotlib.pyplot as plt\n",
    "import pandas as pd\n",
    "\n",
    "from tensorflow.keras.utils import to_categorical\n",
    "from keras.models import load_model\n",
    "import random as rd\n",
    "import collections as clt"
   ]
  },
  {
   "cell_type": "code",
   "execution_count": 2,
   "metadata": {},
   "outputs": [
    {
     "data": {
      "text/plain": [
       "<module 'module' from 'C:\\\\Users\\\\Admin\\\\Documents\\\\Anaconda\\\\Project4-EdgeEval\\\\module.py'>"
      ]
     },
     "execution_count": 2,
     "metadata": {},
     "output_type": "execute_result"
    }
   ],
   "source": [
    "import module\n",
    "import importlib\n",
    "importlib.reload(module)"
   ]
  },
  {
   "cell_type": "code",
   "execution_count": 3,
   "metadata": {},
   "outputs": [],
   "source": [
    "browser = 'firefox'"
   ]
  },
  {
   "cell_type": "code",
   "execution_count": 4,
   "metadata": {},
   "outputs": [
    {
     "name": "stdout",
     "output_type": "stream",
     "text": [
      "data shape: (10000, 1002)\n",
      "train data shape: (8000, 500)\n",
      "test data shape: (2000, 500)\n"
     ]
    }
   ],
   "source": [
    "train_data, train_index, test_data, test_index = module.load_data('F:/data_' + browser + '/3_data/data.csv')\n",
    "model = load_model('F:/data_' + browser + '/4_result/model_cnn.h5')"
   ]
  },
  {
   "cell_type": "code",
   "execution_count": 5,
   "metadata": {},
   "outputs": [],
   "source": [
    "s_list = [500, 1000, 1514]\n",
    "p_list = np.linspace(0, 100, 21)\n",
    "\n",
    "random_data = np.array([])\n",
    "\n",
    "for s in range(3):\n",
    "    for p in range(21):\n",
    "        output_data = module.random_defense(test_data, p_list[p], s_list[s])\n",
    "        if len(random_data) == 0:\n",
    "            random_data = output_data\n",
    "        else:\n",
    "            random_data = np.append(random_data, output_data, axis=0)"
   ]
  },
  {
   "cell_type": "code",
   "execution_count": 6,
   "metadata": {},
   "outputs": [
    {
     "data": {
      "text/plain": [
       "(126000, 1000)"
      ]
     },
     "execution_count": 6,
     "metadata": {},
     "output_type": "execute_result"
    }
   ],
   "source": [
    "random_data.shape"
   ]
  },
  {
   "cell_type": "code",
   "execution_count": 7,
   "metadata": {},
   "outputs": [
    {
     "name": "stdout",
     "output_type": "stream",
     "text": [
      "63/63 [==============================] - 3s 41ms/step - loss: 0.7973 - accuracy: 0.8645\n",
      "63/63 [==============================] - 3s 41ms/step - loss: 1.2344 - accuracy: 0.7800\n",
      "63/63 [==============================] - 3s 42ms/step - loss: 2.0849 - accuracy: 0.6355\n",
      "63/63 [==============================] - 3s 40ms/step - loss: 3.2446 - accuracy: 0.5085\n",
      "63/63 [==============================] - 3s 42ms/step - loss: 4.5995 - accuracy: 0.3700\n",
      "63/63 [==============================] - 3s 41ms/step - loss: 6.0524 - accuracy: 0.2665\n",
      "63/63 [==============================] - 3s 42ms/step - loss: 7.1411 - accuracy: 0.2040\n",
      "63/63 [==============================] - 3s 41ms/step - loss: 8.4780 - accuracy: 0.1525\n",
      "63/63 [==============================] - 2s 39ms/step - loss: 9.3752 - accuracy: 0.1180\n",
      "63/63 [==============================] - 3s 42ms/step - loss: 10.1140 - accuracy: 0.0960\n",
      "63/63 [==============================] - 3s 43ms/step - loss: 10.7282 - accuracy: 0.0815\n",
      "63/63 [==============================] - 3s 42ms/step - loss: 11.2691 - accuracy: 0.0670\n",
      "63/63 [==============================] - 3s 41ms/step - loss: 12.1124 - accuracy: 0.0520\n",
      "63/63 [==============================] - 3s 41ms/step - loss: 12.6507 - accuracy: 0.0490\n",
      "63/63 [==============================] - 3s 41ms/step - loss: 13.0542 - accuracy: 0.0425\n",
      "63/63 [==============================] - 3s 40ms/step - loss: 13.4036 - accuracy: 0.0345\n",
      "63/63 [==============================] - 3s 41ms/step - loss: 13.6322 - accuracy: 0.0310\n",
      "63/63 [==============================] - 3s 41ms/step - loss: 13.9197 - accuracy: 0.0380\n",
      "63/63 [==============================] - 3s 40ms/step - loss: 14.1956 - accuracy: 0.0370\n",
      "63/63 [==============================] - 3s 42ms/step - loss: 14.4740 - accuracy: 0.0310\n",
      "63/63 [==============================] - 3s 40ms/step - loss: 14.7718 - accuracy: 0.0365\n",
      "63/63 [==============================] - 3s 40ms/step - loss: 0.7973 - accuracy: 0.8645\n",
      "63/63 [==============================] - 3s 41ms/step - loss: 1.4895 - accuracy: 0.7405\n",
      "63/63 [==============================] - 3s 42ms/step - loss: 2.5723 - accuracy: 0.5890\n",
      "63/63 [==============================] - 3s 40ms/step - loss: 3.9543 - accuracy: 0.4365\n",
      "63/63 [==============================] - 3s 42ms/step - loss: 5.5258 - accuracy: 0.3075\n",
      "63/63 [==============================] - 3s 41ms/step - loss: 7.2542 - accuracy: 0.2160\n",
      "63/63 [==============================] - 3s 41ms/step - loss: 8.6149 - accuracy: 0.1390\n",
      "63/63 [==============================] - 3s 41ms/step - loss: 9.9073 - accuracy: 0.1140\n",
      "63/63 [==============================] - 3s 42ms/step - loss: 10.9703 - accuracy: 0.0930\n",
      "63/63 [==============================] - 3s 41ms/step - loss: 11.6754 - accuracy: 0.0680\n",
      "63/63 [==============================] - 3s 42ms/step - loss: 12.6223 - accuracy: 0.0660\n",
      "63/63 [==============================] - 3s 41ms/step - loss: 13.3378 - accuracy: 0.0455\n",
      "63/63 [==============================] - 3s 42ms/step - loss: 14.1694 - accuracy: 0.0325\n",
      "63/63 [==============================] - 3s 42ms/step - loss: 14.7656 - accuracy: 0.0275\n",
      "63/63 [==============================] - 3s 41ms/step - loss: 15.4331 - accuracy: 0.0275\n",
      "63/63 [==============================] - 3s 42ms/step - loss: 15.9073 - accuracy: 0.0215\n",
      "63/63 [==============================] - 3s 44ms/step - loss: 16.2819 - accuracy: 0.0210\n",
      "63/63 [==============================] - 3s 45ms/step - loss: 16.5177 - accuracy: 0.0230\n",
      "63/63 [==============================] - 3s 41ms/step - loss: 17.0755 - accuracy: 0.0210\n",
      "63/63 [==============================] - 3s 41ms/step - loss: 17.3787 - accuracy: 0.0180\n",
      "63/63 [==============================] - 3s 42ms/step - loss: 17.4571 - accuracy: 0.0150\n",
      "63/63 [==============================] - 3s 42ms/step - loss: 0.7973 - accuracy: 0.8645\n",
      "63/63 [==============================] - 3s 42ms/step - loss: 1.8427 - accuracy: 0.7130\n",
      "63/63 [==============================] - 3s 41ms/step - loss: 3.3090 - accuracy: 0.5350\n",
      "63/63 [==============================] - 3s 41ms/step - loss: 4.9948 - accuracy: 0.3725\n",
      "63/63 [==============================] - 3s 46ms/step - loss: 7.2298 - accuracy: 0.2460\n",
      "63/63 [==============================] - 3s 40ms/step - loss: 8.6295 - accuracy: 0.1860\n",
      "63/63 [==============================] - 3s 42ms/step - loss: 10.2753 - accuracy: 0.1165\n",
      "63/63 [==============================] - 3s 40ms/step - loss: 11.7905 - accuracy: 0.0890\n",
      "63/63 [==============================] - 3s 40ms/step - loss: 12.9927 - accuracy: 0.0665\n",
      "63/63 [==============================] - 3s 43ms/step - loss: 14.3383 - accuracy: 0.0525\n",
      "63/63 [==============================] - 3s 40ms/step - loss: 15.4779 - accuracy: 0.0425\n",
      "63/63 [==============================] - 3s 42ms/step - loss: 16.3275 - accuracy: 0.0305\n",
      "63/63 [==============================] - 3s 40ms/step - loss: 17.2049 - accuracy: 0.0315\n",
      "63/63 [==============================] - 3s 42ms/step - loss: 17.7803 - accuracy: 0.0220\n",
      "63/63 [==============================] - 3s 42ms/step - loss: 18.8639 - accuracy: 0.0205\n",
      "63/63 [==============================] - 3s 42ms/step - loss: 19.6392 - accuracy: 0.0180\n",
      "63/63 [==============================] - 3s 40ms/step - loss: 20.0806 - accuracy: 0.0130\n",
      "63/63 [==============================] - 3s 40ms/step - loss: 20.6469 - accuracy: 0.0160\n",
      "63/63 [==============================] - 3s 55ms/step - loss: 21.1117 - accuracy: 0.0115\n",
      "63/63 [==============================] - 4s 62ms/step - loss: 21.7377 - accuracy: 0.0115\n",
      "63/63 [==============================] - 3s 51ms/step - loss: 22.4294 - accuracy: 0.0185\n"
     ]
    }
   ],
   "source": [
    "#random defense evaluate\n",
    "random_result = np.zeros((3, 21))\n",
    "for i in range(3):\n",
    "    for j in range(21):\n",
    "        test_data_single = random_data[(i * 21 + j) * 2000 : (i * 21 + j) * 2000 + 2000]\n",
    "        result_single = module.evaluate(model, test_data_single, test_index)\n",
    "        random_result[i][j] = result_single[1]"
   ]
  },
  {
   "cell_type": "code",
   "execution_count": null,
   "metadata": {},
   "outputs": [],
   "source": []
  },
  {
   "cell_type": "code",
   "execution_count": 8,
   "metadata": {},
   "outputs": [],
   "source": [
    "filter_data = module.filter_attack(random_data, train_data)"
   ]
  },
  {
   "cell_type": "code",
   "execution_count": 9,
   "metadata": {},
   "outputs": [
    {
     "name": "stdout",
     "output_type": "stream",
     "text": [
      "63/63 [==============================] - 3s 40ms/step - loss: 1.3105 - accuracy: 0.7625\n",
      "63/63 [==============================] - 3s 40ms/step - loss: 1.2459 - accuracy: 0.7745\n",
      "63/63 [==============================] - 3s 40ms/step - loss: 1.3408 - accuracy: 0.7535\n",
      "63/63 [==============================] - 3s 40ms/step - loss: 1.3591 - accuracy: 0.7485\n",
      "63/63 [==============================] - 3s 40ms/step - loss: 1.5118 - accuracy: 0.7170\n",
      "63/63 [==============================] - 3s 40ms/step - loss: 1.7066 - accuracy: 0.7010\n",
      "63/63 [==============================] - 3s 40ms/step - loss: 1.8318 - accuracy: 0.6735\n",
      "63/63 [==============================] - 3s 40ms/step - loss: 2.1490 - accuracy: 0.6240\n",
      "63/63 [==============================] - 3s 40ms/step - loss: 2.4906 - accuracy: 0.5835\n",
      "63/63 [==============================] - 3s 40ms/step - loss: 2.8510 - accuracy: 0.5230\n",
      "63/63 [==============================] - 3s 40ms/step - loss: 3.1990 - accuracy: 0.4955\n",
      "63/63 [==============================] - 3s 40ms/step - loss: 3.5378 - accuracy: 0.4435\n",
      "63/63 [==============================] - 3s 40ms/step - loss: 3.9728 - accuracy: 0.3930\n",
      "63/63 [==============================] - 3s 40ms/step - loss: 4.3961 - accuracy: 0.3600\n",
      "63/63 [==============================] - 3s 40ms/step - loss: 4.9057 - accuracy: 0.3195\n",
      "63/63 [==============================] - 3s 40ms/step - loss: 5.2286 - accuracy: 0.3045\n",
      "63/63 [==============================] - 3s 40ms/step - loss: 5.7048 - accuracy: 0.2580\n",
      "63/63 [==============================] - 3s 40ms/step - loss: 6.1455 - accuracy: 0.2370\n",
      "63/63 [==============================] - 3s 40ms/step - loss: 6.4486 - accuracy: 0.2200\n",
      "63/63 [==============================] - 3s 40ms/step - loss: 6.8926 - accuracy: 0.2010\n",
      "63/63 [==============================] - 3s 41ms/step - loss: 7.2657 - accuracy: 0.1805\n",
      "63/63 [==============================] - 3s 40ms/step - loss: 1.3105 - accuracy: 0.7625\n",
      "63/63 [==============================] - 3s 40ms/step - loss: 1.3083 - accuracy: 0.7565\n",
      "63/63 [==============================] - 3s 40ms/step - loss: 1.4301 - accuracy: 0.7500\n",
      "63/63 [==============================] - 3s 40ms/step - loss: 1.4840 - accuracy: 0.7370\n",
      "63/63 [==============================] - 3s 40ms/step - loss: 1.7566 - accuracy: 0.6915\n",
      "63/63 [==============================] - 3s 40ms/step - loss: 1.9523 - accuracy: 0.6650\n",
      "63/63 [==============================] - 3s 40ms/step - loss: 2.2137 - accuracy: 0.6330\n",
      "63/63 [==============================] - 3s 40ms/step - loss: 2.5006 - accuracy: 0.5915\n",
      "63/63 [==============================] - 3s 40ms/step - loss: 2.9369 - accuracy: 0.5320\n",
      "63/63 [==============================] - 3s 40ms/step - loss: 3.1697 - accuracy: 0.5090\n",
      "63/63 [==============================] - 3s 40ms/step - loss: 3.5740 - accuracy: 0.4670\n",
      "63/63 [==============================] - 3s 40ms/step - loss: 3.9378 - accuracy: 0.4215\n",
      "63/63 [==============================] - 3s 40ms/step - loss: 4.5356 - accuracy: 0.3830\n",
      "63/63 [==============================] - 3s 40ms/step - loss: 4.8341 - accuracy: 0.3530\n",
      "63/63 [==============================] - 3s 40ms/step - loss: 5.5033 - accuracy: 0.2960\n",
      "63/63 [==============================] - 3s 40ms/step - loss: 5.9919 - accuracy: 0.2535\n",
      "63/63 [==============================] - 3s 46ms/step - loss: 6.5374 - accuracy: 0.2270\n",
      "63/63 [==============================] - 3s 46ms/step - loss: 7.0423 - accuracy: 0.2100\n",
      "63/63 [==============================] - 3s 45ms/step - loss: 7.2058 - accuracy: 0.1890\n",
      "63/63 [==============================] - 3s 46ms/step - loss: 7.6220 - accuracy: 0.1690\n",
      "63/63 [==============================] - 3s 45ms/step - loss: 8.0928 - accuracy: 0.1555\n",
      "63/63 [==============================] - 3s 45ms/step - loss: 1.3105 - accuracy: 0.7625\n",
      "63/63 [==============================] - 3s 41ms/step - loss: 1.3977 - accuracy: 0.7555\n",
      "63/63 [==============================] - 3s 43ms/step - loss: 1.5109 - accuracy: 0.7390\n",
      "63/63 [==============================] - 3s 42ms/step - loss: 1.6893 - accuracy: 0.7275\n",
      "63/63 [==============================] - 3s 42ms/step - loss: 1.7915 - accuracy: 0.7000\n",
      "63/63 [==============================] - 3s 42ms/step - loss: 1.8716 - accuracy: 0.6850\n",
      "63/63 [==============================] - 3s 42ms/step - loss: 2.2024 - accuracy: 0.6350\n",
      "63/63 [==============================] - 3s 46ms/step - loss: 2.5119 - accuracy: 0.6165\n",
      "63/63 [==============================] - 3s 41ms/step - loss: 2.6910 - accuracy: 0.5935\n",
      "63/63 [==============================] - 3s 41ms/step - loss: 2.9450 - accuracy: 0.5640\n",
      "63/63 [==============================] - 3s 40ms/step - loss: 3.3167 - accuracy: 0.5160\n",
      "63/63 [==============================] - 3s 40ms/step - loss: 3.5948 - accuracy: 0.4710\n",
      "63/63 [==============================] - 3s 40ms/step - loss: 4.0403 - accuracy: 0.4285\n",
      "63/63 [==============================] - 3s 41ms/step - loss: 4.4544 - accuracy: 0.3980\n",
      "63/63 [==============================] - 3s 43ms/step - loss: 4.8809 - accuracy: 0.3595\n",
      "63/63 [==============================] - 3s 40ms/step - loss: 5.2932 - accuracy: 0.3220\n",
      "63/63 [==============================] - 3s 41ms/step - loss: 5.7198 - accuracy: 0.3025\n",
      "63/63 [==============================] - 3s 41ms/step - loss: 6.0686 - accuracy: 0.2745\n",
      "63/63 [==============================] - 3s 41ms/step - loss: 6.5314 - accuracy: 0.2525\n",
      "63/63 [==============================] - 3s 42ms/step - loss: 6.9187 - accuracy: 0.2320\n",
      "63/63 [==============================] - 3s 41ms/step - loss: 7.4045 - accuracy: 0.2005\n"
     ]
    }
   ],
   "source": [
    "filter_result = np.zeros((3, 21))\n",
    "for i in range(3):\n",
    "    for j in range(21):\n",
    "        test_data_single = filter_data[(i * 21 + j) * 2000 : (i * 21 + j) * 2000 + 2000]\n",
    "        result_single = module.evaluate(model, test_data_single, test_index)\n",
    "        filter_result[i][j] = result_single[1]"
   ]
  },
  {
   "cell_type": "code",
   "execution_count": 10,
   "metadata": {},
   "outputs": [
    {
     "data": {
      "image/png": "[encoded data removed]",
      "text/plain": [
       "<Figure size 432x360 with 1 Axes>"
      ]
     },
     "metadata": {
      "needs_background": "light"
     },
     "output_type": "display_data"
    }
   ],
   "source": [
    "plt.figure(figsize=(6,5))\n",
    "plt.plot(p_list/100, random_result[0], 'ro-')\n",
    "plt.plot(p_list/100, random_result[1], 'go-')\n",
    "plt.plot(p_list/100, random_result[2], 'bo-')\n",
    "\n",
    "plt.plot(p_list/100, filter_result[0], 'r^--')\n",
    "plt.plot(p_list/100, filter_result[1], 'g^--')\n",
    "plt.plot(p_list/100, filter_result[2], 'b^--')\n",
    "\n",
    "\n",
    "plt.xlabel('Random Packets Probability', fontsize=18)\n",
    "plt.ylabel('WF Attack Accuracy', fontsize=18)\n",
    "plt.legend(['RPD Small', 'RPD Medium', 'RPD Large', 'FAA Small', 'FAA Medium', 'FAA Large'], fontsize=14)\n",
    "plt.xlim((0,1))\n",
    "plt.ylim((0,1))\n",
    "plt.xticks(fontsize=14)\n",
    "plt.yticks(fontsize=14)\n",
    "plt.grid()\n",
    "plt.savefig('C:/Users/Admin/Desktop/random_filter_' + browser + '.pdf', bbox_inches = 'tight')"
   ]
  },
  {
   "cell_type": "code",
   "execution_count": null,
   "metadata": {},
   "outputs": [],
   "source": []
  },
  {
   "cell_type": "code",
   "execution_count": 11,
   "metadata": {},
   "outputs": [
    {
     "name": "stdout",
     "output_type": "stream",
     "text": [
      "0.2140714263632184\n",
      "0.18507142715333474\n",
      "0.16557142981106326\n",
      "0.489214287627311\n",
      "0.46440476179122925\n",
      "0.5016904778423763\n"
     ]
    }
   ],
   "source": [
    "print(np.average(random_result[0]))\n",
    "print(np.average(random_result[1]))\n",
    "print(np.average(random_result[2]))\n",
    "print(np.average(filter_result[0]))\n",
    "print(np.average(filter_result[1]))\n",
    "print(np.average(filter_result[2]))"
   ]
  },
  {
   "cell_type": "code",
   "execution_count": null,
   "metadata": {},
   "outputs": [],
   "source": []
  }
 ],
 "metadata": {
  "kernelspec": {
   "display_name": "Python 3 (ipykernel)",
   "language": "python",
   "name": "python3"
  },
  "language_info": {
   "codemirror_mode": {
    "name": "ipython",
    "version": 3
   },
   "file_extension": ".py",
   "mimetype": "text/x-python",
   "name": "python",
   "nbconvert_exporter": "python",
   "pygments_lexer": "ipython3",
   "version": "3.7.13"
  }
 },
 "nbformat": 4,
 "nbformat_minor": 2
}
