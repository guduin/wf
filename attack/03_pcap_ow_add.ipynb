{
 "cells": [
  {
   "cell_type": "code",
   "execution_count": 2,
   "metadata": {},
   "outputs": [],
   "source": [
    "import numpy as np\n",
    "import matplotlib.pyplot as plt\n",
    "import pandas as pd\n",
    "\n",
    "import time\n",
    "import pyautogui\n",
    "\n",
    "import os\n",
    "import threading\n",
    "import dpkt\n",
    "\n",
    "import collections as clt"
   ]
  },
  {
   "cell_type": "code",
   "execution_count": null,
   "metadata": {},
   "outputs": [],
   "source": []
  },
  {
   "cell_type": "code",
   "execution_count": 31,
   "metadata": {},
   "outputs": [
    {
     "name": "stdout",
     "output_type": "stream",
     "text": [
      "\r",
      "processing:337-0\r",
      "processing:577-0\r",
      "processing:731-0\r",
      "processing:765-0\r",
      "processing:955-0\r",
      "processing:1007-0\r",
      "processing:1089-0\n",
      "done!\n"
     ]
    }
   ],
   "source": [
    "err_list = list()\n",
    "\n",
    "input_path = 'F:/data_edge/2_pcap_ow/'\n",
    "\n",
    "count_url = 1100\n",
    "count_repeat = 1\n",
    "\n",
    "for A in range(100, count_url):\n",
    "    \n",
    "    for B in range(count_repeat):\n",
    "        \n",
    "        file_name = input_path + str(A) + '-' + str(B) + '.pcap'\n",
    "        \n",
    "        print('\\rprocessing:' + str(A) + '-' + str(B), end='')\n",
    "        \n",
    "        try:\n",
    "            with open(file_name, 'rb') as f:\n",
    "\n",
    "                pcap = dpkt.pcap.Reader(f)\n",
    "\n",
    "                data = list()\n",
    "\n",
    "                for ptime, pdata in pcap:\n",
    "\n",
    "                    data.append(len(pdata))\n",
    "                \n",
    "                if len(data) < 10:\n",
    "                    print('\\tlenerr')\n",
    "                    err_list.append([A, B])\n",
    "                \n",
    "        except Exception as e:\n",
    "            print('\\topenerr')\n",
    "            err_list.append([A, B])\n",
    "            pass\n",
    "                \n",
    "print('\\ndone!')"
   ]
  },
  {
   "cell_type": "code",
   "execution_count": 32,
   "metadata": {},
   "outputs": [
    {
     "data": {
      "text/plain": [
       "0"
      ]
     },
     "execution_count": 32,
     "metadata": {},
     "output_type": "execute_result"
    }
   ],
   "source": [
    "len(err_list)"
   ]
  },
  {
   "cell_type": "code",
   "execution_count": 33,
   "metadata": {},
   "outputs": [
    {
     "data": {
      "text/plain": [
       "[]"
      ]
     },
     "execution_count": 33,
     "metadata": {},
     "output_type": "execute_result"
    }
   ],
   "source": [
    "err_list"
   ]
  },
  {
   "cell_type": "code",
   "execution_count": 28,
   "metadata": {},
   "outputs": [],
   "source": [
    "def windump_thread(file_name, filt):\n",
    "    os.system('windump -i 1 -s 65535 -w ' + file_name + ' src or dst ' + filt)\n",
    "    \n",
    "def visit_thread(url):\n",
    "    os.system('msedge ' + url)"
   ]
  },
  {
   "cell_type": "code",
   "execution_count": null,
   "metadata": {},
   "outputs": [],
   "source": []
  },
  {
   "cell_type": "code",
   "execution_count": 29,
   "metadata": {},
   "outputs": [
    {
     "name": "stdout",
     "output_type": "stream",
     "text": [
      "capturing: 1089 - 0  6/6  news.jxcn.cn                    \n",
      "done!\n"
     ]
    }
   ],
   "source": [
    "url_path = 'F:/data_edge/1_url/url.csv'\n",
    "out_path = 'F:/data_edge/2_pcap_ow/'\n",
    "\n",
    "df_url = pd.read_csv(url_path, header=None)\n",
    "\n",
    "count = 0\n",
    "\n",
    "for A, B in err_list:\n",
    "    \n",
    "    url = df_url.iloc[A, 1]\n",
    "\n",
    "    count += 1\n",
    "    print('\\r                                                          ', end='')\n",
    "    print('\\rcapturing:', A, '-', B, end='  ')\n",
    "    print(str(count) + '/' + str(len(err_list)), end='  ')\n",
    "    print(url, end='  ')\n",
    "\n",
    "    t1 = threading.Thread(target=windump_thread, \n",
    "                          args=(out_path + str(A) + '-' + str(B) + '.pcap', url))\n",
    "    t1.start()\n",
    "\n",
    "    time.sleep(1)\n",
    "\n",
    "    t2 = threading.Thread(target=visit_thread, \n",
    "                          args=(url,))\n",
    "    t2.start()\n",
    "\n",
    "    time.sleep(3)\n",
    "    loading_time = 0\n",
    "    while(pyautogui.pixel(755,60) == (30,30,30)):\n",
    "        time.sleep(1)\n",
    "        loading_time += 1\n",
    "        if loading_time >= 20:\n",
    "            break\n",
    "\n",
    "    time.sleep(1)\n",
    "\n",
    "    pyautogui.screenshot(out_path + str(A) + '-' + str(B) + '.jpg')\n",
    "\n",
    "    os.system('taskkill /F /IM windump.exe')\n",
    "    os.system('taskkill /F /IM msedge.exe')\n",
    "\n",
    "    time.sleep(1)\n",
    "    \n",
    "print('\\ndone!')"
   ]
  },
  {
   "cell_type": "code",
   "execution_count": null,
   "metadata": {},
   "outputs": [],
   "source": []
  },
  {
   "cell_type": "code",
   "execution_count": null,
   "metadata": {},
   "outputs": [],
   "source": [
    "import os\n",
    "os.system('taskkill /F /IM windump.exe')"
   ]
  },
  {
   "cell_type": "code",
   "execution_count": null,
   "metadata": {},
   "outputs": [],
   "source": []
  }
 ],
 "metadata": {
  "kernelspec": {
   "display_name": "Python 3",
   "language": "python",
   "name": "python3"
  },
  "language_info": {
   "codemirror_mode": {
    "name": "ipython",
    "version": 3
   },
   "file_extension": ".py",
   "mimetype": "text/x-python",
   "name": "python",
   "nbconvert_exporter": "python",
   "pygments_lexer": "ipython3",
   "version": "3.7.0"
  }
 },
 "nbformat": 4,
 "nbformat_minor": 2
}
