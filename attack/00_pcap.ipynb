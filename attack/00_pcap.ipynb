{
 "cells": [
  {
   "cell_type": "code",
   "execution_count": 1,
   "metadata": {},
   "outputs": [],
   "source": [
    "import numpy as np\n",
    "import matplotlib.pyplot as plt\n",
    "import pandas as pd\n",
    "\n",
    "import time\n",
    "import pyautogui\n",
    "\n",
    "import os\n",
    "import threading"
   ]
  },
  {
   "cell_type": "code",
   "execution_count": 2,
   "metadata": {},
   "outputs": [],
   "source": [
    "def windump_thread(file_name, filt):\n",
    "    os.system('windump -i 1 -s 65535 -w ' + file_name + ' src or dst ' + filt)\n",
    "    \n",
    "def visit_thread(url):\n",
    "    os.system('msedge ' + url)"
   ]
  },
  {
   "cell_type": "code",
   "execution_count": 4,
   "metadata": {},
   "outputs": [
    {
     "name": "stdout",
     "output_type": "stream",
     "text": [
      "capturing: 99 - 99  9000/10000  www.icauto.com.cn         \n",
      "done!\n"
     ]
    }
   ],
   "source": [
    "url_path = 'F:/data_edge/1_url/url.csv'\n",
    "out_path = 'F:/data_edge/2_pcap/'\n",
    "\n",
    "count_url = 100\n",
    "count_repeat = 100\n",
    "count_batch = 10\n",
    "\n",
    "count = 0\n",
    "\n",
    "df_url = pd.read_csv(url_path, header=None)\n",
    "\n",
    "for C in range(0, int(count_url / count_batch)):\n",
    "\n",
    "    for B in range(count_repeat):\n",
    "\n",
    "        for A in range(C * count_batch, C * count_batch + count_batch):\n",
    "           \n",
    "            url = df_url.iloc[A, 1]\n",
    "\n",
    "            count += 1\n",
    "            print('\\r                                                          ', end='')\n",
    "            print('\\rcapturing:', A, '-', B, end='  ')\n",
    "            print(str(count) + '/' + str(count_url * count_repeat), end='  ')\n",
    "            print(url, end='  ')\n",
    "\n",
    "            t1 = threading.Thread(target=windump_thread, \n",
    "                                  args=(out_path + str(A) + '-' + str(B) + '.pcap', url))\n",
    "            t1.start()\n",
    "            \n",
    "            time.sleep(1)\n",
    "            \n",
    "            t2 = threading.Thread(target=visit_thread, \n",
    "                                  args=(url,))\n",
    "            t2.start()\n",
    "    \n",
    "            time.sleep(3)\n",
    "            loading_time = 0\n",
    "            while(pyautogui.pixel(755,60) == (30,30,30)):\n",
    "                time.sleep(1)\n",
    "                loading_time += 1\n",
    "                if loading_time >= 20:\n",
    "                    break\n",
    "                    \n",
    "            time.sleep(1)\n",
    "            \n",
    "            pyautogui.screenshot(out_path + str(A) + '-' + str(B) + '.jpg')\n",
    "\n",
    "            os.system('taskkill /F /IM windump.exe')\n",
    "            os.system('taskkill /F /IM msedge.exe')\n",
    "\n",
    "            time.sleep(1)\n",
    "    \n",
    "print('\\ndone!')"
   ]
  },
  {
   "cell_type": "code",
   "execution_count": null,
   "metadata": {},
   "outputs": [],
   "source": []
  },
  {
   "cell_type": "code",
   "execution_count": 1,
   "metadata": {},
   "outputs": [
    {
     "data": {
      "text/plain": [
       "0"
      ]
     },
     "execution_count": 1,
     "metadata": {},
     "output_type": "execute_result"
    }
   ],
   "source": [
    "import os\n",
    "os.system('taskkill /F /IM windump.exe')"
   ]
  },
  {
   "cell_type": "code",
   "execution_count": null,
   "metadata": {},
   "outputs": [],
   "source": []
  }
 ],
 "metadata": {
  "kernelspec": {
   "display_name": "Python 3",
   "language": "python",
   "name": "python3"
  },
  "language_info": {
   "codemirror_mode": {
    "name": "ipython",
    "version": 3
   },
   "file_extension": ".py",
   "mimetype": "text/x-python",
   "name": "python",
   "nbconvert_exporter": "python",
   "pygments_lexer": "ipython3",
   "version": "3.7.0"
  }
 },
 "nbformat": 4,
 "nbformat_minor": 2
}
