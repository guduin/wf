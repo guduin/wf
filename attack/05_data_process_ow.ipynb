{
 "cells": [
  {
   "cell_type": "code",
   "execution_count": 1,
   "metadata": {},
   "outputs": [],
   "source": [
    "import numpy as np\n",
    "import matplotlib.pyplot as plt\n",
    "import pandas as pd\n",
    "\n",
    "import dpkt\n",
    "\n",
    "import collections as clt"
   ]
  },
  {
   "cell_type": "code",
   "execution_count": 2,
   "metadata": {},
   "outputs": [],
   "source": [
    "def resize(arr, size):\n",
    "    if len(arr) >= size:\n",
    "        return arr[0:size]\n",
    "    return np.pad(arr,(0,size - len(arr)))"
   ]
  },
  {
   "cell_type": "code",
   "execution_count": 3,
   "metadata": {
    "scrolled": true
   },
   "outputs": [
    {
     "name": "stdout",
     "output_type": "stream",
     "text": [
      "processing:1086-0\ttail\n",
      "processing:1099-0\n",
      "done!\n"
     ]
    }
   ],
   "source": [
    "data_frame = list()\n",
    "\n",
    "local_mac = b'\\xc8\\x3d\\xd4\\x99\\x71\\x67'\n",
    "resize_len = 1000\n",
    "input_path = 'F:/data_edge/2_pcap_ow/'\n",
    "\n",
    "count_url = 1000\n",
    "count_repeat = 1\n",
    "\n",
    "for A in range(100, count_url + 100):\n",
    "    \n",
    "    for B in range(count_repeat):\n",
    "        \n",
    "        file_name = input_path + str(A) + '-' + str(B) + '.pcap'\n",
    "        \n",
    "        print('\\rprocessing:' + str(A) + '-' + str(B), end='')\n",
    "        \n",
    "        try:\n",
    "            with open(file_name, 'rb') as f:\n",
    "\n",
    "                pcap = dpkt.pcap.Reader(f)\n",
    "\n",
    "                data = list()\n",
    "                data.append(A)\n",
    "                data.append(B)\n",
    "\n",
    "                for ptime, pdata in pcap:\n",
    "\n",
    "                    try:\n",
    "                        eth = dpkt.ethernet.Ethernet(pdata)\n",
    "                        mac_src = eth.src\n",
    "                        mac_dst = eth.dst\n",
    "\n",
    "                        if mac_src == local_mac:\n",
    "                            data.append(len(pdata))\n",
    "                        elif mac_dst == local_mac:\n",
    "                            data.append(-len(pdata))\n",
    "                        else:\n",
    "                            pass\n",
    "                    except:\n",
    "                        print('\\ttail')\n",
    "\n",
    "                data_list = np.array(data)\n",
    "                data_list = resize(data_list, resize_len + 2)\n",
    "                data_list = np.array([data_list])\n",
    "\n",
    "                if len(data_frame) == 0:\n",
    "                    data_frame = data_list\n",
    "                else:\n",
    "                    data_frame = np.append(data_frame, data_list, axis=0)\n",
    "        except Exception as e:\n",
    "            print('\\topenerr')\n",
    "            pass\n",
    "                \n",
    "print('\\ndone!')"
   ]
  },
  {
   "cell_type": "code",
   "execution_count": 4,
   "metadata": {},
   "outputs": [
    {
     "data": {
      "text/plain": [
       "(1000, 1002)"
      ]
     },
     "execution_count": 4,
     "metadata": {},
     "output_type": "execute_result"
    }
   ],
   "source": [
    "data_frame.shape"
   ]
  },
  {
   "cell_type": "code",
   "execution_count": 5,
   "metadata": {},
   "outputs": [],
   "source": [
    "out_path = 'F:/data_edge/3_data/'\n",
    "\n",
    "df_data = pd.DataFrame(data_frame)\n",
    "df_data.to_csv(out_path + 'data_ow.csv', index=None, header=None)"
   ]
  },
  {
   "cell_type": "code",
   "execution_count": null,
   "metadata": {},
   "outputs": [],
   "source": []
  }
 ],
 "metadata": {
  "kernelspec": {
   "display_name": "Python 3",
   "language": "python",
   "name": "python3"
  },
  "language_info": {
   "codemirror_mode": {
    "name": "ipython",
    "version": 3
   },
   "file_extension": ".py",
   "mimetype": "text/x-python",
   "name": "python",
   "nbconvert_exporter": "python",
   "pygments_lexer": "ipython3",
   "version": "3.7.0"
  }
 },
 "nbformat": 4,
 "nbformat_minor": 2
}
